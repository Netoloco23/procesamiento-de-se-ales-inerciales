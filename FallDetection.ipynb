{
 "cells": [
  {
   "cell_type": "markdown",
   "id": "a44a36d9",
   "metadata": {},
   "source": [
    "# Importación de librerias"
   ]
  },
  {
   "cell_type": "code",
   "execution_count": 316,
   "id": "4a546981",
   "metadata": {},
   "outputs": [],
   "source": [
    "import numpy as np\n",
    "import os\n",
    "from os import walk\n",
    "import pandas as pd\n",
    "import tsfel\n",
    "import matplotlib.pyplot as plt\n",
    "%matplotlib inline\n",
    "import seaborn as sns\n",
    "from sklearn.model_selection import train_test_split\n",
    "from sklearn.metrics import accuracy_score\n",
    "from sklearn.preprocessing import StandardScaler\n",
    "from sklearn import svm\n",
    "from sklearn.neighbors import KNeighborsClassifier\n",
    "from sklearn.naive_bayes import GaussianNB\n",
    "from sklearn.tree import DecisionTreeClassifier\n",
    "from sklearn.ensemble import RandomForestClassifier"
   ]
  },
  {
   "cell_type": "markdown",
   "id": "03002cd6",
   "metadata": {},
   "source": [
    "# Lectura de archivos de caidas/no caidas"
   ]
  },
  {
   "cell_type": "code",
   "execution_count": 332,
   "id": "a3282246",
   "metadata": {
    "scrolled": true
   },
   "outputs": [
    {
     "data": {
      "image/png": "[encoded data removed]",
      "text/plain": [
       "<Figure size 432x288 with 1 Axes>"
      ]
     },
     "metadata": {
      "needs_background": "light"
     },
     "output_type": "display_data"
    }
   ],
   "source": [
    "df = pd.read_csv('No_Caida/1.csv')\n",
    "#df = df.drop(df.columns[7], axis=1)\n",
    "#df.to_csv('No_Caidas/012.csv', index=False)\n",
    "df.plot()\n",
    "plt.show()"
   ]
  },
  {
   "cell_type": "code",
   "execution_count": 333,
   "id": "7f8d82f5",
   "metadata": {},
   "outputs": [
    {
     "data": {
      "text/html": [
       "<div>\n",
       "<style scoped>\n",
       "    .dataframe tbody tr th:only-of-type {\n",
       "        vertical-align: middle;\n",
       "    }\n",
       "\n",
       "    .dataframe tbody tr th {\n",
       "        vertical-align: top;\n",
       "    }\n",
       "\n",
       "    .dataframe thead th {\n",
       "        text-align: right;\n",
       "    }\n",
       "</style>\n",
       "<table border=\"1\" class=\"dataframe\">\n",
       "  <thead>\n",
       "    <tr style=\"text-align: right;\">\n",
       "      <th></th>\n",
       "      <th>time</th>\n",
       "      <th>ax</th>\n",
       "      <th>ay</th>\n",
       "      <th>az</th>\n",
       "      <th>wx</th>\n",
       "      <th>wy</th>\n",
       "      <th>wz</th>\n",
       "    </tr>\n",
       "  </thead>\n",
       "  <tbody>\n",
       "    <tr>\n",
       "      <th>0</th>\n",
       "      <td>0.002</td>\n",
       "      <td>-0.36</td>\n",
       "      <td>-0.22</td>\n",
       "      <td>-1.12</td>\n",
       "      <td>-0.29</td>\n",
       "      <td>0.06</td>\n",
       "      <td>-0.01</td>\n",
       "    </tr>\n",
       "    <tr>\n",
       "      <th>1</th>\n",
       "      <td>0.002</td>\n",
       "      <td>-0.28</td>\n",
       "      <td>-0.22</td>\n",
       "      <td>-1.09</td>\n",
       "      <td>-0.29</td>\n",
       "      <td>0.06</td>\n",
       "      <td>-0.01</td>\n",
       "    </tr>\n",
       "    <tr>\n",
       "      <th>2</th>\n",
       "      <td>0.003</td>\n",
       "      <td>-0.28</td>\n",
       "      <td>-0.22</td>\n",
       "      <td>-1.09</td>\n",
       "      <td>-0.32</td>\n",
       "      <td>0.05</td>\n",
       "      <td>0.00</td>\n",
       "    </tr>\n",
       "    <tr>\n",
       "      <th>3</th>\n",
       "      <td>0.003</td>\n",
       "      <td>-0.28</td>\n",
       "      <td>-0.22</td>\n",
       "      <td>-1.09</td>\n",
       "      <td>-0.35</td>\n",
       "      <td>0.05</td>\n",
       "      <td>0.01</td>\n",
       "    </tr>\n",
       "    <tr>\n",
       "      <th>4</th>\n",
       "      <td>0.003</td>\n",
       "      <td>-0.26</td>\n",
       "      <td>-0.27</td>\n",
       "      <td>-0.98</td>\n",
       "      <td>-0.35</td>\n",
       "      <td>0.05</td>\n",
       "      <td>0.01</td>\n",
       "    </tr>\n",
       "  </tbody>\n",
       "</table>\n",
       "</div>"
      ],
      "text/plain": [
       "    time    ax    ay    az    wx    wy    wz\n",
       "0  0.002 -0.36 -0.22 -1.12 -0.29  0.06 -0.01\n",
       "1  0.002 -0.28 -0.22 -1.09 -0.29  0.06 -0.01\n",
       "2  0.003 -0.28 -0.22 -1.09 -0.32  0.05  0.00\n",
       "3  0.003 -0.28 -0.22 -1.09 -0.35  0.05  0.01\n",
       "4  0.003 -0.26 -0.27 -0.98 -0.35  0.05  0.01"
      ]
     },
     "execution_count": 333,
     "metadata": {},
     "output_type": "execute_result"
    }
   ],
   "source": [
    "df.head(5)"
   ]
  },
  {
   "cell_type": "code",
   "execution_count": 334,
   "id": "817fa334",
   "metadata": {},
   "outputs": [
    {
     "data": {
      "text/html": [
       "<div>\n",
       "<style scoped>\n",
       "    .dataframe tbody tr th:only-of-type {\n",
       "        vertical-align: middle;\n",
       "    }\n",
       "\n",
       "    .dataframe tbody tr th {\n",
       "        vertical-align: top;\n",
       "    }\n",
       "\n",
       "    .dataframe thead th {\n",
       "        text-align: right;\n",
       "    }\n",
       "</style>\n",
       "<table border=\"1\" class=\"dataframe\">\n",
       "  <thead>\n",
       "    <tr style=\"text-align: right;\">\n",
       "      <th></th>\n",
       "      <th>time</th>\n",
       "      <th>ax</th>\n",
       "      <th>ay</th>\n",
       "      <th>az</th>\n",
       "      <th>wx</th>\n",
       "      <th>wy</th>\n",
       "      <th>wz</th>\n",
       "    </tr>\n",
       "  </thead>\n",
       "  <tbody>\n",
       "    <tr>\n",
       "      <th>count</th>\n",
       "      <td>78457.000000</td>\n",
       "      <td>78457.000000</td>\n",
       "      <td>78457.000000</td>\n",
       "      <td>78457.000000</td>\n",
       "      <td>78457.000000</td>\n",
       "      <td>78457.000000</td>\n",
       "      <td>78457.000000</td>\n",
       "    </tr>\n",
       "    <tr>\n",
       "      <th>mean</th>\n",
       "      <td>60.338272</td>\n",
       "      <td>0.015238</td>\n",
       "      <td>-0.109292</td>\n",
       "      <td>-0.097004</td>\n",
       "      <td>-0.036515</td>\n",
       "      <td>0.073891</td>\n",
       "      <td>-0.011260</td>\n",
       "    </tr>\n",
       "    <tr>\n",
       "      <th>std</th>\n",
       "      <td>34.841856</td>\n",
       "      <td>1.172324</td>\n",
       "      <td>1.059096</td>\n",
       "      <td>1.647813</td>\n",
       "      <td>0.668752</td>\n",
       "      <td>0.848634</td>\n",
       "      <td>0.349283</td>\n",
       "    </tr>\n",
       "    <tr>\n",
       "      <th>min</th>\n",
       "      <td>0.002000</td>\n",
       "      <td>-8.500000</td>\n",
       "      <td>-31.410000</td>\n",
       "      <td>-9.390000</td>\n",
       "      <td>-4.090000</td>\n",
       "      <td>-8.380000</td>\n",
       "      <td>-5.760000</td>\n",
       "    </tr>\n",
       "    <tr>\n",
       "      <th>25%</th>\n",
       "      <td>30.165000</td>\n",
       "      <td>-0.270000</td>\n",
       "      <td>-0.230000</td>\n",
       "      <td>-0.350000</td>\n",
       "      <td>-0.160000</td>\n",
       "      <td>-0.160000</td>\n",
       "      <td>-0.050000</td>\n",
       "    </tr>\n",
       "    <tr>\n",
       "      <th>50%</th>\n",
       "      <td>60.335000</td>\n",
       "      <td>-0.010000</td>\n",
       "      <td>-0.020000</td>\n",
       "      <td>-0.040000</td>\n",
       "      <td>-0.010000</td>\n",
       "      <td>0.010000</td>\n",
       "      <td>0.000000</td>\n",
       "    </tr>\n",
       "    <tr>\n",
       "      <th>75%</th>\n",
       "      <td>90.522000</td>\n",
       "      <td>0.250000</td>\n",
       "      <td>0.160000</td>\n",
       "      <td>0.210000</td>\n",
       "      <td>0.090000</td>\n",
       "      <td>0.280000</td>\n",
       "      <td>0.050000</td>\n",
       "    </tr>\n",
       "    <tr>\n",
       "      <th>max</th>\n",
       "      <td>120.682000</td>\n",
       "      <td>16.470000</td>\n",
       "      <td>6.680000</td>\n",
       "      <td>25.440000</td>\n",
       "      <td>5.120000</td>\n",
       "      <td>6.350000</td>\n",
       "      <td>2.370000</td>\n",
       "    </tr>\n",
       "  </tbody>\n",
       "</table>\n",
       "</div>"
      ],
      "text/plain": [
       "               time            ax            ay            az            wx  \\\n",
       "count  78457.000000  78457.000000  78457.000000  78457.000000  78457.000000   \n",
       "mean      60.338272      0.015238     -0.109292     -0.097004     -0.036515   \n",
       "std       34.841856      1.172324      1.059096      1.647813      0.668752   \n",
       "min        0.002000     -8.500000    -31.410000     -9.390000     -4.090000   \n",
       "25%       30.165000     -0.270000     -0.230000     -0.350000     -0.160000   \n",
       "50%       60.335000     -0.010000     -0.020000     -0.040000     -0.010000   \n",
       "75%       90.522000      0.250000      0.160000      0.210000      0.090000   \n",
       "max      120.682000     16.470000      6.680000     25.440000      5.120000   \n",
       "\n",
       "                 wy            wz  \n",
       "count  78457.000000  78457.000000  \n",
       "mean       0.073891     -0.011260  \n",
       "std        0.848634      0.349283  \n",
       "min       -8.380000     -5.760000  \n",
       "25%       -0.160000     -0.050000  \n",
       "50%        0.010000      0.000000  \n",
       "75%        0.280000      0.050000  \n",
       "max        6.350000      2.370000  "
      ]
     },
     "execution_count": 334,
     "metadata": {},
     "output_type": "execute_result"
    }
   ],
   "source": [
    "df.describe()"
   ]
  },
  {
   "cell_type": "code",
   "execution_count": 335,
   "id": "572758e5",
   "metadata": {},
   "outputs": [
    {
     "name": "stdout",
     "output_type": "stream",
     "text": [
      "78457\n",
      "78457\n",
      "No se han encontrado datos nulos\n"
     ]
    }
   ],
   "source": [
    "len_df = len(df)\n",
    "print(len_df)\n",
    "df.dropna(inplace=True) \n",
    "len_after_df = len(df)\n",
    "print(len_after_df)\n",
    "\n",
    "if len(df) == len(df.dropna()):\n",
    "    print(\"No se han encontrado datos nulos\")\n",
    "else:\n",
    "    print(\"Se encontraron \" + str(len_df - len_after_df) + \" nulos\")"
   ]
  },
  {
   "cell_type": "markdown",
   "id": "7fbae0b4",
   "metadata": {},
   "source": [
    "# Graficación de acelerometro y giroscopio"
   ]
  },
  {
   "cell_type": "code",
   "execution_count": 336,
   "id": "5a32c1f7",
   "metadata": {},
   "outputs": [
    {
     "data": {
      "image/png": "[encoded data removed]",
      "text/plain": [
       "<Figure size 432x288 with 1 Axes>"
      ]
     },
     "metadata": {
      "needs_background": "light"
     },
     "output_type": "display_data"
    }
   ],
   "source": [
    "plt.title(\"Acelerometro\")\n",
    "plt.xlabel(\"Tiempo (segundos)\")\n",
    "plt.ylabel(\"Acelerometro (m/s^2)\")\n",
    "plt.plot(df['time'], df['az'], label='az')\n",
    "plt.plot(df['time'], df['ax'], label='ax')\n",
    "plt.plot(df['time'], df['ay'], label='ay')\n",
    "\n",
    "plt.legend()\n",
    "plt.show()"
   ]
  },
  {
   "cell_type": "code",
   "execution_count": 337,
   "id": "80f50547",
   "metadata": {},
   "outputs": [
    {
     "data": {
      "image/png": "[encoded data removed]",
      "text/plain": [
       "<Figure size 432x288 with 1 Axes>"
      ]
     },
     "metadata": {
      "needs_background": "light"
     },
     "output_type": "display_data"
    }
   ],
   "source": [
    "plt.title(\"Giroscopio\")\n",
    "plt.xlabel(\"Tiempo (segundos)\")\n",
    "plt.ylabel(\"Giroscopio (Grados/segundo)\")\n",
    "plt.plot(df['time'], df['wy'], label='wy')\n",
    "plt.plot(df['time'], df['wx'], label='wx')\n",
    "plt.plot(df['time'], df['wz'], label='wz')\n",
    "plt.legend()\n",
    "plt.show()"
   ]
  },
  {
   "cell_type": "markdown",
   "id": "06f3421f",
   "metadata": {},
   "source": [
    "# Extracción de características de caidas"
   ]
  },
  {
   "cell_type": "code",
   "execution_count": 317,
   "id": "e9f5cb5f",
   "metadata": {},
   "outputs": [
    {
     "name": "stdout",
     "output_type": "stream",
     "text": [
      "['1.csv', '2.csv', '3.csv', '4.csv', '5.csv', '6.csv', '7.csv', '8.csv']\n",
      "*** Feature extraction started ***\n",
      "60\n"
     ]
    },
    {
     "name": "stderr",
     "output_type": "stream",
     "text": [
      "C:\\Users\\Jonathan\\AppData\\Local\\Temp\\ipykernel_8824\\591833966.py:10: UserWarning: Using default sampling frequency set in configuration file.\n",
      "  ax_extracted_features = tsfel.time_series_features_extractor(cfg, df['ax'], windows_size=100)\n"
     ]
    },
    {
     "data": {
      "text/html": [
       "\n",
       "              <p>\n",
       "                  Progress: 100% Complete\n",
       "              <p/>            \n",
       "              <progress\n",
       "                  value='60'\n",
       "                  max='60',\n",
       "                  style='width: 25%',\n",
       "              >\n",
       "                  60\n",
       "              </progress>\n",
       "\n",
       "    "
      ],
      "text/plain": [
       "<IPython.core.display.HTML object>"
      ]
     },
     "metadata": {},
     "output_type": "display_data"
    },
    {
     "name": "stdout",
     "output_type": "stream",
     "text": [
      "*** Feature extraction started ***\n",
      "60\n"
     ]
    },
    {
     "name": "stderr",
     "output_type": "stream",
     "text": [
      "C:\\Users\\Jonathan\\AppData\\Local\\Temp\\ipykernel_8824\\591833966.py:11: UserWarning: Using default sampling frequency set in configuration file.\n",
      "  ay_extracted_features = tsfel.time_series_features_extractor(cfg, df['ay'], windows_size=100)\n"
     ]
    },
    {
     "data": {
      "text/html": [
       "\n",
       "              <p>\n",
       "                  Progress: 100% Complete\n",
       "              <p/>            \n",
       "              <progress\n",
       "                  value='60'\n",
       "                  max='60',\n",
       "                  style='width: 25%',\n",
       "              >\n",
       "                  60\n",
       "              </progress>\n",
       "\n",
       "    "
      ],
      "text/plain": [
       "<IPython.core.display.HTML object>"
      ]
     },
     "metadata": {},
     "output_type": "display_data"
    },
    {
     "name": "stdout",
     "output_type": "stream",
     "text": [
      "*** Feature extraction started ***\n",
      "60\n"
     ]
    },
    {
     "name": "stderr",
     "output_type": "stream",
     "text": [
      "C:\\Users\\Jonathan\\AppData\\Local\\Temp\\ipykernel_8824\\591833966.py:12: UserWarning: Using default sampling frequency set in configuration file.\n",
      "  az_extracted_features = tsfel.time_series_features_extractor(cfg, df['az'], windows_size=100)\n"
     ]
    },
    {
     "data": {
      "text/html": [
       "\n",
       "              <p>\n",
       "                  Progress: 100% Complete\n",
       "              <p/>            \n",
       "              <progress\n",
       "                  value='60'\n",
       "                  max='60',\n",
       "                  style='width: 25%',\n",
       "              >\n",
       "                  60\n",
       "              </progress>\n",
       "\n",
       "    "
      ],
      "text/plain": [
       "<IPython.core.display.HTML object>"
      ]
     },
     "metadata": {},
     "output_type": "display_data"
    },
    {
     "name": "stdout",
     "output_type": "stream",
     "text": [
      "*** Feature extraction started ***\n",
      "60\n"
     ]
    },
    {
     "name": "stderr",
     "output_type": "stream",
     "text": [
      "C:\\Users\\Jonathan\\AppData\\Local\\Temp\\ipykernel_8824\\591833966.py:14: UserWarning: Using default sampling frequency set in configuration file.\n",
      "  wx_extracted_features = tsfel.time_series_features_extractor(cfg, df['wx'], windows_size=100)\n"
     ]
    },
    {
     "data": {
      "text/html": [
       "\n",
       "              <p>\n",
       "                  Progress: 100% Complete\n",
       "              <p/>            \n",
       "              <progress\n",
       "                  value='60'\n",
       "                  max='60',\n",
       "                  style='width: 25%',\n",
       "              >\n",
       "                  60\n",
       "              </progress>\n",
       "\n",
       "    "
      ],
      "text/plain": [
       "<IPython.core.display.HTML object>"
      ]
     },
     "metadata": {},
     "output_type": "display_data"
    },
    {
     "name": "stdout",
     "output_type": "stream",
     "text": [
      "*** Feature extraction started ***\n",
      "60\n"
     ]
    },
    {
     "name": "stderr",
     "output_type": "stream",
     "text": [
      "C:\\Users\\Jonathan\\AppData\\Local\\Temp\\ipykernel_8824\\591833966.py:15: UserWarning: Using default sampling frequency set in configuration file.\n",
      "  wy_extracted_features = tsfel.time_series_features_extractor(cfg, df['wy'], windows_size=100)\n"
     ]
    },
    {
     "data": {
      "text/html": [
       "\n",
       "              <p>\n",
       "                  Progress: 100% Complete\n",
       "              <p/>            \n",
       "              <progress\n",
       "                  value='60'\n",
       "                  max='60',\n",
       "                  style='width: 25%',\n",
       "              >\n",
       "                  60\n",
       "              </progress>\n",
       "\n",
       "    "
      ],
      "text/plain": [
       "<IPython.core.display.HTML object>"
      ]
     },
     "metadata": {},
     "output_type": "display_data"
    },
    {
     "name": "stdout",
     "output_type": "stream",
     "text": [
      "*** Feature extraction started ***\n",
      "60\n"
     ]
    },
    {
     "name": "stderr",
     "output_type": "stream",
     "text": [
      "C:\\Users\\Jonathan\\AppData\\Local\\Temp\\ipykernel_8824\\591833966.py:16: UserWarning: Using default sampling frequency set in configuration file.\n",
      "  wz_extracted_features = tsfel.time_series_features_extractor(cfg, df['wz'], windows_size=100)\n"
     ]
    },
    {
     "data": {
      "text/html": [
       "\n",
       "              <p>\n",
       "                  Progress: 100% Complete\n",
       "              <p/>            \n",
       "              <progress\n",
       "                  value='60'\n",
       "                  max='60',\n",
       "                  style='width: 25%',\n",
       "              >\n",
       "                  60\n",
       "              </progress>\n",
       "\n",
       "    "
      ],
      "text/plain": [
       "<IPython.core.display.HTML object>"
      ]
     },
     "metadata": {},
     "output_type": "display_data"
    },
    {
     "name": "stdout",
     "output_type": "stream",
     "text": [
      "*** Feature extraction started ***\n",
      "60\n"
     ]
    },
    {
     "name": "stderr",
     "output_type": "stream",
     "text": [
      "C:\\Users\\Jonathan\\AppData\\Local\\Temp\\ipykernel_8824\\591833966.py:10: UserWarning: Using default sampling frequency set in configuration file.\n",
      "  ax_extracted_features = tsfel.time_series_features_extractor(cfg, df['ax'], windows_size=100)\n"
     ]
    },
    {
     "data": {
      "text/html": [
       "\n",
       "              <p>\n",
       "                  Progress: 100% Complete\n",
       "              <p/>            \n",
       "              <progress\n",
       "                  value='60'\n",
       "                  max='60',\n",
       "                  style='width: 25%',\n",
       "              >\n",
       "                  60\n",
       "              </progress>\n",
       "\n",
       "    "
      ],
      "text/plain": [
       "<IPython.core.display.HTML object>"
      ]
     },
     "metadata": {},
     "output_type": "display_data"
    },
    {
     "name": "stdout",
     "output_type": "stream",
     "text": [
      "*** Feature extraction started ***\n",
      "60\n"
     ]
    },
    {
     "name": "stderr",
     "output_type": "stream",
     "text": [
      "C:\\Users\\Jonathan\\AppData\\Local\\Temp\\ipykernel_8824\\591833966.py:11: UserWarning: Using default sampling frequency set in configuration file.\n",
      "  ay_extracted_features = tsfel.time_series_features_extractor(cfg, df['ay'], windows_size=100)\n"
     ]
    },
    {
     "data": {
      "text/html": [
       "\n",
       "              <p>\n",
       "                  Progress: 100% Complete\n",
       "              <p/>            \n",
       "              <progress\n",
       "                  value='60'\n",
       "                  max='60',\n",
       "                  style='width: 25%',\n",
       "              >\n",
       "                  60\n",
       "              </progress>\n",
       "\n",
       "    "
      ],
      "text/plain": [
       "<IPython.core.display.HTML object>"
      ]
     },
     "metadata": {},
     "output_type": "display_data"
    },
    {
     "name": "stdout",
     "output_type": "stream",
     "text": [
      "*** Feature extraction started ***\n",
      "60\n"
     ]
    },
    {
     "name": "stderr",
     "output_type": "stream",
     "text": [
      "C:\\Users\\Jonathan\\AppData\\Local\\Temp\\ipykernel_8824\\591833966.py:12: UserWarning: Using default sampling frequency set in configuration file.\n",
      "  az_extracted_features = tsfel.time_series_features_extractor(cfg, df['az'], windows_size=100)\n"
     ]
    },
    {
     "data": {
      "text/html": [
       "\n",
       "              <p>\n",
       "                  Progress: 100% Complete\n",
       "              <p/>            \n",
       "              <progress\n",
       "                  value='60'\n",
       "                  max='60',\n",
       "                  style='width: 25%',\n",
       "              >\n",
       "                  60\n",
       "              </progress>\n",
       "\n",
       "    "
      ],
      "text/plain": [
       "<IPython.core.display.HTML object>"
      ]
     },
     "metadata": {},
     "output_type": "display_data"
    },
    {
     "name": "stdout",
     "output_type": "stream",
     "text": [
      "*** Feature extraction started ***\n",
      "60\n"
     ]
    },
    {
     "name": "stderr",
     "output_type": "stream",
     "text": [
      "C:\\Users\\Jonathan\\AppData\\Local\\Temp\\ipykernel_8824\\591833966.py:14: UserWarning: Using default sampling frequency set in configuration file.\n",
      "  wx_extracted_features = tsfel.time_series_features_extractor(cfg, df['wx'], windows_size=100)\n"
     ]
    },
    {
     "data": {
      "text/html": [
       "\n",
       "              <p>\n",
       "                  Progress: 100% Complete\n",
       "              <p/>            \n",
       "              <progress\n",
       "                  value='60'\n",
       "                  max='60',\n",
       "                  style='width: 25%',\n",
       "              >\n",
       "                  60\n",
       "              </progress>\n",
       "\n",
       "    "
      ],
      "text/plain": [
       "<IPython.core.display.HTML object>"
      ]
     },
     "metadata": {},
     "output_type": "display_data"
    },
    {
     "name": "stdout",
     "output_type": "stream",
     "text": [
      "*** Feature extraction started ***\n",
      "60\n"
     ]
    },
    {
     "name": "stderr",
     "output_type": "stream",
     "text": [
      "C:\\Users\\Jonathan\\AppData\\Local\\Temp\\ipykernel_8824\\591833966.py:15: UserWarning: Using default sampling frequency set in configuration file.\n",
      "  wy_extracted_features = tsfel.time_series_features_extractor(cfg, df['wy'], windows_size=100)\n"
     ]
    },
    {
     "data": {
      "text/html": [
       "\n",
       "              <p>\n",
       "                  Progress: 100% Complete\n",
       "              <p/>            \n",
       "              <progress\n",
       "                  value='60'\n",
       "                  max='60',\n",
       "                  style='width: 25%',\n",
       "              >\n",
       "                  60\n",
       "              </progress>\n",
       "\n",
       "    "
      ],
      "text/plain": [
       "<IPython.core.display.HTML object>"
      ]
     },
     "metadata": {},
     "output_type": "display_data"
    },
    {
     "name": "stdout",
     "output_type": "stream",
     "text": [
      "*** Feature extraction started ***\n",
      "60\n"
     ]
    },
    {
     "name": "stderr",
     "output_type": "stream",
     "text": [
      "C:\\Users\\Jonathan\\AppData\\Local\\Temp\\ipykernel_8824\\591833966.py:16: UserWarning: Using default sampling frequency set in configuration file.\n",
      "  wz_extracted_features = tsfel.time_series_features_extractor(cfg, df['wz'], windows_size=100)\n"
     ]
    },
    {
     "data": {
      "text/html": [
       "\n",
       "              <p>\n",
       "                  Progress: 100% Complete\n",
       "              <p/>            \n",
       "              <progress\n",
       "                  value='60'\n",
       "                  max='60',\n",
       "                  style='width: 25%',\n",
       "              >\n",
       "                  60\n",
       "              </progress>\n",
       "\n",
       "    "
      ],
      "text/plain": [
       "<IPython.core.display.HTML object>"
      ]
     },
     "metadata": {},
     "output_type": "display_data"
    },
    {
     "name": "stdout",
     "output_type": "stream",
     "text": [
      "   Caida  0_FFT mean coefficient_0  0_FFT mean coefficient_1  \\\n",
      "0      1                  0.132085                  3.042511   \n",
      "\n",
      "   0_FFT mean coefficient_2  0_FFT mean coefficient_3  \\\n",
      "0                  2.927502                  2.800327   \n",
      "\n",
      "   0_FFT mean coefficient_4  0_FFT mean coefficient_5  \\\n",
      "0                  2.091819                  1.102064   \n",
      "\n",
      "   0_FFT mean coefficient_6  0_FFT mean coefficient_7  \\\n",
      "0                  0.875626                  1.176028   \n",
      "\n",
      "   0_FFT mean coefficient_8  ...  0_Median diff  0_Negative turning points  \\\n",
      "0                  0.887498  ...            0.0                       30.0   \n",
      "\n",
      "   0_Neighbourhood peaks  0_Peak to peak distance  0_Positive turning points  \\\n",
      "0                   12.0                    16.58                       26.0   \n",
      "\n",
      "   0_Signal distance   0_Slope  0_Sum absolute diff  0_Total energy  \\\n",
      "0       30772.740382  0.000002               267.32        36.06053   \n",
      "\n",
      "   0_Zero crossing rate  \n",
      "0                 422.0  \n",
      "\n",
      "[1 rows x 2341 columns]\n",
      "*** Feature extraction started ***\n",
      "60\n"
     ]
    },
    {
     "name": "stderr",
     "output_type": "stream",
     "text": [
      "C:\\Users\\Jonathan\\AppData\\Local\\Temp\\ipykernel_8824\\591833966.py:10: UserWarning: Using default sampling frequency set in configuration file.\n",
      "  ax_extracted_features = tsfel.time_series_features_extractor(cfg, df['ax'], windows_size=100)\n"
     ]
    },
    {
     "data": {
      "text/html": [
       "\n",
       "              <p>\n",
       "                  Progress: 100% Complete\n",
       "              <p/>            \n",
       "              <progress\n",
       "                  value='60'\n",
       "                  max='60',\n",
       "                  style='width: 25%',\n",
       "              >\n",
       "                  60\n",
       "              </progress>\n",
       "\n",
       "    "
      ],
      "text/plain": [
       "<IPython.core.display.HTML object>"
      ]
     },
     "metadata": {},
     "output_type": "display_data"
    },
    {
     "name": "stdout",
     "output_type": "stream",
     "text": [
      "*** Feature extraction started ***\n",
      "60\n"
     ]
    },
    {
     "name": "stderr",
     "output_type": "stream",
     "text": [
      "C:\\Users\\Jonathan\\AppData\\Local\\Temp\\ipykernel_8824\\591833966.py:11: UserWarning: Using default sampling frequency set in configuration file.\n",
      "  ay_extracted_features = tsfel.time_series_features_extractor(cfg, df['ay'], windows_size=100)\n"
     ]
    },
    {
     "data": {
      "text/html": [
       "\n",
       "              <p>\n",
       "                  Progress: 100% Complete\n",
       "              <p/>            \n",
       "              <progress\n",
       "                  value='60'\n",
       "                  max='60',\n",
       "                  style='width: 25%',\n",
       "              >\n",
       "                  60\n",
       "              </progress>\n",
       "\n",
       "    "
      ],
      "text/plain": [
       "<IPython.core.display.HTML object>"
      ]
     },
     "metadata": {},
     "output_type": "display_data"
    },
    {
     "name": "stdout",
     "output_type": "stream",
     "text": [
      "*** Feature extraction started ***\n",
      "60\n"
     ]
    },
    {
     "name": "stderr",
     "output_type": "stream",
     "text": [
      "C:\\Users\\Jonathan\\AppData\\Local\\Temp\\ipykernel_8824\\591833966.py:12: UserWarning: Using default sampling frequency set in configuration file.\n",
      "  az_extracted_features = tsfel.time_series_features_extractor(cfg, df['az'], windows_size=100)\n"
     ]
    },
    {
     "data": {
      "text/html": [
       "\n",
       "              <p>\n",
       "                  Progress: 100% Complete\n",
       "              <p/>            \n",
       "              <progress\n",
       "                  value='60'\n",
       "                  max='60',\n",
       "                  style='width: 25%',\n",
       "              >\n",
       "                  60\n",
       "              </progress>\n",
       "\n",
       "    "
      ],
      "text/plain": [
       "<IPython.core.display.HTML object>"
      ]
     },
     "metadata": {},
     "output_type": "display_data"
    },
    {
     "name": "stdout",
     "output_type": "stream",
     "text": [
      "*** Feature extraction started ***\n",
      "60\n"
     ]
    },
    {
     "name": "stderr",
     "output_type": "stream",
     "text": [
      "C:\\Users\\Jonathan\\AppData\\Local\\Temp\\ipykernel_8824\\591833966.py:14: UserWarning: Using default sampling frequency set in configuration file.\n",
      "  wx_extracted_features = tsfel.time_series_features_extractor(cfg, df['wx'], windows_size=100)\n"
     ]
    },
    {
     "data": {
      "text/html": [
       "\n",
       "              <p>\n",
       "                  Progress: 100% Complete\n",
       "              <p/>            \n",
       "              <progress\n",
       "                  value='60'\n",
       "                  max='60',\n",
       "                  style='width: 25%',\n",
       "              >\n",
       "                  60\n",
       "              </progress>\n",
       "\n",
       "    "
      ],
      "text/plain": [
       "<IPython.core.display.HTML object>"
      ]
     },
     "metadata": {},
     "output_type": "display_data"
    },
    {
     "name": "stdout",
     "output_type": "stream",
     "text": [
      "*** Feature extraction started ***\n",
      "60\n"
     ]
    },
    {
     "name": "stderr",
     "output_type": "stream",
     "text": [
      "C:\\Users\\Jonathan\\AppData\\Local\\Temp\\ipykernel_8824\\591833966.py:15: UserWarning: Using default sampling frequency set in configuration file.\n",
      "  wy_extracted_features = tsfel.time_series_features_extractor(cfg, df['wy'], windows_size=100)\n"
     ]
    },
    {
     "data": {
      "text/html": [
       "\n",
       "              <p>\n",
       "                  Progress: 100% Complete\n",
       "              <p/>            \n",
       "              <progress\n",
       "                  value='60'\n",
       "                  max='60',\n",
       "                  style='width: 25%',\n",
       "              >\n",
       "                  60\n",
       "              </progress>\n",
       "\n",
       "    "
      ],
      "text/plain": [
       "<IPython.core.display.HTML object>"
      ]
     },
     "metadata": {},
     "output_type": "display_data"
    },
    {
     "name": "stdout",
     "output_type": "stream",
     "text": [
      "*** Feature extraction started ***\n",
      "60\n"
     ]
    },
    {
     "name": "stderr",
     "output_type": "stream",
     "text": [
      "C:\\Users\\Jonathan\\AppData\\Local\\Temp\\ipykernel_8824\\591833966.py:16: UserWarning: Using default sampling frequency set in configuration file.\n",
      "  wz_extracted_features = tsfel.time_series_features_extractor(cfg, df['wz'], windows_size=100)\n"
     ]
    },
    {
     "data": {
      "text/html": [
       "\n",
       "              <p>\n",
       "                  Progress: 100% Complete\n",
       "              <p/>            \n",
       "              <progress\n",
       "                  value='60'\n",
       "                  max='60',\n",
       "                  style='width: 25%',\n",
       "              >\n",
       "                  60\n",
       "              </progress>\n",
       "\n",
       "    "
      ],
      "text/plain": [
       "<IPython.core.display.HTML object>"
      ]
     },
     "metadata": {},
     "output_type": "display_data"
    },
    {
     "name": "stdout",
     "output_type": "stream",
     "text": [
      "*** Feature extraction started ***\n",
      "60\n"
     ]
    },
    {
     "name": "stderr",
     "output_type": "stream",
     "text": [
      "C:\\Users\\Jonathan\\AppData\\Local\\Temp\\ipykernel_8824\\591833966.py:10: UserWarning: Using default sampling frequency set in configuration file.\n",
      "  ax_extracted_features = tsfel.time_series_features_extractor(cfg, df['ax'], windows_size=100)\n"
     ]
    },
    {
     "data": {
      "text/html": [
       "\n",
       "              <p>\n",
       "                  Progress: 100% Complete\n",
       "              <p/>            \n",
       "              <progress\n",
       "                  value='60'\n",
       "                  max='60',\n",
       "                  style='width: 25%',\n",
       "              >\n",
       "                  60\n",
       "              </progress>\n",
       "\n",
       "    "
      ],
      "text/plain": [
       "<IPython.core.display.HTML object>"
      ]
     },
     "metadata": {},
     "output_type": "display_data"
    },
    {
     "name": "stdout",
     "output_type": "stream",
     "text": [
      "*** Feature extraction started ***\n",
      "60\n"
     ]
    },
    {
     "name": "stderr",
     "output_type": "stream",
     "text": [
      "C:\\Users\\Jonathan\\AppData\\Local\\Temp\\ipykernel_8824\\591833966.py:11: UserWarning: Using default sampling frequency set in configuration file.\n",
      "  ay_extracted_features = tsfel.time_series_features_extractor(cfg, df['ay'], windows_size=100)\n"
     ]
    },
    {
     "data": {
      "text/html": [
       "\n",
       "              <p>\n",
       "                  Progress: 100% Complete\n",
       "              <p/>            \n",
       "              <progress\n",
       "                  value='60'\n",
       "                  max='60',\n",
       "                  style='width: 25%',\n",
       "              >\n",
       "                  60\n",
       "              </progress>\n",
       "\n",
       "    "
      ],
      "text/plain": [
       "<IPython.core.display.HTML object>"
      ]
     },
     "metadata": {},
     "output_type": "display_data"
    },
    {
     "name": "stdout",
     "output_type": "stream",
     "text": [
      "*** Feature extraction started ***\n",
      "60\n"
     ]
    },
    {
     "name": "stderr",
     "output_type": "stream",
     "text": [
      "C:\\Users\\Jonathan\\AppData\\Local\\Temp\\ipykernel_8824\\591833966.py:12: UserWarning: Using default sampling frequency set in configuration file.\n",
      "  az_extracted_features = tsfel.time_series_features_extractor(cfg, df['az'], windows_size=100)\n"
     ]
    },
    {
     "data": {
      "text/html": [
       "\n",
       "              <p>\n",
       "                  Progress: 100% Complete\n",
       "              <p/>            \n",
       "              <progress\n",
       "                  value='60'\n",
       "                  max='60',\n",
       "                  style='width: 25%',\n",
       "              >\n",
       "                  60\n",
       "              </progress>\n",
       "\n",
       "    "
      ],
      "text/plain": [
       "<IPython.core.display.HTML object>"
      ]
     },
     "metadata": {},
     "output_type": "display_data"
    },
    {
     "name": "stdout",
     "output_type": "stream",
     "text": [
      "*** Feature extraction started ***\n",
      "60\n"
     ]
    },
    {
     "name": "stderr",
     "output_type": "stream",
     "text": [
      "C:\\Users\\Jonathan\\AppData\\Local\\Temp\\ipykernel_8824\\591833966.py:14: UserWarning: Using default sampling frequency set in configuration file.\n",
      "  wx_extracted_features = tsfel.time_series_features_extractor(cfg, df['wx'], windows_size=100)\n"
     ]
    },
    {
     "data": {
      "text/html": [
       "\n",
       "              <p>\n",
       "                  Progress: 100% Complete\n",
       "              <p/>            \n",
       "              <progress\n",
       "                  value='60'\n",
       "                  max='60',\n",
       "                  style='width: 25%',\n",
       "              >\n",
       "                  60\n",
       "              </progress>\n",
       "\n",
       "    "
      ],
      "text/plain": [
       "<IPython.core.display.HTML object>"
      ]
     },
     "metadata": {},
     "output_type": "display_data"
    },
    {
     "name": "stdout",
     "output_type": "stream",
     "text": [
      "*** Feature extraction started ***\n",
      "60\n"
     ]
    },
    {
     "name": "stderr",
     "output_type": "stream",
     "text": [
      "C:\\Users\\Jonathan\\AppData\\Local\\Temp\\ipykernel_8824\\591833966.py:15: UserWarning: Using default sampling frequency set in configuration file.\n",
      "  wy_extracted_features = tsfel.time_series_features_extractor(cfg, df['wy'], windows_size=100)\n"
     ]
    },
    {
     "data": {
      "text/html": [
       "\n",
       "              <p>\n",
       "                  Progress: 100% Complete\n",
       "              <p/>            \n",
       "              <progress\n",
       "                  value='60'\n",
       "                  max='60',\n",
       "                  style='width: 25%',\n",
       "              >\n",
       "                  60\n",
       "              </progress>\n",
       "\n",
       "    "
      ],
      "text/plain": [
       "<IPython.core.display.HTML object>"
      ]
     },
     "metadata": {},
     "output_type": "display_data"
    },
    {
     "name": "stdout",
     "output_type": "stream",
     "text": [
      "*** Feature extraction started ***\n",
      "60\n"
     ]
    },
    {
     "name": "stderr",
     "output_type": "stream",
     "text": [
      "C:\\Users\\Jonathan\\AppData\\Local\\Temp\\ipykernel_8824\\591833966.py:16: UserWarning: Using default sampling frequency set in configuration file.\n",
      "  wz_extracted_features = tsfel.time_series_features_extractor(cfg, df['wz'], windows_size=100)\n"
     ]
    },
    {
     "data": {
      "text/html": [
       "\n",
       "              <p>\n",
       "                  Progress: 100% Complete\n",
       "              <p/>            \n",
       "              <progress\n",
       "                  value='60'\n",
       "                  max='60',\n",
       "                  style='width: 25%',\n",
       "              >\n",
       "                  60\n",
       "              </progress>\n",
       "\n",
       "    "
      ],
      "text/plain": [
       "<IPython.core.display.HTML object>"
      ]
     },
     "metadata": {},
     "output_type": "display_data"
    },
    {
     "name": "stdout",
     "output_type": "stream",
     "text": [
      "   Caida  0_FFT mean coefficient_0  0_FFT mean coefficient_1  \\\n",
      "0      1                  0.027088                  0.499488   \n",
      "\n",
      "   0_FFT mean coefficient_2  0_FFT mean coefficient_3  \\\n",
      "0                  1.087891                  0.280965   \n",
      "\n",
      "   0_FFT mean coefficient_4  0_FFT mean coefficient_5  \\\n",
      "0                  0.437796                  0.355547   \n",
      "\n",
      "   0_FFT mean coefficient_6  0_FFT mean coefficient_7  \\\n",
      "0                   0.54326                  0.449776   \n",
      "\n",
      "   0_FFT mean coefficient_8  ...  0_Median diff  0_Negative turning points  \\\n",
      "0                    0.7024  ...            0.0                       11.0   \n",
      "\n",
      "   0_Neighbourhood peaks  0_Peak to peak distance  0_Positive turning points  \\\n",
      "0                   12.0                     2.47                       18.0   \n",
      "\n",
      "   0_Signal distance       0_Slope  0_Sum absolute diff  0_Total energy  \\\n",
      "0       14564.629231 -8.298997e-07                95.32        4.821618   \n",
      "\n",
      "   0_Zero crossing rate  \n",
      "0                 289.0  \n",
      "\n",
      "[1 rows x 2341 columns]\n",
      "*** Feature extraction started ***\n",
      "60\n"
     ]
    },
    {
     "name": "stderr",
     "output_type": "stream",
     "text": [
      "C:\\Users\\Jonathan\\AppData\\Local\\Temp\\ipykernel_8824\\591833966.py:10: UserWarning: Using default sampling frequency set in configuration file.\n",
      "  ax_extracted_features = tsfel.time_series_features_extractor(cfg, df['ax'], windows_size=100)\n"
     ]
    },
    {
     "data": {
      "text/html": [
       "\n",
       "              <p>\n",
       "                  Progress: 100% Complete\n",
       "              <p/>            \n",
       "              <progress\n",
       "                  value='60'\n",
       "                  max='60',\n",
       "                  style='width: 25%',\n",
       "              >\n",
       "                  60\n",
       "              </progress>\n",
       "\n",
       "    "
      ],
      "text/plain": [
       "<IPython.core.display.HTML object>"
      ]
     },
     "metadata": {},
     "output_type": "display_data"
    },
    {
     "name": "stdout",
     "output_type": "stream",
     "text": [
      "*** Feature extraction started ***\n",
      "60\n"
     ]
    },
    {
     "name": "stderr",
     "output_type": "stream",
     "text": [
      "C:\\Users\\Jonathan\\AppData\\Local\\Temp\\ipykernel_8824\\591833966.py:11: UserWarning: Using default sampling frequency set in configuration file.\n",
      "  ay_extracted_features = tsfel.time_series_features_extractor(cfg, df['ay'], windows_size=100)\n"
     ]
    },
    {
     "data": {
      "text/html": [
       "\n",
       "              <p>\n",
       "                  Progress: 100% Complete\n",
       "              <p/>            \n",
       "              <progress\n",
       "                  value='60'\n",
       "                  max='60',\n",
       "                  style='width: 25%',\n",
       "              >\n",
       "                  60\n",
       "              </progress>\n",
       "\n",
       "    "
      ],
      "text/plain": [
       "<IPython.core.display.HTML object>"
      ]
     },
     "metadata": {},
     "output_type": "display_data"
    },
    {
     "name": "stdout",
     "output_type": "stream",
     "text": [
      "*** Feature extraction started ***\n",
      "60\n"
     ]
    },
    {
     "name": "stderr",
     "output_type": "stream",
     "text": [
      "C:\\Users\\Jonathan\\AppData\\Local\\Temp\\ipykernel_8824\\591833966.py:12: UserWarning: Using default sampling frequency set in configuration file.\n",
      "  az_extracted_features = tsfel.time_series_features_extractor(cfg, df['az'], windows_size=100)\n"
     ]
    },
    {
     "data": {
      "text/html": [
       "\n",
       "              <p>\n",
       "                  Progress: 100% Complete\n",
       "              <p/>            \n",
       "              <progress\n",
       "                  value='60'\n",
       "                  max='60',\n",
       "                  style='width: 25%',\n",
       "              >\n",
       "                  60\n",
       "              </progress>\n",
       "\n",
       "    "
      ],
      "text/plain": [
       "<IPython.core.display.HTML object>"
      ]
     },
     "metadata": {},
     "output_type": "display_data"
    },
    {
     "name": "stdout",
     "output_type": "stream",
     "text": [
      "*** Feature extraction started ***\n",
      "60\n"
     ]
    },
    {
     "name": "stderr",
     "output_type": "stream",
     "text": [
      "C:\\Users\\Jonathan\\AppData\\Local\\Temp\\ipykernel_8824\\591833966.py:14: UserWarning: Using default sampling frequency set in configuration file.\n",
      "  wx_extracted_features = tsfel.time_series_features_extractor(cfg, df['wx'], windows_size=100)\n"
     ]
    },
    {
     "data": {
      "text/html": [
       "\n",
       "              <p>\n",
       "                  Progress: 100% Complete\n",
       "              <p/>            \n",
       "              <progress\n",
       "                  value='60'\n",
       "                  max='60',\n",
       "                  style='width: 25%',\n",
       "              >\n",
       "                  60\n",
       "              </progress>\n",
       "\n",
       "    "
      ],
      "text/plain": [
       "<IPython.core.display.HTML object>"
      ]
     },
     "metadata": {},
     "output_type": "display_data"
    },
    {
     "name": "stdout",
     "output_type": "stream",
     "text": [
      "*** Feature extraction started ***\n",
      "60\n"
     ]
    },
    {
     "name": "stderr",
     "output_type": "stream",
     "text": [
      "C:\\Users\\Jonathan\\AppData\\Local\\Temp\\ipykernel_8824\\591833966.py:15: UserWarning: Using default sampling frequency set in configuration file.\n",
      "  wy_extracted_features = tsfel.time_series_features_extractor(cfg, df['wy'], windows_size=100)\n"
     ]
    },
    {
     "data": {
      "text/html": [
       "\n",
       "              <p>\n",
       "                  Progress: 100% Complete\n",
       "              <p/>            \n",
       "              <progress\n",
       "                  value='60'\n",
       "                  max='60',\n",
       "                  style='width: 25%',\n",
       "              >\n",
       "                  60\n",
       "              </progress>\n",
       "\n",
       "    "
      ],
      "text/plain": [
       "<IPython.core.display.HTML object>"
      ]
     },
     "metadata": {},
     "output_type": "display_data"
    },
    {
     "name": "stdout",
     "output_type": "stream",
     "text": [
      "*** Feature extraction started ***\n",
      "60\n"
     ]
    },
    {
     "name": "stderr",
     "output_type": "stream",
     "text": [
      "C:\\Users\\Jonathan\\AppData\\Local\\Temp\\ipykernel_8824\\591833966.py:16: UserWarning: Using default sampling frequency set in configuration file.\n",
      "  wz_extracted_features = tsfel.time_series_features_extractor(cfg, df['wz'], windows_size=100)\n"
     ]
    },
    {
     "data": {
      "text/html": [
       "\n",
       "              <p>\n",
       "                  Progress: 100% Complete\n",
       "              <p/>            \n",
       "              <progress\n",
       "                  value='60'\n",
       "                  max='60',\n",
       "                  style='width: 25%',\n",
       "              >\n",
       "                  60\n",
       "              </progress>\n",
       "\n",
       "    "
      ],
      "text/plain": [
       "<IPython.core.display.HTML object>"
      ]
     },
     "metadata": {},
     "output_type": "display_data"
    },
    {
     "name": "stdout",
     "output_type": "stream",
     "text": [
      "*** Feature extraction started ***\n",
      "60\n"
     ]
    },
    {
     "name": "stderr",
     "output_type": "stream",
     "text": [
      "C:\\Users\\Jonathan\\AppData\\Local\\Temp\\ipykernel_8824\\591833966.py:10: UserWarning: Using default sampling frequency set in configuration file.\n",
      "  ax_extracted_features = tsfel.time_series_features_extractor(cfg, df['ax'], windows_size=100)\n"
     ]
    },
    {
     "data": {
      "text/html": [
       "\n",
       "              <p>\n",
       "                  Progress: 100% Complete\n",
       "              <p/>            \n",
       "              <progress\n",
       "                  value='60'\n",
       "                  max='60',\n",
       "                  style='width: 25%',\n",
       "              >\n",
       "                  60\n",
       "              </progress>\n",
       "\n",
       "    "
      ],
      "text/plain": [
       "<IPython.core.display.HTML object>"
      ]
     },
     "metadata": {},
     "output_type": "display_data"
    },
    {
     "name": "stdout",
     "output_type": "stream",
     "text": [
      "*** Feature extraction started ***\n",
      "60\n"
     ]
    },
    {
     "name": "stderr",
     "output_type": "stream",
     "text": [
      "C:\\Users\\Jonathan\\AppData\\Local\\Temp\\ipykernel_8824\\591833966.py:11: UserWarning: Using default sampling frequency set in configuration file.\n",
      "  ay_extracted_features = tsfel.time_series_features_extractor(cfg, df['ay'], windows_size=100)\n"
     ]
    },
    {
     "data": {
      "text/html": [
       "\n",
       "              <p>\n",
       "                  Progress: 100% Complete\n",
       "              <p/>            \n",
       "              <progress\n",
       "                  value='60'\n",
       "                  max='60',\n",
       "                  style='width: 25%',\n",
       "              >\n",
       "                  60\n",
       "              </progress>\n",
       "\n",
       "    "
      ],
      "text/plain": [
       "<IPython.core.display.HTML object>"
      ]
     },
     "metadata": {},
     "output_type": "display_data"
    },
    {
     "name": "stdout",
     "output_type": "stream",
     "text": [
      "*** Feature extraction started ***\n",
      "60\n"
     ]
    },
    {
     "name": "stderr",
     "output_type": "stream",
     "text": [
      "C:\\Users\\Jonathan\\AppData\\Local\\Temp\\ipykernel_8824\\591833966.py:12: UserWarning: Using default sampling frequency set in configuration file.\n",
      "  az_extracted_features = tsfel.time_series_features_extractor(cfg, df['az'], windows_size=100)\n"
     ]
    },
    {
     "data": {
      "text/html": [
       "\n",
       "              <p>\n",
       "                  Progress: 100% Complete\n",
       "              <p/>            \n",
       "              <progress\n",
       "                  value='60'\n",
       "                  max='60',\n",
       "                  style='width: 25%',\n",
       "              >\n",
       "                  60\n",
       "              </progress>\n",
       "\n",
       "    "
      ],
      "text/plain": [
       "<IPython.core.display.HTML object>"
      ]
     },
     "metadata": {},
     "output_type": "display_data"
    },
    {
     "name": "stdout",
     "output_type": "stream",
     "text": [
      "*** Feature extraction started ***\n",
      "60\n"
     ]
    },
    {
     "name": "stderr",
     "output_type": "stream",
     "text": [
      "C:\\Users\\Jonathan\\AppData\\Local\\Temp\\ipykernel_8824\\591833966.py:14: UserWarning: Using default sampling frequency set in configuration file.\n",
      "  wx_extracted_features = tsfel.time_series_features_extractor(cfg, df['wx'], windows_size=100)\n"
     ]
    },
    {
     "data": {
      "text/html": [
       "\n",
       "              <p>\n",
       "                  Progress: 100% Complete\n",
       "              <p/>            \n",
       "              <progress\n",
       "                  value='60'\n",
       "                  max='60',\n",
       "                  style='width: 25%',\n",
       "              >\n",
       "                  60\n",
       "              </progress>\n",
       "\n",
       "    "
      ],
      "text/plain": [
       "<IPython.core.display.HTML object>"
      ]
     },
     "metadata": {},
     "output_type": "display_data"
    },
    {
     "name": "stdout",
     "output_type": "stream",
     "text": [
      "*** Feature extraction started ***\n",
      "60\n"
     ]
    },
    {
     "name": "stderr",
     "output_type": "stream",
     "text": [
      "C:\\Users\\Jonathan\\AppData\\Local\\Temp\\ipykernel_8824\\591833966.py:15: UserWarning: Using default sampling frequency set in configuration file.\n",
      "  wy_extracted_features = tsfel.time_series_features_extractor(cfg, df['wy'], windows_size=100)\n"
     ]
    },
    {
     "data": {
      "text/html": [
       "\n",
       "              <p>\n",
       "                  Progress: 100% Complete\n",
       "              <p/>            \n",
       "              <progress\n",
       "                  value='60'\n",
       "                  max='60',\n",
       "                  style='width: 25%',\n",
       "              >\n",
       "                  60\n",
       "              </progress>\n",
       "\n",
       "    "
      ],
      "text/plain": [
       "<IPython.core.display.HTML object>"
      ]
     },
     "metadata": {},
     "output_type": "display_data"
    },
    {
     "name": "stdout",
     "output_type": "stream",
     "text": [
      "*** Feature extraction started ***\n",
      "60\n"
     ]
    },
    {
     "name": "stderr",
     "output_type": "stream",
     "text": [
      "C:\\Users\\Jonathan\\AppData\\Local\\Temp\\ipykernel_8824\\591833966.py:16: UserWarning: Using default sampling frequency set in configuration file.\n",
      "  wz_extracted_features = tsfel.time_series_features_extractor(cfg, df['wz'], windows_size=100)\n"
     ]
    },
    {
     "data": {
      "text/html": [
       "\n",
       "              <p>\n",
       "                  Progress: 100% Complete\n",
       "              <p/>            \n",
       "              <progress\n",
       "                  value='60'\n",
       "                  max='60',\n",
       "                  style='width: 25%',\n",
       "              >\n",
       "                  60\n",
       "              </progress>\n",
       "\n",
       "    "
      ],
      "text/plain": [
       "<IPython.core.display.HTML object>"
      ]
     },
     "metadata": {},
     "output_type": "display_data"
    },
    {
     "name": "stdout",
     "output_type": "stream",
     "text": [
      "   Caida  0_FFT mean coefficient_0  0_FFT mean coefficient_1  \\\n",
      "0      1                  0.395029                 14.259278   \n",
      "\n",
      "   0_FFT mean coefficient_2  0_FFT mean coefficient_3  \\\n",
      "0                  4.167078                   2.98504   \n",
      "\n",
      "   0_FFT mean coefficient_4  0_FFT mean coefficient_5  \\\n",
      "0                   3.01043                  1.862288   \n",
      "\n",
      "   0_FFT mean coefficient_6  0_FFT mean coefficient_7  \\\n",
      "0                  1.208616                  0.923239   \n",
      "\n",
      "   0_FFT mean coefficient_8  ...  0_Median diff  0_Negative turning points  \\\n",
      "0                  0.891855  ...            0.0                      145.0   \n",
      "\n",
      "   0_Neighbourhood peaks  0_Peak to peak distance  0_Positive turning points  \\\n",
      "0                   32.0                    10.02                      133.0   \n",
      "\n",
      "   0_Signal distance   0_Slope  0_Sum absolute diff  0_Total energy  \\\n",
      "0       30221.612917 -0.000002               395.44        81.34371   \n",
      "\n",
      "   0_Zero crossing rate  \n",
      "0                 839.0  \n",
      "\n",
      "[1 rows x 2341 columns]\n",
      "*** Feature extraction started ***\n",
      "60\n"
     ]
    },
    {
     "name": "stderr",
     "output_type": "stream",
     "text": [
      "C:\\Users\\Jonathan\\AppData\\Local\\Temp\\ipykernel_8824\\591833966.py:10: UserWarning: Using default sampling frequency set in configuration file.\n",
      "  ax_extracted_features = tsfel.time_series_features_extractor(cfg, df['ax'], windows_size=100)\n"
     ]
    },
    {
     "data": {
      "text/html": [
       "\n",
       "              <p>\n",
       "                  Progress: 100% Complete\n",
       "              <p/>            \n",
       "              <progress\n",
       "                  value='60'\n",
       "                  max='60',\n",
       "                  style='width: 25%',\n",
       "              >\n",
       "                  60\n",
       "              </progress>\n",
       "\n",
       "    "
      ],
      "text/plain": [
       "<IPython.core.display.HTML object>"
      ]
     },
     "metadata": {},
     "output_type": "display_data"
    },
    {
     "name": "stdout",
     "output_type": "stream",
     "text": [
      "*** Feature extraction started ***\n",
      "60\n"
     ]
    },
    {
     "name": "stderr",
     "output_type": "stream",
     "text": [
      "C:\\Users\\Jonathan\\AppData\\Local\\Temp\\ipykernel_8824\\591833966.py:11: UserWarning: Using default sampling frequency set in configuration file.\n",
      "  ay_extracted_features = tsfel.time_series_features_extractor(cfg, df['ay'], windows_size=100)\n"
     ]
    },
    {
     "data": {
      "text/html": [
       "\n",
       "              <p>\n",
       "                  Progress: 100% Complete\n",
       "              <p/>            \n",
       "              <progress\n",
       "                  value='60'\n",
       "                  max='60',\n",
       "                  style='width: 25%',\n",
       "              >\n",
       "                  60\n",
       "              </progress>\n",
       "\n",
       "    "
      ],
      "text/plain": [
       "<IPython.core.display.HTML object>"
      ]
     },
     "metadata": {},
     "output_type": "display_data"
    },
    {
     "name": "stdout",
     "output_type": "stream",
     "text": [
      "*** Feature extraction started ***\n",
      "60\n"
     ]
    },
    {
     "name": "stderr",
     "output_type": "stream",
     "text": [
      "C:\\Users\\Jonathan\\AppData\\Local\\Temp\\ipykernel_8824\\591833966.py:12: UserWarning: Using default sampling frequency set in configuration file.\n",
      "  az_extracted_features = tsfel.time_series_features_extractor(cfg, df['az'], windows_size=100)\n"
     ]
    },
    {
     "data": {
      "text/html": [
       "\n",
       "              <p>\n",
       "                  Progress: 100% Complete\n",
       "              <p/>            \n",
       "              <progress\n",
       "                  value='60'\n",
       "                  max='60',\n",
       "                  style='width: 25%',\n",
       "              >\n",
       "                  60\n",
       "              </progress>\n",
       "\n",
       "    "
      ],
      "text/plain": [
       "<IPython.core.display.HTML object>"
      ]
     },
     "metadata": {},
     "output_type": "display_data"
    },
    {
     "name": "stdout",
     "output_type": "stream",
     "text": [
      "*** Feature extraction started ***\n",
      "60\n"
     ]
    },
    {
     "name": "stderr",
     "output_type": "stream",
     "text": [
      "C:\\Users\\Jonathan\\AppData\\Local\\Temp\\ipykernel_8824\\591833966.py:14: UserWarning: Using default sampling frequency set in configuration file.\n",
      "  wx_extracted_features = tsfel.time_series_features_extractor(cfg, df['wx'], windows_size=100)\n"
     ]
    },
    {
     "data": {
      "text/html": [
       "\n",
       "              <p>\n",
       "                  Progress: 100% Complete\n",
       "              <p/>            \n",
       "              <progress\n",
       "                  value='60'\n",
       "                  max='60',\n",
       "                  style='width: 25%',\n",
       "              >\n",
       "                  60\n",
       "              </progress>\n",
       "\n",
       "    "
      ],
      "text/plain": [
       "<IPython.core.display.HTML object>"
      ]
     },
     "metadata": {},
     "output_type": "display_data"
    },
    {
     "name": "stdout",
     "output_type": "stream",
     "text": [
      "*** Feature extraction started ***\n",
      "60\n"
     ]
    },
    {
     "name": "stderr",
     "output_type": "stream",
     "text": [
      "C:\\Users\\Jonathan\\AppData\\Local\\Temp\\ipykernel_8824\\591833966.py:15: UserWarning: Using default sampling frequency set in configuration file.\n",
      "  wy_extracted_features = tsfel.time_series_features_extractor(cfg, df['wy'], windows_size=100)\n"
     ]
    },
    {
     "data": {
      "text/html": [
       "\n",
       "              <p>\n",
       "                  Progress: 100% Complete\n",
       "              <p/>            \n",
       "              <progress\n",
       "                  value='60'\n",
       "                  max='60',\n",
       "                  style='width: 25%',\n",
       "              >\n",
       "                  60\n",
       "              </progress>\n",
       "\n",
       "    "
      ],
      "text/plain": [
       "<IPython.core.display.HTML object>"
      ]
     },
     "metadata": {},
     "output_type": "display_data"
    },
    {
     "name": "stdout",
     "output_type": "stream",
     "text": [
      "*** Feature extraction started ***\n",
      "60\n"
     ]
    },
    {
     "name": "stderr",
     "output_type": "stream",
     "text": [
      "C:\\Users\\Jonathan\\AppData\\Local\\Temp\\ipykernel_8824\\591833966.py:16: UserWarning: Using default sampling frequency set in configuration file.\n",
      "  wz_extracted_features = tsfel.time_series_features_extractor(cfg, df['wz'], windows_size=100)\n"
     ]
    },
    {
     "data": {
      "text/html": [
       "\n",
       "              <p>\n",
       "                  Progress: 100% Complete\n",
       "              <p/>            \n",
       "              <progress\n",
       "                  value='60'\n",
       "                  max='60',\n",
       "                  style='width: 25%',\n",
       "              >\n",
       "                  60\n",
       "              </progress>\n",
       "\n",
       "    "
      ],
      "text/plain": [
       "<IPython.core.display.HTML object>"
      ]
     },
     "metadata": {},
     "output_type": "display_data"
    },
    {
     "name": "stdout",
     "output_type": "stream",
     "text": [
      "*** Feature extraction started ***\n",
      "60\n"
     ]
    },
    {
     "name": "stderr",
     "output_type": "stream",
     "text": [
      "C:\\Users\\Jonathan\\AppData\\Local\\Temp\\ipykernel_8824\\591833966.py:10: UserWarning: Using default sampling frequency set in configuration file.\n",
      "  ax_extracted_features = tsfel.time_series_features_extractor(cfg, df['ax'], windows_size=100)\n"
     ]
    },
    {
     "data": {
      "text/html": [
       "\n",
       "              <p>\n",
       "                  Progress: 100% Complete\n",
       "              <p/>            \n",
       "              <progress\n",
       "                  value='60'\n",
       "                  max='60',\n",
       "                  style='width: 25%',\n",
       "              >\n",
       "                  60\n",
       "              </progress>\n",
       "\n",
       "    "
      ],
      "text/plain": [
       "<IPython.core.display.HTML object>"
      ]
     },
     "metadata": {},
     "output_type": "display_data"
    },
    {
     "name": "stdout",
     "output_type": "stream",
     "text": [
      "*** Feature extraction started ***\n",
      "60\n"
     ]
    },
    {
     "name": "stderr",
     "output_type": "stream",
     "text": [
      "C:\\Users\\Jonathan\\AppData\\Local\\Temp\\ipykernel_8824\\591833966.py:11: UserWarning: Using default sampling frequency set in configuration file.\n",
      "  ay_extracted_features = tsfel.time_series_features_extractor(cfg, df['ay'], windows_size=100)\n"
     ]
    },
    {
     "data": {
      "text/html": [
       "\n",
       "              <p>\n",
       "                  Progress: 100% Complete\n",
       "              <p/>            \n",
       "              <progress\n",
       "                  value='60'\n",
       "                  max='60',\n",
       "                  style='width: 25%',\n",
       "              >\n",
       "                  60\n",
       "              </progress>\n",
       "\n",
       "    "
      ],
      "text/plain": [
       "<IPython.core.display.HTML object>"
      ]
     },
     "metadata": {},
     "output_type": "display_data"
    },
    {
     "name": "stdout",
     "output_type": "stream",
     "text": [
      "*** Feature extraction started ***\n",
      "60\n"
     ]
    },
    {
     "name": "stderr",
     "output_type": "stream",
     "text": [
      "C:\\Users\\Jonathan\\AppData\\Local\\Temp\\ipykernel_8824\\591833966.py:12: UserWarning: Using default sampling frequency set in configuration file.\n",
      "  az_extracted_features = tsfel.time_series_features_extractor(cfg, df['az'], windows_size=100)\n"
     ]
    },
    {
     "data": {
      "text/html": [
       "\n",
       "              <p>\n",
       "                  Progress: 100% Complete\n",
       "              <p/>            \n",
       "              <progress\n",
       "                  value='60'\n",
       "                  max='60',\n",
       "                  style='width: 25%',\n",
       "              >\n",
       "                  60\n",
       "              </progress>\n",
       "\n",
       "    "
      ],
      "text/plain": [
       "<IPython.core.display.HTML object>"
      ]
     },
     "metadata": {},
     "output_type": "display_data"
    },
    {
     "name": "stdout",
     "output_type": "stream",
     "text": [
      "*** Feature extraction started ***\n",
      "60\n"
     ]
    },
    {
     "name": "stderr",
     "output_type": "stream",
     "text": [
      "C:\\Users\\Jonathan\\AppData\\Local\\Temp\\ipykernel_8824\\591833966.py:14: UserWarning: Using default sampling frequency set in configuration file.\n",
      "  wx_extracted_features = tsfel.time_series_features_extractor(cfg, df['wx'], windows_size=100)\n"
     ]
    },
    {
     "data": {
      "text/html": [
       "\n",
       "              <p>\n",
       "                  Progress: 100% Complete\n",
       "              <p/>            \n",
       "              <progress\n",
       "                  value='60'\n",
       "                  max='60',\n",
       "                  style='width: 25%',\n",
       "              >\n",
       "                  60\n",
       "              </progress>\n",
       "\n",
       "    "
      ],
      "text/plain": [
       "<IPython.core.display.HTML object>"
      ]
     },
     "metadata": {},
     "output_type": "display_data"
    },
    {
     "name": "stdout",
     "output_type": "stream",
     "text": [
      "*** Feature extraction started ***\n",
      "60\n"
     ]
    },
    {
     "name": "stderr",
     "output_type": "stream",
     "text": [
      "C:\\Users\\Jonathan\\AppData\\Local\\Temp\\ipykernel_8824\\591833966.py:15: UserWarning: Using default sampling frequency set in configuration file.\n",
      "  wy_extracted_features = tsfel.time_series_features_extractor(cfg, df['wy'], windows_size=100)\n"
     ]
    },
    {
     "data": {
      "text/html": [
       "\n",
       "              <p>\n",
       "                  Progress: 100% Complete\n",
       "              <p/>            \n",
       "              <progress\n",
       "                  value='60'\n",
       "                  max='60',\n",
       "                  style='width: 25%',\n",
       "              >\n",
       "                  60\n",
       "              </progress>\n",
       "\n",
       "    "
      ],
      "text/plain": [
       "<IPython.core.display.HTML object>"
      ]
     },
     "metadata": {},
     "output_type": "display_data"
    },
    {
     "name": "stdout",
     "output_type": "stream",
     "text": [
      "*** Feature extraction started ***\n",
      "60\n"
     ]
    },
    {
     "name": "stderr",
     "output_type": "stream",
     "text": [
      "C:\\Users\\Jonathan\\AppData\\Local\\Temp\\ipykernel_8824\\591833966.py:16: UserWarning: Using default sampling frequency set in configuration file.\n",
      "  wz_extracted_features = tsfel.time_series_features_extractor(cfg, df['wz'], windows_size=100)\n"
     ]
    },
    {
     "data": {
      "text/html": [
       "\n",
       "              <p>\n",
       "                  Progress: 100% Complete\n",
       "              <p/>            \n",
       "              <progress\n",
       "                  value='60'\n",
       "                  max='60',\n",
       "                  style='width: 25%',\n",
       "              >\n",
       "                  60\n",
       "              </progress>\n",
       "\n",
       "    "
      ],
      "text/plain": [
       "<IPython.core.display.HTML object>"
      ]
     },
     "metadata": {},
     "output_type": "display_data"
    },
    {
     "name": "stdout",
     "output_type": "stream",
     "text": [
      "   Caida  0_FFT mean coefficient_0  0_FFT mean coefficient_1  \\\n",
      "0      1                  0.044757                  1.292231   \n",
      "\n",
      "   0_FFT mean coefficient_2  0_FFT mean coefficient_3  \\\n",
      "0                  1.189343                  0.983739   \n",
      "\n",
      "   0_FFT mean coefficient_4  0_FFT mean coefficient_5  \\\n",
      "0                  0.739763                  0.459762   \n",
      "\n",
      "   0_FFT mean coefficient_6  0_FFT mean coefficient_7  \\\n",
      "0                  0.503173                  0.526052   \n",
      "\n",
      "   0_FFT mean coefficient_8  ...  0_Median diff  0_Negative turning points  \\\n",
      "0                  0.171102  ...            0.0                      174.0   \n",
      "\n",
      "   0_Neighbourhood peaks  0_Peak to peak distance  0_Positive turning points  \\\n",
      "0                   33.0                    12.17                      170.0   \n",
      "\n",
      "   0_Signal distance   0_Slope  0_Sum absolute diff  0_Total energy  \\\n",
      "0       79885.731347  0.000002               492.84       29.625755   \n",
      "\n",
      "   0_Zero crossing rate  \n",
      "0                1309.0  \n",
      "\n",
      "[1 rows x 2341 columns]\n",
      "*** Feature extraction started ***\n",
      "60\n"
     ]
    },
    {
     "name": "stderr",
     "output_type": "stream",
     "text": [
      "C:\\Users\\Jonathan\\AppData\\Local\\Temp\\ipykernel_8824\\591833966.py:10: UserWarning: Using default sampling frequency set in configuration file.\n",
      "  ax_extracted_features = tsfel.time_series_features_extractor(cfg, df['ax'], windows_size=100)\n"
     ]
    },
    {
     "data": {
      "text/html": [
       "\n",
       "              <p>\n",
       "                  Progress: 100% Complete\n",
       "              <p/>            \n",
       "              <progress\n",
       "                  value='60'\n",
       "                  max='60',\n",
       "                  style='width: 25%',\n",
       "              >\n",
       "                  60\n",
       "              </progress>\n",
       "\n",
       "    "
      ],
      "text/plain": [
       "<IPython.core.display.HTML object>"
      ]
     },
     "metadata": {},
     "output_type": "display_data"
    },
    {
     "name": "stdout",
     "output_type": "stream",
     "text": [
      "*** Feature extraction started ***\n",
      "60\n"
     ]
    },
    {
     "name": "stderr",
     "output_type": "stream",
     "text": [
      "C:\\Users\\Jonathan\\AppData\\Local\\Temp\\ipykernel_8824\\591833966.py:11: UserWarning: Using default sampling frequency set in configuration file.\n",
      "  ay_extracted_features = tsfel.time_series_features_extractor(cfg, df['ay'], windows_size=100)\n"
     ]
    },
    {
     "data": {
      "text/html": [
       "\n",
       "              <p>\n",
       "                  Progress: 100% Complete\n",
       "              <p/>            \n",
       "              <progress\n",
       "                  value='60'\n",
       "                  max='60',\n",
       "                  style='width: 25%',\n",
       "              >\n",
       "                  60\n",
       "              </progress>\n",
       "\n",
       "    "
      ],
      "text/plain": [
       "<IPython.core.display.HTML object>"
      ]
     },
     "metadata": {},
     "output_type": "display_data"
    },
    {
     "name": "stdout",
     "output_type": "stream",
     "text": [
      "*** Feature extraction started ***\n",
      "60\n"
     ]
    },
    {
     "name": "stderr",
     "output_type": "stream",
     "text": [
      "C:\\Users\\Jonathan\\AppData\\Local\\Temp\\ipykernel_8824\\591833966.py:12: UserWarning: Using default sampling frequency set in configuration file.\n",
      "  az_extracted_features = tsfel.time_series_features_extractor(cfg, df['az'], windows_size=100)\n"
     ]
    },
    {
     "data": {
      "text/html": [
       "\n",
       "              <p>\n",
       "                  Progress: 100% Complete\n",
       "              <p/>            \n",
       "              <progress\n",
       "                  value='60'\n",
       "                  max='60',\n",
       "                  style='width: 25%',\n",
       "              >\n",
       "                  60\n",
       "              </progress>\n",
       "\n",
       "    "
      ],
      "text/plain": [
       "<IPython.core.display.HTML object>"
      ]
     },
     "metadata": {},
     "output_type": "display_data"
    },
    {
     "name": "stdout",
     "output_type": "stream",
     "text": [
      "*** Feature extraction started ***\n",
      "60\n"
     ]
    },
    {
     "name": "stderr",
     "output_type": "stream",
     "text": [
      "C:\\Users\\Jonathan\\AppData\\Local\\Temp\\ipykernel_8824\\591833966.py:14: UserWarning: Using default sampling frequency set in configuration file.\n",
      "  wx_extracted_features = tsfel.time_series_features_extractor(cfg, df['wx'], windows_size=100)\n"
     ]
    },
    {
     "data": {
      "text/html": [
       "\n",
       "              <p>\n",
       "                  Progress: 100% Complete\n",
       "              <p/>            \n",
       "              <progress\n",
       "                  value='60'\n",
       "                  max='60',\n",
       "                  style='width: 25%',\n",
       "              >\n",
       "                  60\n",
       "              </progress>\n",
       "\n",
       "    "
      ],
      "text/plain": [
       "<IPython.core.display.HTML object>"
      ]
     },
     "metadata": {},
     "output_type": "display_data"
    },
    {
     "name": "stdout",
     "output_type": "stream",
     "text": [
      "*** Feature extraction started ***\n",
      "60\n"
     ]
    },
    {
     "name": "stderr",
     "output_type": "stream",
     "text": [
      "C:\\Users\\Jonathan\\AppData\\Local\\Temp\\ipykernel_8824\\591833966.py:15: UserWarning: Using default sampling frequency set in configuration file.\n",
      "  wy_extracted_features = tsfel.time_series_features_extractor(cfg, df['wy'], windows_size=100)\n"
     ]
    },
    {
     "data": {
      "text/html": [
       "\n",
       "              <p>\n",
       "                  Progress: 100% Complete\n",
       "              <p/>            \n",
       "              <progress\n",
       "                  value='60'\n",
       "                  max='60',\n",
       "                  style='width: 25%',\n",
       "              >\n",
       "                  60\n",
       "              </progress>\n",
       "\n",
       "    "
      ],
      "text/plain": [
       "<IPython.core.display.HTML object>"
      ]
     },
     "metadata": {},
     "output_type": "display_data"
    },
    {
     "name": "stdout",
     "output_type": "stream",
     "text": [
      "*** Feature extraction started ***\n",
      "60\n"
     ]
    },
    {
     "name": "stderr",
     "output_type": "stream",
     "text": [
      "C:\\Users\\Jonathan\\AppData\\Local\\Temp\\ipykernel_8824\\591833966.py:16: UserWarning: Using default sampling frequency set in configuration file.\n",
      "  wz_extracted_features = tsfel.time_series_features_extractor(cfg, df['wz'], windows_size=100)\n"
     ]
    },
    {
     "data": {
      "text/html": [
       "\n",
       "              <p>\n",
       "                  Progress: 100% Complete\n",
       "              <p/>            \n",
       "              <progress\n",
       "                  value='60'\n",
       "                  max='60',\n",
       "                  style='width: 25%',\n",
       "              >\n",
       "                  60\n",
       "              </progress>\n",
       "\n",
       "    "
      ],
      "text/plain": [
       "<IPython.core.display.HTML object>"
      ]
     },
     "metadata": {},
     "output_type": "display_data"
    },
    {
     "name": "stdout",
     "output_type": "stream",
     "text": [
      "*** Feature extraction started ***\n",
      "60\n"
     ]
    },
    {
     "name": "stderr",
     "output_type": "stream",
     "text": [
      "C:\\Users\\Jonathan\\AppData\\Local\\Temp\\ipykernel_8824\\591833966.py:10: UserWarning: Using default sampling frequency set in configuration file.\n",
      "  ax_extracted_features = tsfel.time_series_features_extractor(cfg, df['ax'], windows_size=100)\n"
     ]
    },
    {
     "data": {
      "text/html": [
       "\n",
       "              <p>\n",
       "                  Progress: 100% Complete\n",
       "              <p/>            \n",
       "              <progress\n",
       "                  value='60'\n",
       "                  max='60',\n",
       "                  style='width: 25%',\n",
       "              >\n",
       "                  60\n",
       "              </progress>\n",
       "\n",
       "    "
      ],
      "text/plain": [
       "<IPython.core.display.HTML object>"
      ]
     },
     "metadata": {},
     "output_type": "display_data"
    },
    {
     "name": "stdout",
     "output_type": "stream",
     "text": [
      "*** Feature extraction started ***\n",
      "60\n"
     ]
    },
    {
     "name": "stderr",
     "output_type": "stream",
     "text": [
      "C:\\Users\\Jonathan\\AppData\\Local\\Temp\\ipykernel_8824\\591833966.py:11: UserWarning: Using default sampling frequency set in configuration file.\n",
      "  ay_extracted_features = tsfel.time_series_features_extractor(cfg, df['ay'], windows_size=100)\n"
     ]
    },
    {
     "data": {
      "text/html": [
       "\n",
       "              <p>\n",
       "                  Progress: 100% Complete\n",
       "              <p/>            \n",
       "              <progress\n",
       "                  value='60'\n",
       "                  max='60',\n",
       "                  style='width: 25%',\n",
       "              >\n",
       "                  60\n",
       "              </progress>\n",
       "\n",
       "    "
      ],
      "text/plain": [
       "<IPython.core.display.HTML object>"
      ]
     },
     "metadata": {},
     "output_type": "display_data"
    },
    {
     "name": "stdout",
     "output_type": "stream",
     "text": [
      "*** Feature extraction started ***\n",
      "60\n"
     ]
    },
    {
     "name": "stderr",
     "output_type": "stream",
     "text": [
      "C:\\Users\\Jonathan\\AppData\\Local\\Temp\\ipykernel_8824\\591833966.py:12: UserWarning: Using default sampling frequency set in configuration file.\n",
      "  az_extracted_features = tsfel.time_series_features_extractor(cfg, df['az'], windows_size=100)\n"
     ]
    },
    {
     "data": {
      "text/html": [
       "\n",
       "              <p>\n",
       "                  Progress: 100% Complete\n",
       "              <p/>            \n",
       "              <progress\n",
       "                  value='60'\n",
       "                  max='60',\n",
       "                  style='width: 25%',\n",
       "              >\n",
       "                  60\n",
       "              </progress>\n",
       "\n",
       "    "
      ],
      "text/plain": [
       "<IPython.core.display.HTML object>"
      ]
     },
     "metadata": {},
     "output_type": "display_data"
    },
    {
     "name": "stdout",
     "output_type": "stream",
     "text": [
      "*** Feature extraction started ***\n",
      "60\n"
     ]
    },
    {
     "name": "stderr",
     "output_type": "stream",
     "text": [
      "C:\\Users\\Jonathan\\AppData\\Local\\Temp\\ipykernel_8824\\591833966.py:14: UserWarning: Using default sampling frequency set in configuration file.\n",
      "  wx_extracted_features = tsfel.time_series_features_extractor(cfg, df['wx'], windows_size=100)\n"
     ]
    },
    {
     "data": {
      "text/html": [
       "\n",
       "              <p>\n",
       "                  Progress: 100% Complete\n",
       "              <p/>            \n",
       "              <progress\n",
       "                  value='60'\n",
       "                  max='60',\n",
       "                  style='width: 25%',\n",
       "              >\n",
       "                  60\n",
       "              </progress>\n",
       "\n",
       "    "
      ],
      "text/plain": [
       "<IPython.core.display.HTML object>"
      ]
     },
     "metadata": {},
     "output_type": "display_data"
    },
    {
     "name": "stdout",
     "output_type": "stream",
     "text": [
      "*** Feature extraction started ***\n",
      "60\n"
     ]
    },
    {
     "name": "stderr",
     "output_type": "stream",
     "text": [
      "C:\\Users\\Jonathan\\AppData\\Local\\Temp\\ipykernel_8824\\591833966.py:15: UserWarning: Using default sampling frequency set in configuration file.\n",
      "  wy_extracted_features = tsfel.time_series_features_extractor(cfg, df['wy'], windows_size=100)\n"
     ]
    },
    {
     "data": {
      "text/html": [
       "\n",
       "              <p>\n",
       "                  Progress: 100% Complete\n",
       "              <p/>            \n",
       "              <progress\n",
       "                  value='60'\n",
       "                  max='60',\n",
       "                  style='width: 25%',\n",
       "              >\n",
       "                  60\n",
       "              </progress>\n",
       "\n",
       "    "
      ],
      "text/plain": [
       "<IPython.core.display.HTML object>"
      ]
     },
     "metadata": {},
     "output_type": "display_data"
    },
    {
     "name": "stdout",
     "output_type": "stream",
     "text": [
      "*** Feature extraction started ***\n",
      "60\n"
     ]
    },
    {
     "name": "stderr",
     "output_type": "stream",
     "text": [
      "C:\\Users\\Jonathan\\AppData\\Local\\Temp\\ipykernel_8824\\591833966.py:16: UserWarning: Using default sampling frequency set in configuration file.\n",
      "  wz_extracted_features = tsfel.time_series_features_extractor(cfg, df['wz'], windows_size=100)\n"
     ]
    },
    {
     "data": {
      "text/html": [
       "\n",
       "              <p>\n",
       "                  Progress: 100% Complete\n",
       "              <p/>            \n",
       "              <progress\n",
       "                  value='60'\n",
       "                  max='60',\n",
       "                  style='width: 25%',\n",
       "              >\n",
       "                  60\n",
       "              </progress>\n",
       "\n",
       "    "
      ],
      "text/plain": [
       "<IPython.core.display.HTML object>"
      ]
     },
     "metadata": {},
     "output_type": "display_data"
    },
    {
     "name": "stdout",
     "output_type": "stream",
     "text": [
      "   Caida  0_FFT mean coefficient_0  0_FFT mean coefficient_1  \\\n",
      "0      1                  0.056155                  0.481255   \n",
      "\n",
      "   0_FFT mean coefficient_2  0_FFT mean coefficient_3  \\\n",
      "0                  1.551824                  0.328492   \n",
      "\n",
      "   0_FFT mean coefficient_4  0_FFT mean coefficient_5  \\\n",
      "0                  0.871964                  0.482325   \n",
      "\n",
      "   0_FFT mean coefficient_6  0_FFT mean coefficient_7  \\\n",
      "0                  0.683241                  0.776766   \n",
      "\n",
      "   0_FFT mean coefficient_8  ...  0_Median diff  0_Negative turning points  \\\n",
      "0                  0.734411  ...            0.0                       19.0   \n",
      "\n",
      "   0_Neighbourhood peaks  0_Peak to peak distance  0_Positive turning points  \\\n",
      "0                   22.0                     2.12                       27.0   \n",
      "\n",
      "   0_Signal distance       0_Slope  0_Sum absolute diff  0_Total energy  \\\n",
      "0       16932.717928 -4.184387e-07               141.91         4.43032   \n",
      "\n",
      "   0_Zero crossing rate  \n",
      "0                 483.0  \n",
      "\n",
      "[1 rows x 2341 columns]\n",
      "*** Feature extraction started ***\n",
      "60\n"
     ]
    },
    {
     "name": "stderr",
     "output_type": "stream",
     "text": [
      "C:\\Users\\Jonathan\\AppData\\Local\\Temp\\ipykernel_8824\\591833966.py:10: UserWarning: Using default sampling frequency set in configuration file.\n",
      "  ax_extracted_features = tsfel.time_series_features_extractor(cfg, df['ax'], windows_size=100)\n"
     ]
    },
    {
     "data": {
      "text/html": [
       "\n",
       "              <p>\n",
       "                  Progress: 100% Complete\n",
       "              <p/>            \n",
       "              <progress\n",
       "                  value='60'\n",
       "                  max='60',\n",
       "                  style='width: 25%',\n",
       "              >\n",
       "                  60\n",
       "              </progress>\n",
       "\n",
       "    "
      ],
      "text/plain": [
       "<IPython.core.display.HTML object>"
      ]
     },
     "metadata": {},
     "output_type": "display_data"
    },
    {
     "name": "stdout",
     "output_type": "stream",
     "text": [
      "*** Feature extraction started ***\n",
      "60\n"
     ]
    },
    {
     "name": "stderr",
     "output_type": "stream",
     "text": [
      "C:\\Users\\Jonathan\\AppData\\Local\\Temp\\ipykernel_8824\\591833966.py:11: UserWarning: Using default sampling frequency set in configuration file.\n",
      "  ay_extracted_features = tsfel.time_series_features_extractor(cfg, df['ay'], windows_size=100)\n"
     ]
    },
    {
     "data": {
      "text/html": [
       "\n",
       "              <p>\n",
       "                  Progress: 100% Complete\n",
       "              <p/>            \n",
       "              <progress\n",
       "                  value='60'\n",
       "                  max='60',\n",
       "                  style='width: 25%',\n",
       "              >\n",
       "                  60\n",
       "              </progress>\n",
       "\n",
       "    "
      ],
      "text/plain": [
       "<IPython.core.display.HTML object>"
      ]
     },
     "metadata": {},
     "output_type": "display_data"
    },
    {
     "name": "stdout",
     "output_type": "stream",
     "text": [
      "*** Feature extraction started ***\n",
      "60\n"
     ]
    },
    {
     "name": "stderr",
     "output_type": "stream",
     "text": [
      "C:\\Users\\Jonathan\\AppData\\Local\\Temp\\ipykernel_8824\\591833966.py:12: UserWarning: Using default sampling frequency set in configuration file.\n",
      "  az_extracted_features = tsfel.time_series_features_extractor(cfg, df['az'], windows_size=100)\n"
     ]
    },
    {
     "data": {
      "text/html": [
       "\n",
       "              <p>\n",
       "                  Progress: 100% Complete\n",
       "              <p/>            \n",
       "              <progress\n",
       "                  value='60'\n",
       "                  max='60',\n",
       "                  style='width: 25%',\n",
       "              >\n",
       "                  60\n",
       "              </progress>\n",
       "\n",
       "    "
      ],
      "text/plain": [
       "<IPython.core.display.HTML object>"
      ]
     },
     "metadata": {},
     "output_type": "display_data"
    },
    {
     "name": "stdout",
     "output_type": "stream",
     "text": [
      "*** Feature extraction started ***\n",
      "60\n"
     ]
    },
    {
     "name": "stderr",
     "output_type": "stream",
     "text": [
      "C:\\Users\\Jonathan\\AppData\\Local\\Temp\\ipykernel_8824\\591833966.py:14: UserWarning: Using default sampling frequency set in configuration file.\n",
      "  wx_extracted_features = tsfel.time_series_features_extractor(cfg, df['wx'], windows_size=100)\n"
     ]
    },
    {
     "data": {
      "text/html": [
       "\n",
       "              <p>\n",
       "                  Progress: 100% Complete\n",
       "              <p/>            \n",
       "              <progress\n",
       "                  value='60'\n",
       "                  max='60',\n",
       "                  style='width: 25%',\n",
       "              >\n",
       "                  60\n",
       "              </progress>\n",
       "\n",
       "    "
      ],
      "text/plain": [
       "<IPython.core.display.HTML object>"
      ]
     },
     "metadata": {},
     "output_type": "display_data"
    },
    {
     "name": "stdout",
     "output_type": "stream",
     "text": [
      "*** Feature extraction started ***\n",
      "60\n"
     ]
    },
    {
     "name": "stderr",
     "output_type": "stream",
     "text": [
      "C:\\Users\\Jonathan\\AppData\\Local\\Temp\\ipykernel_8824\\591833966.py:15: UserWarning: Using default sampling frequency set in configuration file.\n",
      "  wy_extracted_features = tsfel.time_series_features_extractor(cfg, df['wy'], windows_size=100)\n"
     ]
    },
    {
     "data": {
      "text/html": [
       "\n",
       "              <p>\n",
       "                  Progress: 100% Complete\n",
       "              <p/>            \n",
       "              <progress\n",
       "                  value='60'\n",
       "                  max='60',\n",
       "                  style='width: 25%',\n",
       "              >\n",
       "                  60\n",
       "              </progress>\n",
       "\n",
       "    "
      ],
      "text/plain": [
       "<IPython.core.display.HTML object>"
      ]
     },
     "metadata": {},
     "output_type": "display_data"
    },
    {
     "name": "stdout",
     "output_type": "stream",
     "text": [
      "*** Feature extraction started ***\n",
      "60\n"
     ]
    },
    {
     "name": "stderr",
     "output_type": "stream",
     "text": [
      "C:\\Users\\Jonathan\\AppData\\Local\\Temp\\ipykernel_8824\\591833966.py:16: UserWarning: Using default sampling frequency set in configuration file.\n",
      "  wz_extracted_features = tsfel.time_series_features_extractor(cfg, df['wz'], windows_size=100)\n"
     ]
    },
    {
     "data": {
      "text/html": [
       "\n",
       "              <p>\n",
       "                  Progress: 100% Complete\n",
       "              <p/>            \n",
       "              <progress\n",
       "                  value='60'\n",
       "                  max='60',\n",
       "                  style='width: 25%',\n",
       "              >\n",
       "                  60\n",
       "              </progress>\n",
       "\n",
       "    "
      ],
      "text/plain": [
       "<IPython.core.display.HTML object>"
      ]
     },
     "metadata": {},
     "output_type": "display_data"
    },
    {
     "name": "stdout",
     "output_type": "stream",
     "text": [
      "*** Feature extraction started ***\n",
      "60\n"
     ]
    },
    {
     "name": "stderr",
     "output_type": "stream",
     "text": [
      "C:\\Users\\Jonathan\\AppData\\Local\\Temp\\ipykernel_8824\\591833966.py:10: UserWarning: Using default sampling frequency set in configuration file.\n",
      "  ax_extracted_features = tsfel.time_series_features_extractor(cfg, df['ax'], windows_size=100)\n"
     ]
    },
    {
     "data": {
      "text/html": [
       "\n",
       "              <p>\n",
       "                  Progress: 100% Complete\n",
       "              <p/>            \n",
       "              <progress\n",
       "                  value='60'\n",
       "                  max='60',\n",
       "                  style='width: 25%',\n",
       "              >\n",
       "                  60\n",
       "              </progress>\n",
       "\n",
       "    "
      ],
      "text/plain": [
       "<IPython.core.display.HTML object>"
      ]
     },
     "metadata": {},
     "output_type": "display_data"
    },
    {
     "name": "stdout",
     "output_type": "stream",
     "text": [
      "*** Feature extraction started ***\n",
      "60\n"
     ]
    },
    {
     "name": "stderr",
     "output_type": "stream",
     "text": [
      "C:\\Users\\Jonathan\\AppData\\Local\\Temp\\ipykernel_8824\\591833966.py:11: UserWarning: Using default sampling frequency set in configuration file.\n",
      "  ay_extracted_features = tsfel.time_series_features_extractor(cfg, df['ay'], windows_size=100)\n"
     ]
    },
    {
     "data": {
      "text/html": [
       "\n",
       "              <p>\n",
       "                  Progress: 100% Complete\n",
       "              <p/>            \n",
       "              <progress\n",
       "                  value='60'\n",
       "                  max='60',\n",
       "                  style='width: 25%',\n",
       "              >\n",
       "                  60\n",
       "              </progress>\n",
       "\n",
       "    "
      ],
      "text/plain": [
       "<IPython.core.display.HTML object>"
      ]
     },
     "metadata": {},
     "output_type": "display_data"
    },
    {
     "name": "stdout",
     "output_type": "stream",
     "text": [
      "*** Feature extraction started ***\n",
      "60\n"
     ]
    },
    {
     "name": "stderr",
     "output_type": "stream",
     "text": [
      "C:\\Users\\Jonathan\\AppData\\Local\\Temp\\ipykernel_8824\\591833966.py:12: UserWarning: Using default sampling frequency set in configuration file.\n",
      "  az_extracted_features = tsfel.time_series_features_extractor(cfg, df['az'], windows_size=100)\n"
     ]
    },
    {
     "data": {
      "text/html": [
       "\n",
       "              <p>\n",
       "                  Progress: 100% Complete\n",
       "              <p/>            \n",
       "              <progress\n",
       "                  value='60'\n",
       "                  max='60',\n",
       "                  style='width: 25%',\n",
       "              >\n",
       "                  60\n",
       "              </progress>\n",
       "\n",
       "    "
      ],
      "text/plain": [
       "<IPython.core.display.HTML object>"
      ]
     },
     "metadata": {},
     "output_type": "display_data"
    },
    {
     "name": "stdout",
     "output_type": "stream",
     "text": [
      "*** Feature extraction started ***\n",
      "60\n"
     ]
    },
    {
     "name": "stderr",
     "output_type": "stream",
     "text": [
      "C:\\Users\\Jonathan\\AppData\\Local\\Temp\\ipykernel_8824\\591833966.py:14: UserWarning: Using default sampling frequency set in configuration file.\n",
      "  wx_extracted_features = tsfel.time_series_features_extractor(cfg, df['wx'], windows_size=100)\n"
     ]
    },
    {
     "data": {
      "text/html": [
       "\n",
       "              <p>\n",
       "                  Progress: 100% Complete\n",
       "              <p/>            \n",
       "              <progress\n",
       "                  value='60'\n",
       "                  max='60',\n",
       "                  style='width: 25%',\n",
       "              >\n",
       "                  60\n",
       "              </progress>\n",
       "\n",
       "    "
      ],
      "text/plain": [
       "<IPython.core.display.HTML object>"
      ]
     },
     "metadata": {},
     "output_type": "display_data"
    },
    {
     "name": "stdout",
     "output_type": "stream",
     "text": [
      "*** Feature extraction started ***\n",
      "60\n"
     ]
    },
    {
     "name": "stderr",
     "output_type": "stream",
     "text": [
      "C:\\Users\\Jonathan\\AppData\\Local\\Temp\\ipykernel_8824\\591833966.py:15: UserWarning: Using default sampling frequency set in configuration file.\n",
      "  wy_extracted_features = tsfel.time_series_features_extractor(cfg, df['wy'], windows_size=100)\n"
     ]
    },
    {
     "data": {
      "text/html": [
       "\n",
       "              <p>\n",
       "                  Progress: 100% Complete\n",
       "              <p/>            \n",
       "              <progress\n",
       "                  value='60'\n",
       "                  max='60',\n",
       "                  style='width: 25%',\n",
       "              >\n",
       "                  60\n",
       "              </progress>\n",
       "\n",
       "    "
      ],
      "text/plain": [
       "<IPython.core.display.HTML object>"
      ]
     },
     "metadata": {},
     "output_type": "display_data"
    },
    {
     "name": "stdout",
     "output_type": "stream",
     "text": [
      "*** Feature extraction started ***\n",
      "60\n"
     ]
    },
    {
     "name": "stderr",
     "output_type": "stream",
     "text": [
      "C:\\Users\\Jonathan\\AppData\\Local\\Temp\\ipykernel_8824\\591833966.py:16: UserWarning: Using default sampling frequency set in configuration file.\n",
      "  wz_extracted_features = tsfel.time_series_features_extractor(cfg, df['wz'], windows_size=100)\n"
     ]
    },
    {
     "data": {
      "text/html": [
       "\n",
       "              <p>\n",
       "                  Progress: 100% Complete\n",
       "              <p/>            \n",
       "              <progress\n",
       "                  value='60'\n",
       "                  max='60',\n",
       "                  style='width: 25%',\n",
       "              >\n",
       "                  60\n",
       "              </progress>\n",
       "\n",
       "    "
      ],
      "text/plain": [
       "<IPython.core.display.HTML object>"
      ]
     },
     "metadata": {},
     "output_type": "display_data"
    },
    {
     "name": "stdout",
     "output_type": "stream",
     "text": [
      "   Caida  0_FFT mean coefficient_0  0_FFT mean coefficient_1  \\\n",
      "0      1                  0.268758                   9.19349   \n",
      "\n",
      "   0_FFT mean coefficient_2  0_FFT mean coefficient_3  \\\n",
      "0                  8.430774                  6.073243   \n",
      "\n",
      "   0_FFT mean coefficient_4  0_FFT mean coefficient_5  \\\n",
      "0                  2.515605                  1.928931   \n",
      "\n",
      "   0_FFT mean coefficient_6  0_FFT mean coefficient_7  \\\n",
      "0                  0.917391                  0.599522   \n",
      "\n",
      "   0_FFT mean coefficient_8  ...  0_Median diff  0_Negative turning points  \\\n",
      "0                  0.380318  ...            0.0                      161.0   \n",
      "\n",
      "   0_Neighbourhood peaks  0_Peak to peak distance  0_Positive turning points  \\\n",
      "0                   49.0                     7.94                      183.0   \n",
      "\n",
      "   0_Signal distance   0_Slope  0_Sum absolute diff  0_Total energy  \\\n",
      "0       44364.102298  0.000004                456.5       40.826123   \n",
      "\n",
      "   0_Zero crossing rate  \n",
      "0                1018.0  \n",
      "\n",
      "[1 rows x 2341 columns]\n",
      "*** Feature extraction started ***\n",
      "60\n"
     ]
    },
    {
     "name": "stderr",
     "output_type": "stream",
     "text": [
      "C:\\Users\\Jonathan\\AppData\\Local\\Temp\\ipykernel_8824\\591833966.py:10: UserWarning: Using default sampling frequency set in configuration file.\n",
      "  ax_extracted_features = tsfel.time_series_features_extractor(cfg, df['ax'], windows_size=100)\n"
     ]
    },
    {
     "data": {
      "text/html": [
       "\n",
       "              <p>\n",
       "                  Progress: 100% Complete\n",
       "              <p/>            \n",
       "              <progress\n",
       "                  value='60'\n",
       "                  max='60',\n",
       "                  style='width: 25%',\n",
       "              >\n",
       "                  60\n",
       "              </progress>\n",
       "\n",
       "    "
      ],
      "text/plain": [
       "<IPython.core.display.HTML object>"
      ]
     },
     "metadata": {},
     "output_type": "display_data"
    },
    {
     "name": "stdout",
     "output_type": "stream",
     "text": [
      "*** Feature extraction started ***\n",
      "60\n"
     ]
    },
    {
     "name": "stderr",
     "output_type": "stream",
     "text": [
      "C:\\Users\\Jonathan\\AppData\\Local\\Temp\\ipykernel_8824\\591833966.py:11: UserWarning: Using default sampling frequency set in configuration file.\n",
      "  ay_extracted_features = tsfel.time_series_features_extractor(cfg, df['ay'], windows_size=100)\n"
     ]
    },
    {
     "data": {
      "text/html": [
       "\n",
       "              <p>\n",
       "                  Progress: 100% Complete\n",
       "              <p/>            \n",
       "              <progress\n",
       "                  value='60'\n",
       "                  max='60',\n",
       "                  style='width: 25%',\n",
       "              >\n",
       "                  60\n",
       "              </progress>\n",
       "\n",
       "    "
      ],
      "text/plain": [
       "<IPython.core.display.HTML object>"
      ]
     },
     "metadata": {},
     "output_type": "display_data"
    },
    {
     "name": "stdout",
     "output_type": "stream",
     "text": [
      "*** Feature extraction started ***\n",
      "60\n"
     ]
    },
    {
     "name": "stderr",
     "output_type": "stream",
     "text": [
      "C:\\Users\\Jonathan\\AppData\\Local\\Temp\\ipykernel_8824\\591833966.py:12: UserWarning: Using default sampling frequency set in configuration file.\n",
      "  az_extracted_features = tsfel.time_series_features_extractor(cfg, df['az'], windows_size=100)\n"
     ]
    },
    {
     "data": {
      "text/html": [
       "\n",
       "              <p>\n",
       "                  Progress: 100% Complete\n",
       "              <p/>            \n",
       "              <progress\n",
       "                  value='60'\n",
       "                  max='60',\n",
       "                  style='width: 25%',\n",
       "              >\n",
       "                  60\n",
       "              </progress>\n",
       "\n",
       "    "
      ],
      "text/plain": [
       "<IPython.core.display.HTML object>"
      ]
     },
     "metadata": {},
     "output_type": "display_data"
    },
    {
     "name": "stdout",
     "output_type": "stream",
     "text": [
      "*** Feature extraction started ***\n",
      "60\n"
     ]
    },
    {
     "name": "stderr",
     "output_type": "stream",
     "text": [
      "C:\\Users\\Jonathan\\AppData\\Local\\Temp\\ipykernel_8824\\591833966.py:14: UserWarning: Using default sampling frequency set in configuration file.\n",
      "  wx_extracted_features = tsfel.time_series_features_extractor(cfg, df['wx'], windows_size=100)\n"
     ]
    },
    {
     "data": {
      "text/html": [
       "\n",
       "              <p>\n",
       "                  Progress: 100% Complete\n",
       "              <p/>            \n",
       "              <progress\n",
       "                  value='60'\n",
       "                  max='60',\n",
       "                  style='width: 25%',\n",
       "              >\n",
       "                  60\n",
       "              </progress>\n",
       "\n",
       "    "
      ],
      "text/plain": [
       "<IPython.core.display.HTML object>"
      ]
     },
     "metadata": {},
     "output_type": "display_data"
    },
    {
     "name": "stdout",
     "output_type": "stream",
     "text": [
      "*** Feature extraction started ***\n",
      "60\n"
     ]
    },
    {
     "name": "stderr",
     "output_type": "stream",
     "text": [
      "C:\\Users\\Jonathan\\AppData\\Local\\Temp\\ipykernel_8824\\591833966.py:15: UserWarning: Using default sampling frequency set in configuration file.\n",
      "  wy_extracted_features = tsfel.time_series_features_extractor(cfg, df['wy'], windows_size=100)\n"
     ]
    },
    {
     "data": {
      "text/html": [
       "\n",
       "              <p>\n",
       "                  Progress: 100% Complete\n",
       "              <p/>            \n",
       "              <progress\n",
       "                  value='60'\n",
       "                  max='60',\n",
       "                  style='width: 25%',\n",
       "              >\n",
       "                  60\n",
       "              </progress>\n",
       "\n",
       "    "
      ],
      "text/plain": [
       "<IPython.core.display.HTML object>"
      ]
     },
     "metadata": {},
     "output_type": "display_data"
    },
    {
     "name": "stdout",
     "output_type": "stream",
     "text": [
      "*** Feature extraction started ***\n",
      "60\n"
     ]
    },
    {
     "name": "stderr",
     "output_type": "stream",
     "text": [
      "C:\\Users\\Jonathan\\AppData\\Local\\Temp\\ipykernel_8824\\591833966.py:16: UserWarning: Using default sampling frequency set in configuration file.\n",
      "  wz_extracted_features = tsfel.time_series_features_extractor(cfg, df['wz'], windows_size=100)\n"
     ]
    },
    {
     "data": {
      "text/html": [
       "\n",
       "              <p>\n",
       "                  Progress: 100% Complete\n",
       "              <p/>            \n",
       "              <progress\n",
       "                  value='60'\n",
       "                  max='60',\n",
       "                  style='width: 25%',\n",
       "              >\n",
       "                  60\n",
       "              </progress>\n",
       "\n",
       "    "
      ],
      "text/plain": [
       "<IPython.core.display.HTML object>"
      ]
     },
     "metadata": {},
     "output_type": "display_data"
    },
    {
     "name": "stdout",
     "output_type": "stream",
     "text": [
      "*** Feature extraction started ***\n",
      "60\n"
     ]
    },
    {
     "name": "stderr",
     "output_type": "stream",
     "text": [
      "C:\\Users\\Jonathan\\AppData\\Local\\Temp\\ipykernel_8824\\591833966.py:10: UserWarning: Using default sampling frequency set in configuration file.\n",
      "  ax_extracted_features = tsfel.time_series_features_extractor(cfg, df['ax'], windows_size=100)\n"
     ]
    },
    {
     "data": {
      "text/html": [
       "\n",
       "              <p>\n",
       "                  Progress: 100% Complete\n",
       "              <p/>            \n",
       "              <progress\n",
       "                  value='60'\n",
       "                  max='60',\n",
       "                  style='width: 25%',\n",
       "              >\n",
       "                  60\n",
       "              </progress>\n",
       "\n",
       "    "
      ],
      "text/plain": [
       "<IPython.core.display.HTML object>"
      ]
     },
     "metadata": {},
     "output_type": "display_data"
    },
    {
     "name": "stdout",
     "output_type": "stream",
     "text": [
      "*** Feature extraction started ***\n",
      "60\n"
     ]
    },
    {
     "name": "stderr",
     "output_type": "stream",
     "text": [
      "C:\\Users\\Jonathan\\AppData\\Local\\Temp\\ipykernel_8824\\591833966.py:11: UserWarning: Using default sampling frequency set in configuration file.\n",
      "  ay_extracted_features = tsfel.time_series_features_extractor(cfg, df['ay'], windows_size=100)\n"
     ]
    },
    {
     "data": {
      "text/html": [
       "\n",
       "              <p>\n",
       "                  Progress: 100% Complete\n",
       "              <p/>            \n",
       "              <progress\n",
       "                  value='60'\n",
       "                  max='60',\n",
       "                  style='width: 25%',\n",
       "              >\n",
       "                  60\n",
       "              </progress>\n",
       "\n",
       "    "
      ],
      "text/plain": [
       "<IPython.core.display.HTML object>"
      ]
     },
     "metadata": {},
     "output_type": "display_data"
    },
    {
     "name": "stdout",
     "output_type": "stream",
     "text": [
      "*** Feature extraction started ***\n",
      "60\n"
     ]
    },
    {
     "name": "stderr",
     "output_type": "stream",
     "text": [
      "C:\\Users\\Jonathan\\AppData\\Local\\Temp\\ipykernel_8824\\591833966.py:12: UserWarning: Using default sampling frequency set in configuration file.\n",
      "  az_extracted_features = tsfel.time_series_features_extractor(cfg, df['az'], windows_size=100)\n"
     ]
    },
    {
     "data": {
      "text/html": [
       "\n",
       "              <p>\n",
       "                  Progress: 100% Complete\n",
       "              <p/>            \n",
       "              <progress\n",
       "                  value='60'\n",
       "                  max='60',\n",
       "                  style='width: 25%',\n",
       "              >\n",
       "                  60\n",
       "              </progress>\n",
       "\n",
       "    "
      ],
      "text/plain": [
       "<IPython.core.display.HTML object>"
      ]
     },
     "metadata": {},
     "output_type": "display_data"
    },
    {
     "name": "stdout",
     "output_type": "stream",
     "text": [
      "*** Feature extraction started ***\n",
      "60\n"
     ]
    },
    {
     "name": "stderr",
     "output_type": "stream",
     "text": [
      "C:\\Users\\Jonathan\\AppData\\Local\\Temp\\ipykernel_8824\\591833966.py:14: UserWarning: Using default sampling frequency set in configuration file.\n",
      "  wx_extracted_features = tsfel.time_series_features_extractor(cfg, df['wx'], windows_size=100)\n"
     ]
    },
    {
     "data": {
      "text/html": [
       "\n",
       "              <p>\n",
       "                  Progress: 100% Complete\n",
       "              <p/>            \n",
       "              <progress\n",
       "                  value='60'\n",
       "                  max='60',\n",
       "                  style='width: 25%',\n",
       "              >\n",
       "                  60\n",
       "              </progress>\n",
       "\n",
       "    "
      ],
      "text/plain": [
       "<IPython.core.display.HTML object>"
      ]
     },
     "metadata": {},
     "output_type": "display_data"
    },
    {
     "name": "stdout",
     "output_type": "stream",
     "text": [
      "*** Feature extraction started ***\n",
      "60\n"
     ]
    },
    {
     "name": "stderr",
     "output_type": "stream",
     "text": [
      "C:\\Users\\Jonathan\\AppData\\Local\\Temp\\ipykernel_8824\\591833966.py:15: UserWarning: Using default sampling frequency set in configuration file.\n",
      "  wy_extracted_features = tsfel.time_series_features_extractor(cfg, df['wy'], windows_size=100)\n"
     ]
    },
    {
     "data": {
      "text/html": [
       "\n",
       "              <p>\n",
       "                  Progress: 100% Complete\n",
       "              <p/>            \n",
       "              <progress\n",
       "                  value='60'\n",
       "                  max='60',\n",
       "                  style='width: 25%',\n",
       "              >\n",
       "                  60\n",
       "              </progress>\n",
       "\n",
       "    "
      ],
      "text/plain": [
       "<IPython.core.display.HTML object>"
      ]
     },
     "metadata": {},
     "output_type": "display_data"
    },
    {
     "name": "stdout",
     "output_type": "stream",
     "text": [
      "*** Feature extraction started ***\n",
      "60\n"
     ]
    },
    {
     "name": "stderr",
     "output_type": "stream",
     "text": [
      "C:\\Users\\Jonathan\\AppData\\Local\\Temp\\ipykernel_8824\\591833966.py:16: UserWarning: Using default sampling frequency set in configuration file.\n",
      "  wz_extracted_features = tsfel.time_series_features_extractor(cfg, df['wz'], windows_size=100)\n"
     ]
    },
    {
     "data": {
      "text/html": [
       "\n",
       "              <p>\n",
       "                  Progress: 100% Complete\n",
       "              <p/>            \n",
       "              <progress\n",
       "                  value='60'\n",
       "                  max='60',\n",
       "                  style='width: 25%',\n",
       "              >\n",
       "                  60\n",
       "              </progress>\n",
       "\n",
       "    "
      ],
      "text/plain": [
       "<IPython.core.display.HTML object>"
      ]
     },
     "metadata": {},
     "output_type": "display_data"
    },
    {
     "name": "stdout",
     "output_type": "stream",
     "text": [
      "   Caida  0_FFT mean coefficient_0  0_FFT mean coefficient_1  \\\n",
      "0      1                  0.132286                  5.455448   \n",
      "\n",
      "   0_FFT mean coefficient_2  0_FFT mean coefficient_3  \\\n",
      "0                  5.360226                  3.381122   \n",
      "\n",
      "   0_FFT mean coefficient_4  0_FFT mean coefficient_5  \\\n",
      "0                  1.831383                  1.326156   \n",
      "\n",
      "   0_FFT mean coefficient_6  0_FFT mean coefficient_7  \\\n",
      "0                  0.829915                  0.770553   \n",
      "\n",
      "   0_FFT mean coefficient_8  ...  0_Median diff  0_Negative turning points  \\\n",
      "0                   0.58756  ...            0.0                        2.0   \n",
      "\n",
      "   0_Neighbourhood peaks  0_Peak to peak distance  0_Positive turning points  \\\n",
      "0                    2.0                  10.6439                        3.0   \n",
      "\n",
      "   0_Signal distance   0_Slope  0_Sum absolute diff  0_Total energy  \\\n",
      "0       45632.109574  0.000013             298.7343        47.45328   \n",
      "\n",
      "   0_Zero crossing rate  \n",
      "0                 355.0  \n",
      "\n",
      "[1 rows x 2341 columns]\n",
      "*** Feature extraction started ***\n",
      "60\n"
     ]
    },
    {
     "name": "stderr",
     "output_type": "stream",
     "text": [
      "C:\\Users\\Jonathan\\AppData\\Local\\Temp\\ipykernel_8824\\591833966.py:10: UserWarning: Using default sampling frequency set in configuration file.\n",
      "  ax_extracted_features = tsfel.time_series_features_extractor(cfg, df['ax'], windows_size=100)\n"
     ]
    },
    {
     "data": {
      "text/html": [
       "\n",
       "              <p>\n",
       "                  Progress: 100% Complete\n",
       "              <p/>            \n",
       "              <progress\n",
       "                  value='60'\n",
       "                  max='60',\n",
       "                  style='width: 25%',\n",
       "              >\n",
       "                  60\n",
       "              </progress>\n",
       "\n",
       "    "
      ],
      "text/plain": [
       "<IPython.core.display.HTML object>"
      ]
     },
     "metadata": {},
     "output_type": "display_data"
    },
    {
     "name": "stdout",
     "output_type": "stream",
     "text": [
      "*** Feature extraction started ***\n",
      "60\n"
     ]
    },
    {
     "name": "stderr",
     "output_type": "stream",
     "text": [
      "C:\\Users\\Jonathan\\AppData\\Local\\Temp\\ipykernel_8824\\591833966.py:11: UserWarning: Using default sampling frequency set in configuration file.\n",
      "  ay_extracted_features = tsfel.time_series_features_extractor(cfg, df['ay'], windows_size=100)\n"
     ]
    },
    {
     "data": {
      "text/html": [
       "\n",
       "              <p>\n",
       "                  Progress: 100% Complete\n",
       "              <p/>            \n",
       "              <progress\n",
       "                  value='60'\n",
       "                  max='60',\n",
       "                  style='width: 25%',\n",
       "              >\n",
       "                  60\n",
       "              </progress>\n",
       "\n",
       "    "
      ],
      "text/plain": [
       "<IPython.core.display.HTML object>"
      ]
     },
     "metadata": {},
     "output_type": "display_data"
    },
    {
     "name": "stdout",
     "output_type": "stream",
     "text": [
      "*** Feature extraction started ***\n",
      "60\n"
     ]
    },
    {
     "name": "stderr",
     "output_type": "stream",
     "text": [
      "C:\\Users\\Jonathan\\AppData\\Local\\Temp\\ipykernel_8824\\591833966.py:12: UserWarning: Using default sampling frequency set in configuration file.\n",
      "  az_extracted_features = tsfel.time_series_features_extractor(cfg, df['az'], windows_size=100)\n"
     ]
    },
    {
     "data": {
      "text/html": [
       "\n",
       "              <p>\n",
       "                  Progress: 100% Complete\n",
       "              <p/>            \n",
       "              <progress\n",
       "                  value='60'\n",
       "                  max='60',\n",
       "                  style='width: 25%',\n",
       "              >\n",
       "                  60\n",
       "              </progress>\n",
       "\n",
       "    "
      ],
      "text/plain": [
       "<IPython.core.display.HTML object>"
      ]
     },
     "metadata": {},
     "output_type": "display_data"
    },
    {
     "name": "stdout",
     "output_type": "stream",
     "text": [
      "*** Feature extraction started ***\n",
      "60\n"
     ]
    },
    {
     "name": "stderr",
     "output_type": "stream",
     "text": [
      "C:\\Users\\Jonathan\\AppData\\Local\\Temp\\ipykernel_8824\\591833966.py:14: UserWarning: Using default sampling frequency set in configuration file.\n",
      "  wx_extracted_features = tsfel.time_series_features_extractor(cfg, df['wx'], windows_size=100)\n"
     ]
    },
    {
     "data": {
      "text/html": [
       "\n",
       "              <p>\n",
       "                  Progress: 100% Complete\n",
       "              <p/>            \n",
       "              <progress\n",
       "                  value='60'\n",
       "                  max='60',\n",
       "                  style='width: 25%',\n",
       "              >\n",
       "                  60\n",
       "              </progress>\n",
       "\n",
       "    "
      ],
      "text/plain": [
       "<IPython.core.display.HTML object>"
      ]
     },
     "metadata": {},
     "output_type": "display_data"
    },
    {
     "name": "stdout",
     "output_type": "stream",
     "text": [
      "*** Feature extraction started ***\n",
      "60\n"
     ]
    },
    {
     "name": "stderr",
     "output_type": "stream",
     "text": [
      "C:\\Users\\Jonathan\\AppData\\Local\\Temp\\ipykernel_8824\\591833966.py:15: UserWarning: Using default sampling frequency set in configuration file.\n",
      "  wy_extracted_features = tsfel.time_series_features_extractor(cfg, df['wy'], windows_size=100)\n"
     ]
    },
    {
     "data": {
      "text/html": [
       "\n",
       "              <p>\n",
       "                  Progress: 100% Complete\n",
       "              <p/>            \n",
       "              <progress\n",
       "                  value='60'\n",
       "                  max='60',\n",
       "                  style='width: 25%',\n",
       "              >\n",
       "                  60\n",
       "              </progress>\n",
       "\n",
       "    "
      ],
      "text/plain": [
       "<IPython.core.display.HTML object>"
      ]
     },
     "metadata": {},
     "output_type": "display_data"
    },
    {
     "name": "stdout",
     "output_type": "stream",
     "text": [
      "*** Feature extraction started ***\n",
      "60\n"
     ]
    },
    {
     "name": "stderr",
     "output_type": "stream",
     "text": [
      "C:\\Users\\Jonathan\\AppData\\Local\\Temp\\ipykernel_8824\\591833966.py:16: UserWarning: Using default sampling frequency set in configuration file.\n",
      "  wz_extracted_features = tsfel.time_series_features_extractor(cfg, df['wz'], windows_size=100)\n"
     ]
    },
    {
     "data": {
      "text/html": [
       "\n",
       "              <p>\n",
       "                  Progress: 100% Complete\n",
       "              <p/>            \n",
       "              <progress\n",
       "                  value='60'\n",
       "                  max='60',\n",
       "                  style='width: 25%',\n",
       "              >\n",
       "                  60\n",
       "              </progress>\n",
       "\n",
       "    "
      ],
      "text/plain": [
       "<IPython.core.display.HTML object>"
      ]
     },
     "metadata": {},
     "output_type": "display_data"
    },
    {
     "name": "stdout",
     "output_type": "stream",
     "text": [
      "*** Feature extraction started ***\n",
      "60\n"
     ]
    },
    {
     "name": "stderr",
     "output_type": "stream",
     "text": [
      "C:\\Users\\Jonathan\\AppData\\Local\\Temp\\ipykernel_8824\\591833966.py:10: UserWarning: Using default sampling frequency set in configuration file.\n",
      "  ax_extracted_features = tsfel.time_series_features_extractor(cfg, df['ax'], windows_size=100)\n"
     ]
    },
    {
     "data": {
      "text/html": [
       "\n",
       "              <p>\n",
       "                  Progress: 100% Complete\n",
       "              <p/>            \n",
       "              <progress\n",
       "                  value='60'\n",
       "                  max='60',\n",
       "                  style='width: 25%',\n",
       "              >\n",
       "                  60\n",
       "              </progress>\n",
       "\n",
       "    "
      ],
      "text/plain": [
       "<IPython.core.display.HTML object>"
      ]
     },
     "metadata": {},
     "output_type": "display_data"
    },
    {
     "name": "stdout",
     "output_type": "stream",
     "text": [
      "*** Feature extraction started ***\n",
      "60\n"
     ]
    },
    {
     "name": "stderr",
     "output_type": "stream",
     "text": [
      "C:\\Users\\Jonathan\\AppData\\Local\\Temp\\ipykernel_8824\\591833966.py:11: UserWarning: Using default sampling frequency set in configuration file.\n",
      "  ay_extracted_features = tsfel.time_series_features_extractor(cfg, df['ay'], windows_size=100)\n"
     ]
    },
    {
     "data": {
      "text/html": [
       "\n",
       "              <p>\n",
       "                  Progress: 100% Complete\n",
       "              <p/>            \n",
       "              <progress\n",
       "                  value='60'\n",
       "                  max='60',\n",
       "                  style='width: 25%',\n",
       "              >\n",
       "                  60\n",
       "              </progress>\n",
       "\n",
       "    "
      ],
      "text/plain": [
       "<IPython.core.display.HTML object>"
      ]
     },
     "metadata": {},
     "output_type": "display_data"
    },
    {
     "name": "stdout",
     "output_type": "stream",
     "text": [
      "*** Feature extraction started ***\n",
      "60\n"
     ]
    },
    {
     "name": "stderr",
     "output_type": "stream",
     "text": [
      "C:\\Users\\Jonathan\\AppData\\Local\\Temp\\ipykernel_8824\\591833966.py:12: UserWarning: Using default sampling frequency set in configuration file.\n",
      "  az_extracted_features = tsfel.time_series_features_extractor(cfg, df['az'], windows_size=100)\n"
     ]
    },
    {
     "data": {
      "text/html": [
       "\n",
       "              <p>\n",
       "                  Progress: 100% Complete\n",
       "              <p/>            \n",
       "              <progress\n",
       "                  value='60'\n",
       "                  max='60',\n",
       "                  style='width: 25%',\n",
       "              >\n",
       "                  60\n",
       "              </progress>\n",
       "\n",
       "    "
      ],
      "text/plain": [
       "<IPython.core.display.HTML object>"
      ]
     },
     "metadata": {},
     "output_type": "display_data"
    },
    {
     "name": "stdout",
     "output_type": "stream",
     "text": [
      "*** Feature extraction started ***\n",
      "60\n"
     ]
    },
    {
     "name": "stderr",
     "output_type": "stream",
     "text": [
      "C:\\Users\\Jonathan\\AppData\\Local\\Temp\\ipykernel_8824\\591833966.py:14: UserWarning: Using default sampling frequency set in configuration file.\n",
      "  wx_extracted_features = tsfel.time_series_features_extractor(cfg, df['wx'], windows_size=100)\n"
     ]
    },
    {
     "data": {
      "text/html": [
       "\n",
       "              <p>\n",
       "                  Progress: 100% Complete\n",
       "              <p/>            \n",
       "              <progress\n",
       "                  value='60'\n",
       "                  max='60',\n",
       "                  style='width: 25%',\n",
       "              >\n",
       "                  60\n",
       "              </progress>\n",
       "\n",
       "    "
      ],
      "text/plain": [
       "<IPython.core.display.HTML object>"
      ]
     },
     "metadata": {},
     "output_type": "display_data"
    },
    {
     "name": "stdout",
     "output_type": "stream",
     "text": [
      "*** Feature extraction started ***\n",
      "60\n"
     ]
    },
    {
     "name": "stderr",
     "output_type": "stream",
     "text": [
      "C:\\Users\\Jonathan\\AppData\\Local\\Temp\\ipykernel_8824\\591833966.py:15: UserWarning: Using default sampling frequency set in configuration file.\n",
      "  wy_extracted_features = tsfel.time_series_features_extractor(cfg, df['wy'], windows_size=100)\n"
     ]
    },
    {
     "data": {
      "text/html": [
       "\n",
       "              <p>\n",
       "                  Progress: 100% Complete\n",
       "              <p/>            \n",
       "              <progress\n",
       "                  value='60'\n",
       "                  max='60',\n",
       "                  style='width: 25%',\n",
       "              >\n",
       "                  60\n",
       "              </progress>\n",
       "\n",
       "    "
      ],
      "text/plain": [
       "<IPython.core.display.HTML object>"
      ]
     },
     "metadata": {},
     "output_type": "display_data"
    },
    {
     "name": "stdout",
     "output_type": "stream",
     "text": [
      "*** Feature extraction started ***\n",
      "60\n"
     ]
    },
    {
     "name": "stderr",
     "output_type": "stream",
     "text": [
      "C:\\Users\\Jonathan\\AppData\\Local\\Temp\\ipykernel_8824\\591833966.py:16: UserWarning: Using default sampling frequency set in configuration file.\n",
      "  wz_extracted_features = tsfel.time_series_features_extractor(cfg, df['wz'], windows_size=100)\n"
     ]
    },
    {
     "data": {
      "text/html": [
       "\n",
       "              <p>\n",
       "                  Progress: 100% Complete\n",
       "              <p/>            \n",
       "              <progress\n",
       "                  value='60'\n",
       "                  max='60',\n",
       "                  style='width: 25%',\n",
       "              >\n",
       "                  60\n",
       "              </progress>\n",
       "\n",
       "    "
      ],
      "text/plain": [
       "<IPython.core.display.HTML object>"
      ]
     },
     "metadata": {},
     "output_type": "display_data"
    },
    {
     "name": "stdout",
     "output_type": "stream",
     "text": [
      "   Caida  0_FFT mean coefficient_0  0_FFT mean coefficient_1  \\\n",
      "0      1                  0.246221                  8.267485   \n",
      "\n",
      "   0_FFT mean coefficient_2  0_FFT mean coefficient_3  \\\n",
      "0                  6.973996                  4.919505   \n",
      "\n",
      "   0_FFT mean coefficient_4  0_FFT mean coefficient_5  \\\n",
      "0                  3.118543                  1.122422   \n",
      "\n",
      "   0_FFT mean coefficient_6  0_FFT mean coefficient_7  \\\n",
      "0                  1.253275                  0.759075   \n",
      "\n",
      "   0_FFT mean coefficient_8  ...  0_Median diff  0_Negative turning points  \\\n",
      "0                  0.610748  ...            0.0                        2.0   \n",
      "\n",
      "   0_Neighbourhood peaks  0_Peak to peak distance  0_Positive turning points  \\\n",
      "0                    0.0                  10.9569                        1.0   \n",
      "\n",
      "   0_Signal distance   0_Slope  0_Sum absolute diff  0_Total energy  \\\n",
      "0       64242.593152  0.000006             483.1446       40.401717   \n",
      "\n",
      "   0_Zero crossing rate  \n",
      "0                 450.0  \n",
      "\n",
      "[1 rows x 2341 columns]\n",
      "   Caida  0_FFT mean coefficient_0  0_FFT mean coefficient_1  \\\n",
      "0      1                  0.132085                  3.042511   \n",
      "0      1                  0.027088                  0.499488   \n",
      "0      1                  0.395029                 14.259278   \n",
      "0      1                  0.044757                  1.292231   \n",
      "0      1                  0.056155                  0.481255   \n",
      "0      1                  0.268758                  9.193490   \n",
      "0      1                  0.132286                  5.455448   \n",
      "0      1                  0.246221                  8.267485   \n",
      "\n",
      "   0_FFT mean coefficient_2  0_FFT mean coefficient_3  \\\n",
      "0                  2.927502                  2.800327   \n",
      "0                  1.087891                  0.280965   \n",
      "0                  4.167078                  2.985040   \n",
      "0                  1.189343                  0.983739   \n",
      "0                  1.551824                  0.328492   \n",
      "0                  8.430774                  6.073243   \n",
      "0                  5.360226                  3.381122   \n",
      "0                  6.973996                  4.919505   \n",
      "\n",
      "   0_FFT mean coefficient_4  0_FFT mean coefficient_5  \\\n",
      "0                  2.091819                  1.102064   \n",
      "0                  0.437796                  0.355547   \n",
      "0                  3.010430                  1.862288   \n",
      "0                  0.739763                  0.459762   \n",
      "0                  0.871964                  0.482325   \n",
      "0                  2.515605                  1.928931   \n",
      "0                  1.831383                  1.326156   \n",
      "0                  3.118543                  1.122422   \n",
      "\n",
      "   0_FFT mean coefficient_6  0_FFT mean coefficient_7  \\\n",
      "0                  0.875626                  1.176028   \n",
      "0                  0.543260                  0.449776   \n",
      "0                  1.208616                  0.923239   \n",
      "0                  0.503173                  0.526052   \n",
      "0                  0.683241                  0.776766   \n",
      "0                  0.917391                  0.599522   \n",
      "0                  0.829915                  0.770553   \n",
      "0                  1.253275                  0.759075   \n",
      "\n",
      "   0_FFT mean coefficient_8  ...  0_Median diff  0_Negative turning points  \\\n",
      "0                  0.887498  ...            0.0                       30.0   \n",
      "0                  0.702400  ...            0.0                       11.0   \n",
      "0                  0.891855  ...            0.0                      145.0   \n",
      "0                  0.171102  ...            0.0                      174.0   \n",
      "0                  0.734411  ...            0.0                       19.0   \n",
      "0                  0.380318  ...            0.0                      161.0   \n",
      "0                  0.587560  ...            0.0                        2.0   \n",
      "0                  0.610748  ...            0.0                        2.0   \n",
      "\n",
      "   0_Neighbourhood peaks  0_Peak to peak distance  0_Positive turning points  \\\n",
      "0                   12.0                  16.5800                       26.0   \n",
      "0                   12.0                   2.4700                       18.0   \n",
      "0                   32.0                  10.0200                      133.0   \n",
      "0                   33.0                  12.1700                      170.0   \n",
      "0                   22.0                   2.1200                       27.0   \n",
      "0                   49.0                   7.9400                      183.0   \n",
      "0                    2.0                  10.6439                        3.0   \n",
      "0                    0.0                  10.9569                        1.0   \n",
      "\n",
      "   0_Signal distance       0_Slope  0_Sum absolute diff  0_Total energy  \\\n",
      "0       30772.740382  1.959646e-06             267.3200       36.060530   \n",
      "0       14564.629231 -8.298997e-07              95.3200        4.821618   \n",
      "0       30221.612917 -2.278738e-06             395.4400       81.343710   \n",
      "0       79885.731347  2.104734e-06             492.8400       29.625755   \n",
      "0       16932.717928 -4.184387e-07             141.9100        4.430320   \n",
      "0       44364.102298  4.207922e-06             456.5000       40.826123   \n",
      "0       45632.109574  1.304424e-05             298.7343       47.453280   \n",
      "0       64242.593152  6.439263e-06             483.1446       40.401717   \n",
      "\n",
      "   0_Zero crossing rate  \n",
      "0                 422.0  \n",
      "0                 289.0  \n",
      "0                 839.0  \n",
      "0                1309.0  \n",
      "0                 483.0  \n",
      "0                1018.0  \n",
      "0                 355.0  \n",
      "0                 450.0  \n",
      "\n",
      "[8 rows x 2341 columns]\n",
      "*** Feature extraction started ***\n",
      "60\n"
     ]
    },
    {
     "name": "stderr",
     "output_type": "stream",
     "text": [
      "C:\\Users\\Jonathan\\AppData\\Local\\Temp\\ipykernel_8824\\591833966.py:10: UserWarning: Using default sampling frequency set in configuration file.\n",
      "  ax_extracted_features = tsfel.time_series_features_extractor(cfg, df['ax'], windows_size=100)\n"
     ]
    },
    {
     "data": {
      "text/html": [
       "\n",
       "              <p>\n",
       "                  Progress: 100% Complete\n",
       "              <p/>            \n",
       "              <progress\n",
       "                  value='60'\n",
       "                  max='60',\n",
       "                  style='width: 25%',\n",
       "              >\n",
       "                  60\n",
       "              </progress>\n",
       "\n",
       "    "
      ],
      "text/plain": [
       "<IPython.core.display.HTML object>"
      ]
     },
     "metadata": {},
     "output_type": "display_data"
    },
    {
     "name": "stdout",
     "output_type": "stream",
     "text": [
      "*** Feature extraction started ***\n",
      "60\n"
     ]
    },
    {
     "name": "stderr",
     "output_type": "stream",
     "text": [
      "C:\\Users\\Jonathan\\AppData\\Local\\Temp\\ipykernel_8824\\591833966.py:11: UserWarning: Using default sampling frequency set in configuration file.\n",
      "  ay_extracted_features = tsfel.time_series_features_extractor(cfg, df['ay'], windows_size=100)\n"
     ]
    },
    {
     "data": {
      "text/html": [
       "\n",
       "              <p>\n",
       "                  Progress: 100% Complete\n",
       "              <p/>            \n",
       "              <progress\n",
       "                  value='60'\n",
       "                  max='60',\n",
       "                  style='width: 25%',\n",
       "              >\n",
       "                  60\n",
       "              </progress>\n",
       "\n",
       "    "
      ],
      "text/plain": [
       "<IPython.core.display.HTML object>"
      ]
     },
     "metadata": {},
     "output_type": "display_data"
    },
    {
     "name": "stdout",
     "output_type": "stream",
     "text": [
      "*** Feature extraction started ***\n",
      "60\n"
     ]
    },
    {
     "name": "stderr",
     "output_type": "stream",
     "text": [
      "C:\\Users\\Jonathan\\AppData\\Local\\Temp\\ipykernel_8824\\591833966.py:12: UserWarning: Using default sampling frequency set in configuration file.\n",
      "  az_extracted_features = tsfel.time_series_features_extractor(cfg, df['az'], windows_size=100)\n"
     ]
    },
    {
     "data": {
      "text/html": [
       "\n",
       "              <p>\n",
       "                  Progress: 100% Complete\n",
       "              <p/>            \n",
       "              <progress\n",
       "                  value='60'\n",
       "                  max='60',\n",
       "                  style='width: 25%',\n",
       "              >\n",
       "                  60\n",
       "              </progress>\n",
       "\n",
       "    "
      ],
      "text/plain": [
       "<IPython.core.display.HTML object>"
      ]
     },
     "metadata": {},
     "output_type": "display_data"
    },
    {
     "name": "stdout",
     "output_type": "stream",
     "text": [
      "*** Feature extraction started ***\n",
      "60\n"
     ]
    },
    {
     "name": "stderr",
     "output_type": "stream",
     "text": [
      "C:\\Users\\Jonathan\\AppData\\Local\\Temp\\ipykernel_8824\\591833966.py:14: UserWarning: Using default sampling frequency set in configuration file.\n",
      "  wx_extracted_features = tsfel.time_series_features_extractor(cfg, df['wx'], windows_size=100)\n"
     ]
    },
    {
     "data": {
      "text/html": [
       "\n",
       "              <p>\n",
       "                  Progress: 100% Complete\n",
       "              <p/>            \n",
       "              <progress\n",
       "                  value='60'\n",
       "                  max='60',\n",
       "                  style='width: 25%',\n",
       "              >\n",
       "                  60\n",
       "              </progress>\n",
       "\n",
       "    "
      ],
      "text/plain": [
       "<IPython.core.display.HTML object>"
      ]
     },
     "metadata": {},
     "output_type": "display_data"
    },
    {
     "name": "stdout",
     "output_type": "stream",
     "text": [
      "*** Feature extraction started ***\n",
      "60\n"
     ]
    },
    {
     "name": "stderr",
     "output_type": "stream",
     "text": [
      "C:\\Users\\Jonathan\\AppData\\Local\\Temp\\ipykernel_8824\\591833966.py:15: UserWarning: Using default sampling frequency set in configuration file.\n",
      "  wy_extracted_features = tsfel.time_series_features_extractor(cfg, df['wy'], windows_size=100)\n"
     ]
    },
    {
     "data": {
      "text/html": [
       "\n",
       "              <p>\n",
       "                  Progress: 100% Complete\n",
       "              <p/>            \n",
       "              <progress\n",
       "                  value='60'\n",
       "                  max='60',\n",
       "                  style='width: 25%',\n",
       "              >\n",
       "                  60\n",
       "              </progress>\n",
       "\n",
       "    "
      ],
      "text/plain": [
       "<IPython.core.display.HTML object>"
      ]
     },
     "metadata": {},
     "output_type": "display_data"
    },
    {
     "name": "stdout",
     "output_type": "stream",
     "text": [
      "*** Feature extraction started ***\n",
      "60\n"
     ]
    },
    {
     "name": "stderr",
     "output_type": "stream",
     "text": [
      "C:\\Users\\Jonathan\\AppData\\Local\\Temp\\ipykernel_8824\\591833966.py:16: UserWarning: Using default sampling frequency set in configuration file.\n",
      "  wz_extracted_features = tsfel.time_series_features_extractor(cfg, df['wz'], windows_size=100)\n"
     ]
    },
    {
     "data": {
      "text/html": [
       "\n",
       "              <p>\n",
       "                  Progress: 100% Complete\n",
       "              <p/>            \n",
       "              <progress\n",
       "                  value='60'\n",
       "                  max='60',\n",
       "                  style='width: 25%',\n",
       "              >\n",
       "                  60\n",
       "              </progress>\n",
       "\n",
       "    "
      ],
      "text/plain": [
       "<IPython.core.display.HTML object>"
      ]
     },
     "metadata": {},
     "output_type": "display_data"
    },
    {
     "name": "stdout",
     "output_type": "stream",
     "text": [
      "*** Feature extraction started ***\n",
      "60\n"
     ]
    },
    {
     "name": "stderr",
     "output_type": "stream",
     "text": [
      "C:\\Users\\Jonathan\\AppData\\Local\\Temp\\ipykernel_8824\\591833966.py:10: UserWarning: Using default sampling frequency set in configuration file.\n",
      "  ax_extracted_features = tsfel.time_series_features_extractor(cfg, df['ax'], windows_size=100)\n"
     ]
    },
    {
     "data": {
      "text/html": [
       "\n",
       "              <p>\n",
       "                  Progress: 100% Complete\n",
       "              <p/>            \n",
       "              <progress\n",
       "                  value='60'\n",
       "                  max='60',\n",
       "                  style='width: 25%',\n",
       "              >\n",
       "                  60\n",
       "              </progress>\n",
       "\n",
       "    "
      ],
      "text/plain": [
       "<IPython.core.display.HTML object>"
      ]
     },
     "metadata": {},
     "output_type": "display_data"
    },
    {
     "name": "stdout",
     "output_type": "stream",
     "text": [
      "*** Feature extraction started ***\n",
      "60\n"
     ]
    },
    {
     "name": "stderr",
     "output_type": "stream",
     "text": [
      "C:\\Users\\Jonathan\\AppData\\Local\\Temp\\ipykernel_8824\\591833966.py:11: UserWarning: Using default sampling frequency set in configuration file.\n",
      "  ay_extracted_features = tsfel.time_series_features_extractor(cfg, df['ay'], windows_size=100)\n"
     ]
    },
    {
     "data": {
      "text/html": [
       "\n",
       "              <p>\n",
       "                  Progress: 100% Complete\n",
       "              <p/>            \n",
       "              <progress\n",
       "                  value='60'\n",
       "                  max='60',\n",
       "                  style='width: 25%',\n",
       "              >\n",
       "                  60\n",
       "              </progress>\n",
       "\n",
       "    "
      ],
      "text/plain": [
       "<IPython.core.display.HTML object>"
      ]
     },
     "metadata": {},
     "output_type": "display_data"
    },
    {
     "name": "stdout",
     "output_type": "stream",
     "text": [
      "*** Feature extraction started ***\n",
      "60\n"
     ]
    },
    {
     "name": "stderr",
     "output_type": "stream",
     "text": [
      "C:\\Users\\Jonathan\\AppData\\Local\\Temp\\ipykernel_8824\\591833966.py:12: UserWarning: Using default sampling frequency set in configuration file.\n",
      "  az_extracted_features = tsfel.time_series_features_extractor(cfg, df['az'], windows_size=100)\n"
     ]
    },
    {
     "data": {
      "text/html": [
       "\n",
       "              <p>\n",
       "                  Progress: 100% Complete\n",
       "              <p/>            \n",
       "              <progress\n",
       "                  value='60'\n",
       "                  max='60',\n",
       "                  style='width: 25%',\n",
       "              >\n",
       "                  60\n",
       "              </progress>\n",
       "\n",
       "    "
      ],
      "text/plain": [
       "<IPython.core.display.HTML object>"
      ]
     },
     "metadata": {},
     "output_type": "display_data"
    },
    {
     "name": "stdout",
     "output_type": "stream",
     "text": [
      "*** Feature extraction started ***\n",
      "60\n"
     ]
    },
    {
     "name": "stderr",
     "output_type": "stream",
     "text": [
      "C:\\Users\\Jonathan\\AppData\\Local\\Temp\\ipykernel_8824\\591833966.py:14: UserWarning: Using default sampling frequency set in configuration file.\n",
      "  wx_extracted_features = tsfel.time_series_features_extractor(cfg, df['wx'], windows_size=100)\n"
     ]
    },
    {
     "data": {
      "text/html": [
       "\n",
       "              <p>\n",
       "                  Progress: 100% Complete\n",
       "              <p/>            \n",
       "              <progress\n",
       "                  value='60'\n",
       "                  max='60',\n",
       "                  style='width: 25%',\n",
       "              >\n",
       "                  60\n",
       "              </progress>\n",
       "\n",
       "    "
      ],
      "text/plain": [
       "<IPython.core.display.HTML object>"
      ]
     },
     "metadata": {},
     "output_type": "display_data"
    },
    {
     "name": "stdout",
     "output_type": "stream",
     "text": [
      "*** Feature extraction started ***\n",
      "60\n"
     ]
    },
    {
     "name": "stderr",
     "output_type": "stream",
     "text": [
      "C:\\Users\\Jonathan\\AppData\\Local\\Temp\\ipykernel_8824\\591833966.py:15: UserWarning: Using default sampling frequency set in configuration file.\n",
      "  wy_extracted_features = tsfel.time_series_features_extractor(cfg, df['wy'], windows_size=100)\n"
     ]
    },
    {
     "data": {
      "text/html": [
       "\n",
       "              <p>\n",
       "                  Progress: 100% Complete\n",
       "              <p/>            \n",
       "              <progress\n",
       "                  value='60'\n",
       "                  max='60',\n",
       "                  style='width: 25%',\n",
       "              >\n",
       "                  60\n",
       "              </progress>\n",
       "\n",
       "    "
      ],
      "text/plain": [
       "<IPython.core.display.HTML object>"
      ]
     },
     "metadata": {},
     "output_type": "display_data"
    },
    {
     "name": "stdout",
     "output_type": "stream",
     "text": [
      "*** Feature extraction started ***\n",
      "60\n"
     ]
    },
    {
     "name": "stderr",
     "output_type": "stream",
     "text": [
      "C:\\Users\\Jonathan\\AppData\\Local\\Temp\\ipykernel_8824\\591833966.py:16: UserWarning: Using default sampling frequency set in configuration file.\n",
      "  wz_extracted_features = tsfel.time_series_features_extractor(cfg, df['wz'], windows_size=100)\n"
     ]
    },
    {
     "data": {
      "text/html": [
       "\n",
       "              <p>\n",
       "                  Progress: 100% Complete\n",
       "              <p/>            \n",
       "              <progress\n",
       "                  value='60'\n",
       "                  max='60',\n",
       "                  style='width: 25%',\n",
       "              >\n",
       "                  60\n",
       "              </progress>\n",
       "\n",
       "    "
      ],
      "text/plain": [
       "<IPython.core.display.HTML object>"
      ]
     },
     "metadata": {},
     "output_type": "display_data"
    },
    {
     "name": "stdout",
     "output_type": "stream",
     "text": [
      "   Caida  0_FFT mean coefficient_0  0_FFT mean coefficient_1  \\\n",
      "0      1                  0.036374                  1.345688   \n",
      "\n",
      "   0_FFT mean coefficient_2  0_FFT mean coefficient_3  \\\n",
      "0                  2.096778                  1.084538   \n",
      "\n",
      "   0_FFT mean coefficient_4  0_FFT mean coefficient_5  \\\n",
      "0                  0.523767                  0.418424   \n",
      "\n",
      "   0_FFT mean coefficient_6  0_FFT mean coefficient_7  \\\n",
      "0                  0.362394                  0.246103   \n",
      "\n",
      "   0_FFT mean coefficient_8  ...  0_Median diff  0_Negative turning points  \\\n",
      "0                  0.139397  ...            0.0                       76.0   \n",
      "\n",
      "   0_Neighbourhood peaks  0_Peak to peak distance  0_Positive turning points  \\\n",
      "0                   27.0                     8.13                       95.0   \n",
      "\n",
      "   0_Signal distance   0_Slope  0_Sum absolute diff  0_Total energy  \\\n",
      "0       78462.883387  0.000001               333.35       12.212537   \n",
      "\n",
      "   0_Zero crossing rate  \n",
      "0                1663.0  \n",
      "\n",
      "[1 rows x 2341 columns]\n",
      "*** Feature extraction started ***\n",
      "60\n"
     ]
    },
    {
     "name": "stderr",
     "output_type": "stream",
     "text": [
      "C:\\Users\\Jonathan\\AppData\\Local\\Temp\\ipykernel_8824\\591833966.py:10: UserWarning: Using default sampling frequency set in configuration file.\n",
      "  ax_extracted_features = tsfel.time_series_features_extractor(cfg, df['ax'], windows_size=100)\n"
     ]
    },
    {
     "data": {
      "text/html": [
       "\n",
       "              <p>\n",
       "                  Progress: 100% Complete\n",
       "              <p/>            \n",
       "              <progress\n",
       "                  value='60'\n",
       "                  max='60',\n",
       "                  style='width: 25%',\n",
       "              >\n",
       "                  60\n",
       "              </progress>\n",
       "\n",
       "    "
      ],
      "text/plain": [
       "<IPython.core.display.HTML object>"
      ]
     },
     "metadata": {},
     "output_type": "display_data"
    },
    {
     "name": "stdout",
     "output_type": "stream",
     "text": [
      "*** Feature extraction started ***\n",
      "60\n"
     ]
    },
    {
     "name": "stderr",
     "output_type": "stream",
     "text": [
      "C:\\Users\\Jonathan\\AppData\\Local\\Temp\\ipykernel_8824\\591833966.py:11: UserWarning: Using default sampling frequency set in configuration file.\n",
      "  ay_extracted_features = tsfel.time_series_features_extractor(cfg, df['ay'], windows_size=100)\n"
     ]
    },
    {
     "data": {
      "text/html": [
       "\n",
       "              <p>\n",
       "                  Progress: 100% Complete\n",
       "              <p/>            \n",
       "              <progress\n",
       "                  value='60'\n",
       "                  max='60',\n",
       "                  style='width: 25%',\n",
       "              >\n",
       "                  60\n",
       "              </progress>\n",
       "\n",
       "    "
      ],
      "text/plain": [
       "<IPython.core.display.HTML object>"
      ]
     },
     "metadata": {},
     "output_type": "display_data"
    },
    {
     "name": "stdout",
     "output_type": "stream",
     "text": [
      "*** Feature extraction started ***\n",
      "60\n"
     ]
    },
    {
     "name": "stderr",
     "output_type": "stream",
     "text": [
      "C:\\Users\\Jonathan\\AppData\\Local\\Temp\\ipykernel_8824\\591833966.py:12: UserWarning: Using default sampling frequency set in configuration file.\n",
      "  az_extracted_features = tsfel.time_series_features_extractor(cfg, df['az'], windows_size=100)\n"
     ]
    },
    {
     "data": {
      "text/html": [
       "\n",
       "              <p>\n",
       "                  Progress: 100% Complete\n",
       "              <p/>            \n",
       "              <progress\n",
       "                  value='60'\n",
       "                  max='60',\n",
       "                  style='width: 25%',\n",
       "              >\n",
       "                  60\n",
       "              </progress>\n",
       "\n",
       "    "
      ],
      "text/plain": [
       "<IPython.core.display.HTML object>"
      ]
     },
     "metadata": {},
     "output_type": "display_data"
    },
    {
     "name": "stdout",
     "output_type": "stream",
     "text": [
      "*** Feature extraction started ***\n",
      "60\n"
     ]
    },
    {
     "name": "stderr",
     "output_type": "stream",
     "text": [
      "C:\\Users\\Jonathan\\AppData\\Local\\Temp\\ipykernel_8824\\591833966.py:14: UserWarning: Using default sampling frequency set in configuration file.\n",
      "  wx_extracted_features = tsfel.time_series_features_extractor(cfg, df['wx'], windows_size=100)\n"
     ]
    },
    {
     "data": {
      "text/html": [
       "\n",
       "              <p>\n",
       "                  Progress: 100% Complete\n",
       "              <p/>            \n",
       "              <progress\n",
       "                  value='60'\n",
       "                  max='60',\n",
       "                  style='width: 25%',\n",
       "              >\n",
       "                  60\n",
       "              </progress>\n",
       "\n",
       "    "
      ],
      "text/plain": [
       "<IPython.core.display.HTML object>"
      ]
     },
     "metadata": {},
     "output_type": "display_data"
    },
    {
     "name": "stdout",
     "output_type": "stream",
     "text": [
      "*** Feature extraction started ***\n",
      "60\n"
     ]
    },
    {
     "name": "stderr",
     "output_type": "stream",
     "text": [
      "C:\\Users\\Jonathan\\AppData\\Local\\Temp\\ipykernel_8824\\591833966.py:15: UserWarning: Using default sampling frequency set in configuration file.\n",
      "  wy_extracted_features = tsfel.time_series_features_extractor(cfg, df['wy'], windows_size=100)\n"
     ]
    },
    {
     "data": {
      "text/html": [
       "\n",
       "              <p>\n",
       "                  Progress: 100% Complete\n",
       "              <p/>            \n",
       "              <progress\n",
       "                  value='60'\n",
       "                  max='60',\n",
       "                  style='width: 25%',\n",
       "              >\n",
       "                  60\n",
       "              </progress>\n",
       "\n",
       "    "
      ],
      "text/plain": [
       "<IPython.core.display.HTML object>"
      ]
     },
     "metadata": {},
     "output_type": "display_data"
    },
    {
     "name": "stdout",
     "output_type": "stream",
     "text": [
      "*** Feature extraction started ***\n",
      "60\n"
     ]
    },
    {
     "name": "stderr",
     "output_type": "stream",
     "text": [
      "C:\\Users\\Jonathan\\AppData\\Local\\Temp\\ipykernel_8824\\591833966.py:16: UserWarning: Using default sampling frequency set in configuration file.\n",
      "  wz_extracted_features = tsfel.time_series_features_extractor(cfg, df['wz'], windows_size=100)\n"
     ]
    },
    {
     "data": {
      "text/html": [
       "\n",
       "              <p>\n",
       "                  Progress: 100% Complete\n",
       "              <p/>            \n",
       "              <progress\n",
       "                  value='60'\n",
       "                  max='60',\n",
       "                  style='width: 25%',\n",
       "              >\n",
       "                  60\n",
       "              </progress>\n",
       "\n",
       "    "
      ],
      "text/plain": [
       "<IPython.core.display.HTML object>"
      ]
     },
     "metadata": {},
     "output_type": "display_data"
    },
    {
     "name": "stdout",
     "output_type": "stream",
     "text": [
      "*** Feature extraction started ***\n",
      "60\n"
     ]
    },
    {
     "name": "stderr",
     "output_type": "stream",
     "text": [
      "C:\\Users\\Jonathan\\AppData\\Local\\Temp\\ipykernel_8824\\591833966.py:10: UserWarning: Using default sampling frequency set in configuration file.\n",
      "  ax_extracted_features = tsfel.time_series_features_extractor(cfg, df['ax'], windows_size=100)\n"
     ]
    },
    {
     "data": {
      "text/html": [
       "\n",
       "              <p>\n",
       "                  Progress: 100% Complete\n",
       "              <p/>            \n",
       "              <progress\n",
       "                  value='60'\n",
       "                  max='60',\n",
       "                  style='width: 25%',\n",
       "              >\n",
       "                  60\n",
       "              </progress>\n",
       "\n",
       "    "
      ],
      "text/plain": [
       "<IPython.core.display.HTML object>"
      ]
     },
     "metadata": {},
     "output_type": "display_data"
    },
    {
     "name": "stdout",
     "output_type": "stream",
     "text": [
      "*** Feature extraction started ***\n",
      "60\n"
     ]
    },
    {
     "name": "stderr",
     "output_type": "stream",
     "text": [
      "C:\\Users\\Jonathan\\AppData\\Local\\Temp\\ipykernel_8824\\591833966.py:11: UserWarning: Using default sampling frequency set in configuration file.\n",
      "  ay_extracted_features = tsfel.time_series_features_extractor(cfg, df['ay'], windows_size=100)\n"
     ]
    },
    {
     "data": {
      "text/html": [
       "\n",
       "              <p>\n",
       "                  Progress: 100% Complete\n",
       "              <p/>            \n",
       "              <progress\n",
       "                  value='60'\n",
       "                  max='60',\n",
       "                  style='width: 25%',\n",
       "              >\n",
       "                  60\n",
       "              </progress>\n",
       "\n",
       "    "
      ],
      "text/plain": [
       "<IPython.core.display.HTML object>"
      ]
     },
     "metadata": {},
     "output_type": "display_data"
    },
    {
     "name": "stdout",
     "output_type": "stream",
     "text": [
      "*** Feature extraction started ***\n",
      "60\n"
     ]
    },
    {
     "name": "stderr",
     "output_type": "stream",
     "text": [
      "C:\\Users\\Jonathan\\AppData\\Local\\Temp\\ipykernel_8824\\591833966.py:12: UserWarning: Using default sampling frequency set in configuration file.\n",
      "  az_extracted_features = tsfel.time_series_features_extractor(cfg, df['az'], windows_size=100)\n"
     ]
    },
    {
     "data": {
      "text/html": [
       "\n",
       "              <p>\n",
       "                  Progress: 100% Complete\n",
       "              <p/>            \n",
       "              <progress\n",
       "                  value='60'\n",
       "                  max='60',\n",
       "                  style='width: 25%',\n",
       "              >\n",
       "                  60\n",
       "              </progress>\n",
       "\n",
       "    "
      ],
      "text/plain": [
       "<IPython.core.display.HTML object>"
      ]
     },
     "metadata": {},
     "output_type": "display_data"
    },
    {
     "name": "stdout",
     "output_type": "stream",
     "text": [
      "*** Feature extraction started ***\n",
      "60\n"
     ]
    },
    {
     "name": "stderr",
     "output_type": "stream",
     "text": [
      "C:\\Users\\Jonathan\\AppData\\Local\\Temp\\ipykernel_8824\\591833966.py:14: UserWarning: Using default sampling frequency set in configuration file.\n",
      "  wx_extracted_features = tsfel.time_series_features_extractor(cfg, df['wx'], windows_size=100)\n"
     ]
    },
    {
     "data": {
      "text/html": [
       "\n",
       "              <p>\n",
       "                  Progress: 100% Complete\n",
       "              <p/>            \n",
       "              <progress\n",
       "                  value='60'\n",
       "                  max='60',\n",
       "                  style='width: 25%',\n",
       "              >\n",
       "                  60\n",
       "              </progress>\n",
       "\n",
       "    "
      ],
      "text/plain": [
       "<IPython.core.display.HTML object>"
      ]
     },
     "metadata": {},
     "output_type": "display_data"
    },
    {
     "name": "stdout",
     "output_type": "stream",
     "text": [
      "*** Feature extraction started ***\n",
      "60\n"
     ]
    },
    {
     "name": "stderr",
     "output_type": "stream",
     "text": [
      "C:\\Users\\Jonathan\\AppData\\Local\\Temp\\ipykernel_8824\\591833966.py:15: UserWarning: Using default sampling frequency set in configuration file.\n",
      "  wy_extracted_features = tsfel.time_series_features_extractor(cfg, df['wy'], windows_size=100)\n"
     ]
    },
    {
     "data": {
      "text/html": [
       "\n",
       "              <p>\n",
       "                  Progress: 100% Complete\n",
       "              <p/>            \n",
       "              <progress\n",
       "                  value='60'\n",
       "                  max='60',\n",
       "                  style='width: 25%',\n",
       "              >\n",
       "                  60\n",
       "              </progress>\n",
       "\n",
       "    "
      ],
      "text/plain": [
       "<IPython.core.display.HTML object>"
      ]
     },
     "metadata": {},
     "output_type": "display_data"
    },
    {
     "name": "stdout",
     "output_type": "stream",
     "text": [
      "*** Feature extraction started ***\n",
      "60\n"
     ]
    },
    {
     "name": "stderr",
     "output_type": "stream",
     "text": [
      "C:\\Users\\Jonathan\\AppData\\Local\\Temp\\ipykernel_8824\\591833966.py:16: UserWarning: Using default sampling frequency set in configuration file.\n",
      "  wz_extracted_features = tsfel.time_series_features_extractor(cfg, df['wz'], windows_size=100)\n"
     ]
    },
    {
     "data": {
      "text/html": [
       "\n",
       "              <p>\n",
       "                  Progress: 100% Complete\n",
       "              <p/>            \n",
       "              <progress\n",
       "                  value='60'\n",
       "                  max='60',\n",
       "                  style='width: 25%',\n",
       "              >\n",
       "                  60\n",
       "              </progress>\n",
       "\n",
       "    "
      ],
      "text/plain": [
       "<IPython.core.display.HTML object>"
      ]
     },
     "metadata": {},
     "output_type": "display_data"
    },
    {
     "name": "stdout",
     "output_type": "stream",
     "text": [
      "   Caida  0_FFT mean coefficient_0  0_FFT mean coefficient_1  \\\n",
      "0      1                  0.040785                  1.465042   \n",
      "\n",
      "   0_FFT mean coefficient_2  0_FFT mean coefficient_3  \\\n",
      "0                  1.771576                  0.967041   \n",
      "\n",
      "   0_FFT mean coefficient_4  0_FFT mean coefficient_5  \\\n",
      "0                  0.434392                  0.252767   \n",
      "\n",
      "   0_FFT mean coefficient_6  0_FFT mean coefficient_7  \\\n",
      "0                  0.159093                  0.168926   \n",
      "\n",
      "   0_FFT mean coefficient_8  ...  0_Median diff  0_Negative turning points  \\\n",
      "0                  0.119041  ...            0.0                       96.0   \n",
      "\n",
      "   0_Neighbourhood peaks  0_Peak to peak distance  0_Positive turning points  \\\n",
      "0                   28.0                     5.34                       79.0   \n",
      "\n",
      "   0_Signal distance   0_Slope  0_Sum absolute diff  0_Total energy  \\\n",
      "0       74020.767163  0.000001               364.36        9.476861   \n",
      "\n",
      "   0_Zero crossing rate  \n",
      "0                1441.0  \n",
      "\n",
      "[1 rows x 2341 columns]\n",
      "*** Feature extraction started ***\n",
      "60\n"
     ]
    },
    {
     "name": "stderr",
     "output_type": "stream",
     "text": [
      "C:\\Users\\Jonathan\\AppData\\Local\\Temp\\ipykernel_8824\\591833966.py:10: UserWarning: Using default sampling frequency set in configuration file.\n",
      "  ax_extracted_features = tsfel.time_series_features_extractor(cfg, df['ax'], windows_size=100)\n"
     ]
    },
    {
     "data": {
      "text/html": [
       "\n",
       "              <p>\n",
       "                  Progress: 100% Complete\n",
       "              <p/>            \n",
       "              <progress\n",
       "                  value='60'\n",
       "                  max='60',\n",
       "                  style='width: 25%',\n",
       "              >\n",
       "                  60\n",
       "              </progress>\n",
       "\n",
       "    "
      ],
      "text/plain": [
       "<IPython.core.display.HTML object>"
      ]
     },
     "metadata": {},
     "output_type": "display_data"
    },
    {
     "name": "stdout",
     "output_type": "stream",
     "text": [
      "*** Feature extraction started ***\n",
      "60\n"
     ]
    },
    {
     "name": "stderr",
     "output_type": "stream",
     "text": [
      "C:\\Users\\Jonathan\\AppData\\Local\\Temp\\ipykernel_8824\\591833966.py:11: UserWarning: Using default sampling frequency set in configuration file.\n",
      "  ay_extracted_features = tsfel.time_series_features_extractor(cfg, df['ay'], windows_size=100)\n"
     ]
    },
    {
     "data": {
      "text/html": [
       "\n",
       "              <p>\n",
       "                  Progress: 100% Complete\n",
       "              <p/>            \n",
       "              <progress\n",
       "                  value='60'\n",
       "                  max='60',\n",
       "                  style='width: 25%',\n",
       "              >\n",
       "                  60\n",
       "              </progress>\n",
       "\n",
       "    "
      ],
      "text/plain": [
       "<IPython.core.display.HTML object>"
      ]
     },
     "metadata": {},
     "output_type": "display_data"
    },
    {
     "name": "stdout",
     "output_type": "stream",
     "text": [
      "*** Feature extraction started ***\n",
      "60\n"
     ]
    },
    {
     "name": "stderr",
     "output_type": "stream",
     "text": [
      "C:\\Users\\Jonathan\\AppData\\Local\\Temp\\ipykernel_8824\\591833966.py:12: UserWarning: Using default sampling frequency set in configuration file.\n",
      "  az_extracted_features = tsfel.time_series_features_extractor(cfg, df['az'], windows_size=100)\n"
     ]
    },
    {
     "data": {
      "text/html": [
       "\n",
       "              <p>\n",
       "                  Progress: 100% Complete\n",
       "              <p/>            \n",
       "              <progress\n",
       "                  value='60'\n",
       "                  max='60',\n",
       "                  style='width: 25%',\n",
       "              >\n",
       "                  60\n",
       "              </progress>\n",
       "\n",
       "    "
      ],
      "text/plain": [
       "<IPython.core.display.HTML object>"
      ]
     },
     "metadata": {},
     "output_type": "display_data"
    },
    {
     "name": "stdout",
     "output_type": "stream",
     "text": [
      "*** Feature extraction started ***\n",
      "60\n"
     ]
    },
    {
     "name": "stderr",
     "output_type": "stream",
     "text": [
      "C:\\Users\\Jonathan\\AppData\\Local\\Temp\\ipykernel_8824\\591833966.py:14: UserWarning: Using default sampling frequency set in configuration file.\n",
      "  wx_extracted_features = tsfel.time_series_features_extractor(cfg, df['wx'], windows_size=100)\n"
     ]
    },
    {
     "data": {
      "text/html": [
       "\n",
       "              <p>\n",
       "                  Progress: 100% Complete\n",
       "              <p/>            \n",
       "              <progress\n",
       "                  value='60'\n",
       "                  max='60',\n",
       "                  style='width: 25%',\n",
       "              >\n",
       "                  60\n",
       "              </progress>\n",
       "\n",
       "    "
      ],
      "text/plain": [
       "<IPython.core.display.HTML object>"
      ]
     },
     "metadata": {},
     "output_type": "display_data"
    },
    {
     "name": "stdout",
     "output_type": "stream",
     "text": [
      "*** Feature extraction started ***\n",
      "60\n"
     ]
    },
    {
     "name": "stderr",
     "output_type": "stream",
     "text": [
      "C:\\Users\\Jonathan\\AppData\\Local\\Temp\\ipykernel_8824\\591833966.py:15: UserWarning: Using default sampling frequency set in configuration file.\n",
      "  wy_extracted_features = tsfel.time_series_features_extractor(cfg, df['wy'], windows_size=100)\n"
     ]
    },
    {
     "data": {
      "text/html": [
       "\n",
       "              <p>\n",
       "                  Progress: 100% Complete\n",
       "              <p/>            \n",
       "              <progress\n",
       "                  value='60'\n",
       "                  max='60',\n",
       "                  style='width: 25%',\n",
       "              >\n",
       "                  60\n",
       "              </progress>\n",
       "\n",
       "    "
      ],
      "text/plain": [
       "<IPython.core.display.HTML object>"
      ]
     },
     "metadata": {},
     "output_type": "display_data"
    },
    {
     "name": "stdout",
     "output_type": "stream",
     "text": [
      "*** Feature extraction started ***\n",
      "60\n"
     ]
    },
    {
     "name": "stderr",
     "output_type": "stream",
     "text": [
      "C:\\Users\\Jonathan\\AppData\\Local\\Temp\\ipykernel_8824\\591833966.py:16: UserWarning: Using default sampling frequency set in configuration file.\n",
      "  wz_extracted_features = tsfel.time_series_features_extractor(cfg, df['wz'], windows_size=100)\n"
     ]
    },
    {
     "data": {
      "text/html": [
       "\n",
       "              <p>\n",
       "                  Progress: 100% Complete\n",
       "              <p/>            \n",
       "              <progress\n",
       "                  value='60'\n",
       "                  max='60',\n",
       "                  style='width: 25%',\n",
       "              >\n",
       "                  60\n",
       "              </progress>\n",
       "\n",
       "    "
      ],
      "text/plain": [
       "<IPython.core.display.HTML object>"
      ]
     },
     "metadata": {},
     "output_type": "display_data"
    },
    {
     "name": "stdout",
     "output_type": "stream",
     "text": [
      "*** Feature extraction started ***\n",
      "60\n"
     ]
    },
    {
     "name": "stderr",
     "output_type": "stream",
     "text": [
      "C:\\Users\\Jonathan\\AppData\\Local\\Temp\\ipykernel_8824\\591833966.py:10: UserWarning: Using default sampling frequency set in configuration file.\n",
      "  ax_extracted_features = tsfel.time_series_features_extractor(cfg, df['ax'], windows_size=100)\n"
     ]
    },
    {
     "data": {
      "text/html": [
       "\n",
       "              <p>\n",
       "                  Progress: 100% Complete\n",
       "              <p/>            \n",
       "              <progress\n",
       "                  value='60'\n",
       "                  max='60',\n",
       "                  style='width: 25%',\n",
       "              >\n",
       "                  60\n",
       "              </progress>\n",
       "\n",
       "    "
      ],
      "text/plain": [
       "<IPython.core.display.HTML object>"
      ]
     },
     "metadata": {},
     "output_type": "display_data"
    },
    {
     "name": "stdout",
     "output_type": "stream",
     "text": [
      "*** Feature extraction started ***\n",
      "60\n"
     ]
    },
    {
     "name": "stderr",
     "output_type": "stream",
     "text": [
      "C:\\Users\\Jonathan\\AppData\\Local\\Temp\\ipykernel_8824\\591833966.py:11: UserWarning: Using default sampling frequency set in configuration file.\n",
      "  ay_extracted_features = tsfel.time_series_features_extractor(cfg, df['ay'], windows_size=100)\n"
     ]
    },
    {
     "data": {
      "text/html": [
       "\n",
       "              <p>\n",
       "                  Progress: 100% Complete\n",
       "              <p/>            \n",
       "              <progress\n",
       "                  value='60'\n",
       "                  max='60',\n",
       "                  style='width: 25%',\n",
       "              >\n",
       "                  60\n",
       "              </progress>\n",
       "\n",
       "    "
      ],
      "text/plain": [
       "<IPython.core.display.HTML object>"
      ]
     },
     "metadata": {},
     "output_type": "display_data"
    },
    {
     "name": "stdout",
     "output_type": "stream",
     "text": [
      "*** Feature extraction started ***\n",
      "60\n"
     ]
    },
    {
     "name": "stderr",
     "output_type": "stream",
     "text": [
      "C:\\Users\\Jonathan\\AppData\\Local\\Temp\\ipykernel_8824\\591833966.py:12: UserWarning: Using default sampling frequency set in configuration file.\n",
      "  az_extracted_features = tsfel.time_series_features_extractor(cfg, df['az'], windows_size=100)\n"
     ]
    },
    {
     "data": {
      "text/html": [
       "\n",
       "              <p>\n",
       "                  Progress: 100% Complete\n",
       "              <p/>            \n",
       "              <progress\n",
       "                  value='60'\n",
       "                  max='60',\n",
       "                  style='width: 25%',\n",
       "              >\n",
       "                  60\n",
       "              </progress>\n",
       "\n",
       "    "
      ],
      "text/plain": [
       "<IPython.core.display.HTML object>"
      ]
     },
     "metadata": {},
     "output_type": "display_data"
    },
    {
     "name": "stdout",
     "output_type": "stream",
     "text": [
      "*** Feature extraction started ***\n",
      "60\n"
     ]
    },
    {
     "name": "stderr",
     "output_type": "stream",
     "text": [
      "C:\\Users\\Jonathan\\AppData\\Local\\Temp\\ipykernel_8824\\591833966.py:14: UserWarning: Using default sampling frequency set in configuration file.\n",
      "  wx_extracted_features = tsfel.time_series_features_extractor(cfg, df['wx'], windows_size=100)\n"
     ]
    },
    {
     "data": {
      "text/html": [
       "\n",
       "              <p>\n",
       "                  Progress: 100% Complete\n",
       "              <p/>            \n",
       "              <progress\n",
       "                  value='60'\n",
       "                  max='60',\n",
       "                  style='width: 25%',\n",
       "              >\n",
       "                  60\n",
       "              </progress>\n",
       "\n",
       "    "
      ],
      "text/plain": [
       "<IPython.core.display.HTML object>"
      ]
     },
     "metadata": {},
     "output_type": "display_data"
    },
    {
     "name": "stdout",
     "output_type": "stream",
     "text": [
      "*** Feature extraction started ***\n",
      "60\n"
     ]
    },
    {
     "name": "stderr",
     "output_type": "stream",
     "text": [
      "C:\\Users\\Jonathan\\AppData\\Local\\Temp\\ipykernel_8824\\591833966.py:15: UserWarning: Using default sampling frequency set in configuration file.\n",
      "  wy_extracted_features = tsfel.time_series_features_extractor(cfg, df['wy'], windows_size=100)\n"
     ]
    },
    {
     "data": {
      "text/html": [
       "\n",
       "              <p>\n",
       "                  Progress: 100% Complete\n",
       "              <p/>            \n",
       "              <progress\n",
       "                  value='60'\n",
       "                  max='60',\n",
       "                  style='width: 25%',\n",
       "              >\n",
       "                  60\n",
       "              </progress>\n",
       "\n",
       "    "
      ],
      "text/plain": [
       "<IPython.core.display.HTML object>"
      ]
     },
     "metadata": {},
     "output_type": "display_data"
    },
    {
     "name": "stdout",
     "output_type": "stream",
     "text": [
      "*** Feature extraction started ***\n",
      "60\n"
     ]
    },
    {
     "name": "stderr",
     "output_type": "stream",
     "text": [
      "C:\\Users\\Jonathan\\AppData\\Local\\Temp\\ipykernel_8824\\591833966.py:16: UserWarning: Using default sampling frequency set in configuration file.\n",
      "  wz_extracted_features = tsfel.time_series_features_extractor(cfg, df['wz'], windows_size=100)\n"
     ]
    },
    {
     "data": {
      "text/html": [
       "\n",
       "              <p>\n",
       "                  Progress: 100% Complete\n",
       "              <p/>            \n",
       "              <progress\n",
       "                  value='60'\n",
       "                  max='60',\n",
       "                  style='width: 25%',\n",
       "              >\n",
       "                  60\n",
       "              </progress>\n",
       "\n",
       "    "
      ],
      "text/plain": [
       "<IPython.core.display.HTML object>"
      ]
     },
     "metadata": {},
     "output_type": "display_data"
    },
    {
     "name": "stdout",
     "output_type": "stream",
     "text": [
      "   Caida  0_FFT mean coefficient_0  0_FFT mean coefficient_1  \\\n",
      "0      1                  0.003372                  0.084703   \n",
      "\n",
      "   0_FFT mean coefficient_2  0_FFT mean coefficient_3  \\\n",
      "0                  0.133097                  0.099345   \n",
      "\n",
      "   0_FFT mean coefficient_4  0_FFT mean coefficient_5  \\\n",
      "0                  0.093161                  0.092171   \n",
      "\n",
      "   0_FFT mean coefficient_6  0_FFT mean coefficient_7  \\\n",
      "0                  0.155388                  0.110688   \n",
      "\n",
      "   0_FFT mean coefficient_8  ...  0_Median diff  0_Negative turning points  \\\n",
      "0                  0.061674  ...            0.0                       12.0   \n",
      "\n",
      "   0_Neighbourhood peaks  0_Peak to peak distance  0_Positive turning points  \\\n",
      "0                   11.0                     1.89                       15.0   \n",
      "\n",
      "   0_Signal distance   0_Slope  0_Sum absolute diff  0_Total energy  \\\n",
      "0       17570.484142 -0.000002               116.05        6.205141   \n",
      "\n",
      "   0_Zero crossing rate  \n",
      "0                 247.0  \n",
      "\n",
      "[1 rows x 2341 columns]\n",
      "*** Feature extraction started ***\n",
      "60\n"
     ]
    },
    {
     "name": "stderr",
     "output_type": "stream",
     "text": [
      "C:\\Users\\Jonathan\\AppData\\Local\\Temp\\ipykernel_8824\\591833966.py:10: UserWarning: Using default sampling frequency set in configuration file.\n",
      "  ax_extracted_features = tsfel.time_series_features_extractor(cfg, df['ax'], windows_size=100)\n"
     ]
    },
    {
     "data": {
      "text/html": [
       "\n",
       "              <p>\n",
       "                  Progress: 100% Complete\n",
       "              <p/>            \n",
       "              <progress\n",
       "                  value='60'\n",
       "                  max='60',\n",
       "                  style='width: 25%',\n",
       "              >\n",
       "                  60\n",
       "              </progress>\n",
       "\n",
       "    "
      ],
      "text/plain": [
       "<IPython.core.display.HTML object>"
      ]
     },
     "metadata": {},
     "output_type": "display_data"
    },
    {
     "name": "stdout",
     "output_type": "stream",
     "text": [
      "*** Feature extraction started ***\n",
      "60\n"
     ]
    },
    {
     "name": "stderr",
     "output_type": "stream",
     "text": [
      "C:\\Users\\Jonathan\\AppData\\Local\\Temp\\ipykernel_8824\\591833966.py:11: UserWarning: Using default sampling frequency set in configuration file.\n",
      "  ay_extracted_features = tsfel.time_series_features_extractor(cfg, df['ay'], windows_size=100)\n"
     ]
    },
    {
     "data": {
      "text/html": [
       "\n",
       "              <p>\n",
       "                  Progress: 100% Complete\n",
       "              <p/>            \n",
       "              <progress\n",
       "                  value='60'\n",
       "                  max='60',\n",
       "                  style='width: 25%',\n",
       "              >\n",
       "                  60\n",
       "              </progress>\n",
       "\n",
       "    "
      ],
      "text/plain": [
       "<IPython.core.display.HTML object>"
      ]
     },
     "metadata": {},
     "output_type": "display_data"
    },
    {
     "name": "stdout",
     "output_type": "stream",
     "text": [
      "*** Feature extraction started ***\n",
      "60\n"
     ]
    },
    {
     "name": "stderr",
     "output_type": "stream",
     "text": [
      "C:\\Users\\Jonathan\\AppData\\Local\\Temp\\ipykernel_8824\\591833966.py:12: UserWarning: Using default sampling frequency set in configuration file.\n",
      "  az_extracted_features = tsfel.time_series_features_extractor(cfg, df['az'], windows_size=100)\n"
     ]
    },
    {
     "data": {
      "text/html": [
       "\n",
       "              <p>\n",
       "                  Progress: 100% Complete\n",
       "              <p/>            \n",
       "              <progress\n",
       "                  value='60'\n",
       "                  max='60',\n",
       "                  style='width: 25%',\n",
       "              >\n",
       "                  60\n",
       "              </progress>\n",
       "\n",
       "    "
      ],
      "text/plain": [
       "<IPython.core.display.HTML object>"
      ]
     },
     "metadata": {},
     "output_type": "display_data"
    },
    {
     "name": "stdout",
     "output_type": "stream",
     "text": [
      "*** Feature extraction started ***\n",
      "60\n"
     ]
    },
    {
     "name": "stderr",
     "output_type": "stream",
     "text": [
      "C:\\Users\\Jonathan\\AppData\\Local\\Temp\\ipykernel_8824\\591833966.py:14: UserWarning: Using default sampling frequency set in configuration file.\n",
      "  wx_extracted_features = tsfel.time_series_features_extractor(cfg, df['wx'], windows_size=100)\n"
     ]
    },
    {
     "data": {
      "text/html": [
       "\n",
       "              <p>\n",
       "                  Progress: 100% Complete\n",
       "              <p/>            \n",
       "              <progress\n",
       "                  value='60'\n",
       "                  max='60',\n",
       "                  style='width: 25%',\n",
       "              >\n",
       "                  60\n",
       "              </progress>\n",
       "\n",
       "    "
      ],
      "text/plain": [
       "<IPython.core.display.HTML object>"
      ]
     },
     "metadata": {},
     "output_type": "display_data"
    },
    {
     "name": "stdout",
     "output_type": "stream",
     "text": [
      "*** Feature extraction started ***\n",
      "60\n"
     ]
    },
    {
     "name": "stderr",
     "output_type": "stream",
     "text": [
      "C:\\Users\\Jonathan\\AppData\\Local\\Temp\\ipykernel_8824\\591833966.py:15: UserWarning: Using default sampling frequency set in configuration file.\n",
      "  wy_extracted_features = tsfel.time_series_features_extractor(cfg, df['wy'], windows_size=100)\n"
     ]
    },
    {
     "data": {
      "text/html": [
       "\n",
       "              <p>\n",
       "                  Progress: 100% Complete\n",
       "              <p/>            \n",
       "              <progress\n",
       "                  value='60'\n",
       "                  max='60',\n",
       "                  style='width: 25%',\n",
       "              >\n",
       "                  60\n",
       "              </progress>\n",
       "\n",
       "    "
      ],
      "text/plain": [
       "<IPython.core.display.HTML object>"
      ]
     },
     "metadata": {},
     "output_type": "display_data"
    },
    {
     "name": "stdout",
     "output_type": "stream",
     "text": [
      "*** Feature extraction started ***\n",
      "60\n"
     ]
    },
    {
     "name": "stderr",
     "output_type": "stream",
     "text": [
      "C:\\Users\\Jonathan\\AppData\\Local\\Temp\\ipykernel_8824\\591833966.py:16: UserWarning: Using default sampling frequency set in configuration file.\n",
      "  wz_extracted_features = tsfel.time_series_features_extractor(cfg, df['wz'], windows_size=100)\n"
     ]
    },
    {
     "data": {
      "text/html": [
       "\n",
       "              <p>\n",
       "                  Progress: 100% Complete\n",
       "              <p/>            \n",
       "              <progress\n",
       "                  value='60'\n",
       "                  max='60',\n",
       "                  style='width: 25%',\n",
       "              >\n",
       "                  60\n",
       "              </progress>\n",
       "\n",
       "    "
      ],
      "text/plain": [
       "<IPython.core.display.HTML object>"
      ]
     },
     "metadata": {},
     "output_type": "display_data"
    },
    {
     "name": "stdout",
     "output_type": "stream",
     "text": [
      "*** Feature extraction started ***\n",
      "60\n"
     ]
    },
    {
     "name": "stderr",
     "output_type": "stream",
     "text": [
      "C:\\Users\\Jonathan\\AppData\\Local\\Temp\\ipykernel_8824\\591833966.py:10: UserWarning: Using default sampling frequency set in configuration file.\n",
      "  ax_extracted_features = tsfel.time_series_features_extractor(cfg, df['ax'], windows_size=100)\n"
     ]
    },
    {
     "data": {
      "text/html": [
       "\n",
       "              <p>\n",
       "                  Progress: 100% Complete\n",
       "              <p/>            \n",
       "              <progress\n",
       "                  value='60'\n",
       "                  max='60',\n",
       "                  style='width: 25%',\n",
       "              >\n",
       "                  60\n",
       "              </progress>\n",
       "\n",
       "    "
      ],
      "text/plain": [
       "<IPython.core.display.HTML object>"
      ]
     },
     "metadata": {},
     "output_type": "display_data"
    },
    {
     "name": "stdout",
     "output_type": "stream",
     "text": [
      "*** Feature extraction started ***\n",
      "60\n"
     ]
    },
    {
     "name": "stderr",
     "output_type": "stream",
     "text": [
      "C:\\Users\\Jonathan\\AppData\\Local\\Temp\\ipykernel_8824\\591833966.py:11: UserWarning: Using default sampling frequency set in configuration file.\n",
      "  ay_extracted_features = tsfel.time_series_features_extractor(cfg, df['ay'], windows_size=100)\n"
     ]
    },
    {
     "data": {
      "text/html": [
       "\n",
       "              <p>\n",
       "                  Progress: 100% Complete\n",
       "              <p/>            \n",
       "              <progress\n",
       "                  value='60'\n",
       "                  max='60',\n",
       "                  style='width: 25%',\n",
       "              >\n",
       "                  60\n",
       "              </progress>\n",
       "\n",
       "    "
      ],
      "text/plain": [
       "<IPython.core.display.HTML object>"
      ]
     },
     "metadata": {},
     "output_type": "display_data"
    },
    {
     "name": "stdout",
     "output_type": "stream",
     "text": [
      "*** Feature extraction started ***\n",
      "60\n"
     ]
    },
    {
     "name": "stderr",
     "output_type": "stream",
     "text": [
      "C:\\Users\\Jonathan\\AppData\\Local\\Temp\\ipykernel_8824\\591833966.py:12: UserWarning: Using default sampling frequency set in configuration file.\n",
      "  az_extracted_features = tsfel.time_series_features_extractor(cfg, df['az'], windows_size=100)\n"
     ]
    },
    {
     "data": {
      "text/html": [
       "\n",
       "              <p>\n",
       "                  Progress: 100% Complete\n",
       "              <p/>            \n",
       "              <progress\n",
       "                  value='60'\n",
       "                  max='60',\n",
       "                  style='width: 25%',\n",
       "              >\n",
       "                  60\n",
       "              </progress>\n",
       "\n",
       "    "
      ],
      "text/plain": [
       "<IPython.core.display.HTML object>"
      ]
     },
     "metadata": {},
     "output_type": "display_data"
    },
    {
     "name": "stdout",
     "output_type": "stream",
     "text": [
      "*** Feature extraction started ***\n",
      "60\n"
     ]
    },
    {
     "name": "stderr",
     "output_type": "stream",
     "text": [
      "C:\\Users\\Jonathan\\AppData\\Local\\Temp\\ipykernel_8824\\591833966.py:14: UserWarning: Using default sampling frequency set in configuration file.\n",
      "  wx_extracted_features = tsfel.time_series_features_extractor(cfg, df['wx'], windows_size=100)\n"
     ]
    },
    {
     "data": {
      "text/html": [
       "\n",
       "              <p>\n",
       "                  Progress: 100% Complete\n",
       "              <p/>            \n",
       "              <progress\n",
       "                  value='60'\n",
       "                  max='60',\n",
       "                  style='width: 25%',\n",
       "              >\n",
       "                  60\n",
       "              </progress>\n",
       "\n",
       "    "
      ],
      "text/plain": [
       "<IPython.core.display.HTML object>"
      ]
     },
     "metadata": {},
     "output_type": "display_data"
    },
    {
     "name": "stdout",
     "output_type": "stream",
     "text": [
      "*** Feature extraction started ***\n",
      "60\n"
     ]
    },
    {
     "name": "stderr",
     "output_type": "stream",
     "text": [
      "C:\\Users\\Jonathan\\AppData\\Local\\Temp\\ipykernel_8824\\591833966.py:15: UserWarning: Using default sampling frequency set in configuration file.\n",
      "  wy_extracted_features = tsfel.time_series_features_extractor(cfg, df['wy'], windows_size=100)\n"
     ]
    },
    {
     "data": {
      "text/html": [
       "\n",
       "              <p>\n",
       "                  Progress: 100% Complete\n",
       "              <p/>            \n",
       "              <progress\n",
       "                  value='60'\n",
       "                  max='60',\n",
       "                  style='width: 25%',\n",
       "              >\n",
       "                  60\n",
       "              </progress>\n",
       "\n",
       "    "
      ],
      "text/plain": [
       "<IPython.core.display.HTML object>"
      ]
     },
     "metadata": {},
     "output_type": "display_data"
    },
    {
     "name": "stdout",
     "output_type": "stream",
     "text": [
      "*** Feature extraction started ***\n",
      "60\n"
     ]
    },
    {
     "name": "stderr",
     "output_type": "stream",
     "text": [
      "C:\\Users\\Jonathan\\AppData\\Local\\Temp\\ipykernel_8824\\591833966.py:16: UserWarning: Using default sampling frequency set in configuration file.\n",
      "  wz_extracted_features = tsfel.time_series_features_extractor(cfg, df['wz'], windows_size=100)\n"
     ]
    },
    {
     "data": {
      "text/html": [
       "\n",
       "              <p>\n",
       "                  Progress: 100% Complete\n",
       "              <p/>            \n",
       "              <progress\n",
       "                  value='60'\n",
       "                  max='60',\n",
       "                  style='width: 25%',\n",
       "              >\n",
       "                  60\n",
       "              </progress>\n",
       "\n",
       "    "
      ],
      "text/plain": [
       "<IPython.core.display.HTML object>"
      ]
     },
     "metadata": {},
     "output_type": "display_data"
    },
    {
     "name": "stdout",
     "output_type": "stream",
     "text": [
      "   Caida  0_FFT mean coefficient_0  0_FFT mean coefficient_1  \\\n",
      "0      1                  0.277254                 11.576771   \n",
      "\n",
      "   0_FFT mean coefficient_2  0_FFT mean coefficient_3  \\\n",
      "0                  9.795423                   6.96432   \n",
      "\n",
      "   0_FFT mean coefficient_4  0_FFT mean coefficient_5  \\\n",
      "0                  3.988339                  1.745599   \n",
      "\n",
      "   0_FFT mean coefficient_6  0_FFT mean coefficient_7  \\\n",
      "0                  0.973364                  0.650867   \n",
      "\n",
      "   0_FFT mean coefficient_8  ...  0_Median diff  0_Negative turning points  \\\n",
      "0                  0.587193  ...            0.0                      146.0   \n",
      "\n",
      "   0_Neighbourhood peaks  0_Peak to peak distance  0_Positive turning points  \\\n",
      "0                   26.0                     7.77                      138.0   \n",
      "\n",
      "   0_Signal distance   0_Slope  0_Sum absolute diff  0_Total energy  \\\n",
      "0       41351.373719  0.000002               437.02       43.091856   \n",
      "\n",
      "   0_Zero crossing rate  \n",
      "0                1000.0  \n",
      "\n",
      "[1 rows x 2341 columns]\n",
      "*** Feature extraction started ***\n",
      "60\n"
     ]
    },
    {
     "name": "stderr",
     "output_type": "stream",
     "text": [
      "C:\\Users\\Jonathan\\AppData\\Local\\Temp\\ipykernel_8824\\591833966.py:10: UserWarning: Using default sampling frequency set in configuration file.\n",
      "  ax_extracted_features = tsfel.time_series_features_extractor(cfg, df['ax'], windows_size=100)\n"
     ]
    },
    {
     "data": {
      "text/html": [
       "\n",
       "              <p>\n",
       "                  Progress: 100% Complete\n",
       "              <p/>            \n",
       "              <progress\n",
       "                  value='60'\n",
       "                  max='60',\n",
       "                  style='width: 25%',\n",
       "              >\n",
       "                  60\n",
       "              </progress>\n",
       "\n",
       "    "
      ],
      "text/plain": [
       "<IPython.core.display.HTML object>"
      ]
     },
     "metadata": {},
     "output_type": "display_data"
    },
    {
     "name": "stdout",
     "output_type": "stream",
     "text": [
      "*** Feature extraction started ***\n",
      "60\n"
     ]
    },
    {
     "name": "stderr",
     "output_type": "stream",
     "text": [
      "C:\\Users\\Jonathan\\AppData\\Local\\Temp\\ipykernel_8824\\591833966.py:11: UserWarning: Using default sampling frequency set in configuration file.\n",
      "  ay_extracted_features = tsfel.time_series_features_extractor(cfg, df['ay'], windows_size=100)\n"
     ]
    },
    {
     "data": {
      "text/html": [
       "\n",
       "              <p>\n",
       "                  Progress: 100% Complete\n",
       "              <p/>            \n",
       "              <progress\n",
       "                  value='60'\n",
       "                  max='60',\n",
       "                  style='width: 25%',\n",
       "              >\n",
       "                  60\n",
       "              </progress>\n",
       "\n",
       "    "
      ],
      "text/plain": [
       "<IPython.core.display.HTML object>"
      ]
     },
     "metadata": {},
     "output_type": "display_data"
    },
    {
     "name": "stdout",
     "output_type": "stream",
     "text": [
      "*** Feature extraction started ***\n",
      "60\n"
     ]
    },
    {
     "name": "stderr",
     "output_type": "stream",
     "text": [
      "C:\\Users\\Jonathan\\AppData\\Local\\Temp\\ipykernel_8824\\591833966.py:12: UserWarning: Using default sampling frequency set in configuration file.\n",
      "  az_extracted_features = tsfel.time_series_features_extractor(cfg, df['az'], windows_size=100)\n"
     ]
    },
    {
     "data": {
      "text/html": [
       "\n",
       "              <p>\n",
       "                  Progress: 100% Complete\n",
       "              <p/>            \n",
       "              <progress\n",
       "                  value='60'\n",
       "                  max='60',\n",
       "                  style='width: 25%',\n",
       "              >\n",
       "                  60\n",
       "              </progress>\n",
       "\n",
       "    "
      ],
      "text/plain": [
       "<IPython.core.display.HTML object>"
      ]
     },
     "metadata": {},
     "output_type": "display_data"
    },
    {
     "name": "stdout",
     "output_type": "stream",
     "text": [
      "*** Feature extraction started ***\n",
      "60\n"
     ]
    },
    {
     "name": "stderr",
     "output_type": "stream",
     "text": [
      "C:\\Users\\Jonathan\\AppData\\Local\\Temp\\ipykernel_8824\\591833966.py:14: UserWarning: Using default sampling frequency set in configuration file.\n",
      "  wx_extracted_features = tsfel.time_series_features_extractor(cfg, df['wx'], windows_size=100)\n"
     ]
    },
    {
     "data": {
      "text/html": [
       "\n",
       "              <p>\n",
       "                  Progress: 100% Complete\n",
       "              <p/>            \n",
       "              <progress\n",
       "                  value='60'\n",
       "                  max='60',\n",
       "                  style='width: 25%',\n",
       "              >\n",
       "                  60\n",
       "              </progress>\n",
       "\n",
       "    "
      ],
      "text/plain": [
       "<IPython.core.display.HTML object>"
      ]
     },
     "metadata": {},
     "output_type": "display_data"
    },
    {
     "name": "stdout",
     "output_type": "stream",
     "text": [
      "*** Feature extraction started ***\n",
      "60\n"
     ]
    },
    {
     "name": "stderr",
     "output_type": "stream",
     "text": [
      "C:\\Users\\Jonathan\\AppData\\Local\\Temp\\ipykernel_8824\\591833966.py:15: UserWarning: Using default sampling frequency set in configuration file.\n",
      "  wy_extracted_features = tsfel.time_series_features_extractor(cfg, df['wy'], windows_size=100)\n"
     ]
    },
    {
     "data": {
      "text/html": [
       "\n",
       "              <p>\n",
       "                  Progress: 100% Complete\n",
       "              <p/>            \n",
       "              <progress\n",
       "                  value='60'\n",
       "                  max='60',\n",
       "                  style='width: 25%',\n",
       "              >\n",
       "                  60\n",
       "              </progress>\n",
       "\n",
       "    "
      ],
      "text/plain": [
       "<IPython.core.display.HTML object>"
      ]
     },
     "metadata": {},
     "output_type": "display_data"
    },
    {
     "name": "stdout",
     "output_type": "stream",
     "text": [
      "*** Feature extraction started ***\n",
      "60\n"
     ]
    },
    {
     "name": "stderr",
     "output_type": "stream",
     "text": [
      "C:\\Users\\Jonathan\\AppData\\Local\\Temp\\ipykernel_8824\\591833966.py:16: UserWarning: Using default sampling frequency set in configuration file.\n",
      "  wz_extracted_features = tsfel.time_series_features_extractor(cfg, df['wz'], windows_size=100)\n"
     ]
    },
    {
     "data": {
      "text/html": [
       "\n",
       "              <p>\n",
       "                  Progress: 100% Complete\n",
       "              <p/>            \n",
       "              <progress\n",
       "                  value='60'\n",
       "                  max='60',\n",
       "                  style='width: 25%',\n",
       "              >\n",
       "                  60\n",
       "              </progress>\n",
       "\n",
       "    "
      ],
      "text/plain": [
       "<IPython.core.display.HTML object>"
      ]
     },
     "metadata": {},
     "output_type": "display_data"
    },
    {
     "name": "stdout",
     "output_type": "stream",
     "text": [
      "*** Feature extraction started ***\n",
      "60\n"
     ]
    },
    {
     "name": "stderr",
     "output_type": "stream",
     "text": [
      "C:\\Users\\Jonathan\\AppData\\Local\\Temp\\ipykernel_8824\\591833966.py:10: UserWarning: Using default sampling frequency set in configuration file.\n",
      "  ax_extracted_features = tsfel.time_series_features_extractor(cfg, df['ax'], windows_size=100)\n"
     ]
    },
    {
     "data": {
      "text/html": [
       "\n",
       "              <p>\n",
       "                  Progress: 100% Complete\n",
       "              <p/>            \n",
       "              <progress\n",
       "                  value='60'\n",
       "                  max='60',\n",
       "                  style='width: 25%',\n",
       "              >\n",
       "                  60\n",
       "              </progress>\n",
       "\n",
       "    "
      ],
      "text/plain": [
       "<IPython.core.display.HTML object>"
      ]
     },
     "metadata": {},
     "output_type": "display_data"
    },
    {
     "name": "stdout",
     "output_type": "stream",
     "text": [
      "*** Feature extraction started ***\n",
      "60\n"
     ]
    },
    {
     "name": "stderr",
     "output_type": "stream",
     "text": [
      "C:\\Users\\Jonathan\\AppData\\Local\\Temp\\ipykernel_8824\\591833966.py:11: UserWarning: Using default sampling frequency set in configuration file.\n",
      "  ay_extracted_features = tsfel.time_series_features_extractor(cfg, df['ay'], windows_size=100)\n"
     ]
    },
    {
     "data": {
      "text/html": [
       "\n",
       "              <p>\n",
       "                  Progress: 100% Complete\n",
       "              <p/>            \n",
       "              <progress\n",
       "                  value='60'\n",
       "                  max='60',\n",
       "                  style='width: 25%',\n",
       "              >\n",
       "                  60\n",
       "              </progress>\n",
       "\n",
       "    "
      ],
      "text/plain": [
       "<IPython.core.display.HTML object>"
      ]
     },
     "metadata": {},
     "output_type": "display_data"
    },
    {
     "name": "stdout",
     "output_type": "stream",
     "text": [
      "*** Feature extraction started ***\n",
      "60\n"
     ]
    },
    {
     "name": "stderr",
     "output_type": "stream",
     "text": [
      "C:\\Users\\Jonathan\\AppData\\Local\\Temp\\ipykernel_8824\\591833966.py:12: UserWarning: Using default sampling frequency set in configuration file.\n",
      "  az_extracted_features = tsfel.time_series_features_extractor(cfg, df['az'], windows_size=100)\n"
     ]
    },
    {
     "data": {
      "text/html": [
       "\n",
       "              <p>\n",
       "                  Progress: 100% Complete\n",
       "              <p/>            \n",
       "              <progress\n",
       "                  value='60'\n",
       "                  max='60',\n",
       "                  style='width: 25%',\n",
       "              >\n",
       "                  60\n",
       "              </progress>\n",
       "\n",
       "    "
      ],
      "text/plain": [
       "<IPython.core.display.HTML object>"
      ]
     },
     "metadata": {},
     "output_type": "display_data"
    },
    {
     "name": "stdout",
     "output_type": "stream",
     "text": [
      "*** Feature extraction started ***\n",
      "60\n"
     ]
    },
    {
     "name": "stderr",
     "output_type": "stream",
     "text": [
      "C:\\Users\\Jonathan\\AppData\\Local\\Temp\\ipykernel_8824\\591833966.py:14: UserWarning: Using default sampling frequency set in configuration file.\n",
      "  wx_extracted_features = tsfel.time_series_features_extractor(cfg, df['wx'], windows_size=100)\n"
     ]
    },
    {
     "data": {
      "text/html": [
       "\n",
       "              <p>\n",
       "                  Progress: 100% Complete\n",
       "              <p/>            \n",
       "              <progress\n",
       "                  value='60'\n",
       "                  max='60',\n",
       "                  style='width: 25%',\n",
       "              >\n",
       "                  60\n",
       "              </progress>\n",
       "\n",
       "    "
      ],
      "text/plain": [
       "<IPython.core.display.HTML object>"
      ]
     },
     "metadata": {},
     "output_type": "display_data"
    },
    {
     "name": "stdout",
     "output_type": "stream",
     "text": [
      "*** Feature extraction started ***\n",
      "60\n"
     ]
    },
    {
     "name": "stderr",
     "output_type": "stream",
     "text": [
      "C:\\Users\\Jonathan\\AppData\\Local\\Temp\\ipykernel_8824\\591833966.py:15: UserWarning: Using default sampling frequency set in configuration file.\n",
      "  wy_extracted_features = tsfel.time_series_features_extractor(cfg, df['wy'], windows_size=100)\n"
     ]
    },
    {
     "data": {
      "text/html": [
       "\n",
       "              <p>\n",
       "                  Progress: 100% Complete\n",
       "              <p/>            \n",
       "              <progress\n",
       "                  value='60'\n",
       "                  max='60',\n",
       "                  style='width: 25%',\n",
       "              >\n",
       "                  60\n",
       "              </progress>\n",
       "\n",
       "    "
      ],
      "text/plain": [
       "<IPython.core.display.HTML object>"
      ]
     },
     "metadata": {},
     "output_type": "display_data"
    },
    {
     "name": "stdout",
     "output_type": "stream",
     "text": [
      "*** Feature extraction started ***\n",
      "60\n"
     ]
    },
    {
     "name": "stderr",
     "output_type": "stream",
     "text": [
      "C:\\Users\\Jonathan\\AppData\\Local\\Temp\\ipykernel_8824\\591833966.py:16: UserWarning: Using default sampling frequency set in configuration file.\n",
      "  wz_extracted_features = tsfel.time_series_features_extractor(cfg, df['wz'], windows_size=100)\n"
     ]
    },
    {
     "data": {
      "text/html": [
       "\n",
       "              <p>\n",
       "                  Progress: 100% Complete\n",
       "              <p/>            \n",
       "              <progress\n",
       "                  value='60'\n",
       "                  max='60',\n",
       "                  style='width: 25%',\n",
       "              >\n",
       "                  60\n",
       "              </progress>\n",
       "\n",
       "    "
      ],
      "text/plain": [
       "<IPython.core.display.HTML object>"
      ]
     },
     "metadata": {},
     "output_type": "display_data"
    },
    {
     "name": "stdout",
     "output_type": "stream",
     "text": [
      "   Caida  0_FFT mean coefficient_0  0_FFT mean coefficient_1  \\\n",
      "0      1                  0.128871                  6.271101   \n",
      "\n",
      "   0_FFT mean coefficient_2  0_FFT mean coefficient_3  \\\n",
      "0                  4.381905                  3.060295   \n",
      "\n",
      "   0_FFT mean coefficient_4  0_FFT mean coefficient_5  \\\n",
      "0                  2.425968                  1.168741   \n",
      "\n",
      "   0_FFT mean coefficient_6  0_FFT mean coefficient_7  \\\n",
      "0                  0.736871                  0.709498   \n",
      "\n",
      "   0_FFT mean coefficient_8  ...  0_Median diff  0_Negative turning points  \\\n",
      "0                   0.51214  ...            0.0                        0.0   \n",
      "\n",
      "   0_Neighbourhood peaks  0_Peak to peak distance  0_Positive turning points  \\\n",
      "0                    3.0                  10.9954                        3.0   \n",
      "\n",
      "   0_Signal distance   0_Slope  0_Sum absolute diff  0_Total energy  \\\n",
      "0       53139.250619  0.000012             394.6433       45.685815   \n",
      "\n",
      "   0_Zero crossing rate  \n",
      "0                 644.0  \n",
      "\n",
      "[1 rows x 2341 columns]\n",
      "*** Feature extraction started ***\n",
      "60\n"
     ]
    },
    {
     "name": "stderr",
     "output_type": "stream",
     "text": [
      "C:\\Users\\Jonathan\\AppData\\Local\\Temp\\ipykernel_8824\\591833966.py:10: UserWarning: Using default sampling frequency set in configuration file.\n",
      "  ax_extracted_features = tsfel.time_series_features_extractor(cfg, df['ax'], windows_size=100)\n"
     ]
    },
    {
     "data": {
      "text/html": [
       "\n",
       "              <p>\n",
       "                  Progress: 100% Complete\n",
       "              <p/>            \n",
       "              <progress\n",
       "                  value='60'\n",
       "                  max='60',\n",
       "                  style='width: 25%',\n",
       "              >\n",
       "                  60\n",
       "              </progress>\n",
       "\n",
       "    "
      ],
      "text/plain": [
       "<IPython.core.display.HTML object>"
      ]
     },
     "metadata": {},
     "output_type": "display_data"
    },
    {
     "name": "stdout",
     "output_type": "stream",
     "text": [
      "*** Feature extraction started ***\n",
      "60\n"
     ]
    },
    {
     "name": "stderr",
     "output_type": "stream",
     "text": [
      "C:\\Users\\Jonathan\\AppData\\Local\\Temp\\ipykernel_8824\\591833966.py:11: UserWarning: Using default sampling frequency set in configuration file.\n",
      "  ay_extracted_features = tsfel.time_series_features_extractor(cfg, df['ay'], windows_size=100)\n"
     ]
    },
    {
     "data": {
      "text/html": [
       "\n",
       "              <p>\n",
       "                  Progress: 100% Complete\n",
       "              <p/>            \n",
       "              <progress\n",
       "                  value='60'\n",
       "                  max='60',\n",
       "                  style='width: 25%',\n",
       "              >\n",
       "                  60\n",
       "              </progress>\n",
       "\n",
       "    "
      ],
      "text/plain": [
       "<IPython.core.display.HTML object>"
      ]
     },
     "metadata": {},
     "output_type": "display_data"
    },
    {
     "name": "stdout",
     "output_type": "stream",
     "text": [
      "*** Feature extraction started ***\n",
      "60\n"
     ]
    },
    {
     "name": "stderr",
     "output_type": "stream",
     "text": [
      "C:\\Users\\Jonathan\\AppData\\Local\\Temp\\ipykernel_8824\\591833966.py:12: UserWarning: Using default sampling frequency set in configuration file.\n",
      "  az_extracted_features = tsfel.time_series_features_extractor(cfg, df['az'], windows_size=100)\n"
     ]
    },
    {
     "data": {
      "text/html": [
       "\n",
       "              <p>\n",
       "                  Progress: 100% Complete\n",
       "              <p/>            \n",
       "              <progress\n",
       "                  value='60'\n",
       "                  max='60',\n",
       "                  style='width: 25%',\n",
       "              >\n",
       "                  60\n",
       "              </progress>\n",
       "\n",
       "    "
      ],
      "text/plain": [
       "<IPython.core.display.HTML object>"
      ]
     },
     "metadata": {},
     "output_type": "display_data"
    },
    {
     "name": "stdout",
     "output_type": "stream",
     "text": [
      "*** Feature extraction started ***\n",
      "60\n"
     ]
    },
    {
     "name": "stderr",
     "output_type": "stream",
     "text": [
      "C:\\Users\\Jonathan\\AppData\\Local\\Temp\\ipykernel_8824\\591833966.py:14: UserWarning: Using default sampling frequency set in configuration file.\n",
      "  wx_extracted_features = tsfel.time_series_features_extractor(cfg, df['wx'], windows_size=100)\n"
     ]
    },
    {
     "data": {
      "text/html": [
       "\n",
       "              <p>\n",
       "                  Progress: 100% Complete\n",
       "              <p/>            \n",
       "              <progress\n",
       "                  value='60'\n",
       "                  max='60',\n",
       "                  style='width: 25%',\n",
       "              >\n",
       "                  60\n",
       "              </progress>\n",
       "\n",
       "    "
      ],
      "text/plain": [
       "<IPython.core.display.HTML object>"
      ]
     },
     "metadata": {},
     "output_type": "display_data"
    },
    {
     "name": "stdout",
     "output_type": "stream",
     "text": [
      "*** Feature extraction started ***\n",
      "60\n"
     ]
    },
    {
     "name": "stderr",
     "output_type": "stream",
     "text": [
      "C:\\Users\\Jonathan\\AppData\\Local\\Temp\\ipykernel_8824\\591833966.py:15: UserWarning: Using default sampling frequency set in configuration file.\n",
      "  wy_extracted_features = tsfel.time_series_features_extractor(cfg, df['wy'], windows_size=100)\n"
     ]
    },
    {
     "data": {
      "text/html": [
       "\n",
       "              <p>\n",
       "                  Progress: 100% Complete\n",
       "              <p/>            \n",
       "              <progress\n",
       "                  value='60'\n",
       "                  max='60',\n",
       "                  style='width: 25%',\n",
       "              >\n",
       "                  60\n",
       "              </progress>\n",
       "\n",
       "    "
      ],
      "text/plain": [
       "<IPython.core.display.HTML object>"
      ]
     },
     "metadata": {},
     "output_type": "display_data"
    },
    {
     "name": "stdout",
     "output_type": "stream",
     "text": [
      "*** Feature extraction started ***\n",
      "60\n"
     ]
    },
    {
     "name": "stderr",
     "output_type": "stream",
     "text": [
      "C:\\Users\\Jonathan\\AppData\\Local\\Temp\\ipykernel_8824\\591833966.py:16: UserWarning: Using default sampling frequency set in configuration file.\n",
      "  wz_extracted_features = tsfel.time_series_features_extractor(cfg, df['wz'], windows_size=100)\n"
     ]
    },
    {
     "data": {
      "text/html": [
       "\n",
       "              <p>\n",
       "                  Progress: 100% Complete\n",
       "              <p/>            \n",
       "              <progress\n",
       "                  value='60'\n",
       "                  max='60',\n",
       "                  style='width: 25%',\n",
       "              >\n",
       "                  60\n",
       "              </progress>\n",
       "\n",
       "    "
      ],
      "text/plain": [
       "<IPython.core.display.HTML object>"
      ]
     },
     "metadata": {},
     "output_type": "display_data"
    },
    {
     "name": "stdout",
     "output_type": "stream",
     "text": [
      "*** Feature extraction started ***\n",
      "60\n"
     ]
    },
    {
     "name": "stderr",
     "output_type": "stream",
     "text": [
      "C:\\Users\\Jonathan\\AppData\\Local\\Temp\\ipykernel_8824\\591833966.py:10: UserWarning: Using default sampling frequency set in configuration file.\n",
      "  ax_extracted_features = tsfel.time_series_features_extractor(cfg, df['ax'], windows_size=100)\n"
     ]
    },
    {
     "data": {
      "text/html": [
       "\n",
       "              <p>\n",
       "                  Progress: 100% Complete\n",
       "              <p/>            \n",
       "              <progress\n",
       "                  value='60'\n",
       "                  max='60',\n",
       "                  style='width: 25%',\n",
       "              >\n",
       "                  60\n",
       "              </progress>\n",
       "\n",
       "    "
      ],
      "text/plain": [
       "<IPython.core.display.HTML object>"
      ]
     },
     "metadata": {},
     "output_type": "display_data"
    },
    {
     "name": "stdout",
     "output_type": "stream",
     "text": [
      "*** Feature extraction started ***\n",
      "60\n"
     ]
    },
    {
     "name": "stderr",
     "output_type": "stream",
     "text": [
      "C:\\Users\\Jonathan\\AppData\\Local\\Temp\\ipykernel_8824\\591833966.py:11: UserWarning: Using default sampling frequency set in configuration file.\n",
      "  ay_extracted_features = tsfel.time_series_features_extractor(cfg, df['ay'], windows_size=100)\n"
     ]
    },
    {
     "data": {
      "text/html": [
       "\n",
       "              <p>\n",
       "                  Progress: 100% Complete\n",
       "              <p/>            \n",
       "              <progress\n",
       "                  value='60'\n",
       "                  max='60',\n",
       "                  style='width: 25%',\n",
       "              >\n",
       "                  60\n",
       "              </progress>\n",
       "\n",
       "    "
      ],
      "text/plain": [
       "<IPython.core.display.HTML object>"
      ]
     },
     "metadata": {},
     "output_type": "display_data"
    },
    {
     "name": "stdout",
     "output_type": "stream",
     "text": [
      "*** Feature extraction started ***\n",
      "60\n"
     ]
    },
    {
     "name": "stderr",
     "output_type": "stream",
     "text": [
      "C:\\Users\\Jonathan\\AppData\\Local\\Temp\\ipykernel_8824\\591833966.py:12: UserWarning: Using default sampling frequency set in configuration file.\n",
      "  az_extracted_features = tsfel.time_series_features_extractor(cfg, df['az'], windows_size=100)\n"
     ]
    },
    {
     "data": {
      "text/html": [
       "\n",
       "              <p>\n",
       "                  Progress: 100% Complete\n",
       "              <p/>            \n",
       "              <progress\n",
       "                  value='60'\n",
       "                  max='60',\n",
       "                  style='width: 25%',\n",
       "              >\n",
       "                  60\n",
       "              </progress>\n",
       "\n",
       "    "
      ],
      "text/plain": [
       "<IPython.core.display.HTML object>"
      ]
     },
     "metadata": {},
     "output_type": "display_data"
    },
    {
     "name": "stdout",
     "output_type": "stream",
     "text": [
      "*** Feature extraction started ***\n",
      "60\n"
     ]
    },
    {
     "name": "stderr",
     "output_type": "stream",
     "text": [
      "C:\\Users\\Jonathan\\AppData\\Local\\Temp\\ipykernel_8824\\591833966.py:14: UserWarning: Using default sampling frequency set in configuration file.\n",
      "  wx_extracted_features = tsfel.time_series_features_extractor(cfg, df['wx'], windows_size=100)\n"
     ]
    },
    {
     "data": {
      "text/html": [
       "\n",
       "              <p>\n",
       "                  Progress: 100% Complete\n",
       "              <p/>            \n",
       "              <progress\n",
       "                  value='60'\n",
       "                  max='60',\n",
       "                  style='width: 25%',\n",
       "              >\n",
       "                  60\n",
       "              </progress>\n",
       "\n",
       "    "
      ],
      "text/plain": [
       "<IPython.core.display.HTML object>"
      ]
     },
     "metadata": {},
     "output_type": "display_data"
    },
    {
     "name": "stdout",
     "output_type": "stream",
     "text": [
      "*** Feature extraction started ***\n",
      "60\n"
     ]
    },
    {
     "name": "stderr",
     "output_type": "stream",
     "text": [
      "C:\\Users\\Jonathan\\AppData\\Local\\Temp\\ipykernel_8824\\591833966.py:15: UserWarning: Using default sampling frequency set in configuration file.\n",
      "  wy_extracted_features = tsfel.time_series_features_extractor(cfg, df['wy'], windows_size=100)\n"
     ]
    },
    {
     "data": {
      "text/html": [
       "\n",
       "              <p>\n",
       "                  Progress: 100% Complete\n",
       "              <p/>            \n",
       "              <progress\n",
       "                  value='60'\n",
       "                  max='60',\n",
       "                  style='width: 25%',\n",
       "              >\n",
       "                  60\n",
       "              </progress>\n",
       "\n",
       "    "
      ],
      "text/plain": [
       "<IPython.core.display.HTML object>"
      ]
     },
     "metadata": {},
     "output_type": "display_data"
    },
    {
     "name": "stdout",
     "output_type": "stream",
     "text": [
      "*** Feature extraction started ***\n",
      "60\n"
     ]
    },
    {
     "name": "stderr",
     "output_type": "stream",
     "text": [
      "C:\\Users\\Jonathan\\AppData\\Local\\Temp\\ipykernel_8824\\591833966.py:16: UserWarning: Using default sampling frequency set in configuration file.\n",
      "  wz_extracted_features = tsfel.time_series_features_extractor(cfg, df['wz'], windows_size=100)\n"
     ]
    },
    {
     "data": {
      "text/html": [
       "\n",
       "              <p>\n",
       "                  Progress: 100% Complete\n",
       "              <p/>            \n",
       "              <progress\n",
       "                  value='60'\n",
       "                  max='60',\n",
       "                  style='width: 25%',\n",
       "              >\n",
       "                  60\n",
       "              </progress>\n",
       "\n",
       "    "
      ],
      "text/plain": [
       "<IPython.core.display.HTML object>"
      ]
     },
     "metadata": {},
     "output_type": "display_data"
    },
    {
     "name": "stdout",
     "output_type": "stream",
     "text": [
      "   Caida  0_FFT mean coefficient_0  0_FFT mean coefficient_1  \\\n",
      "0      1                  0.079707                  3.776364   \n",
      "\n",
      "   0_FFT mean coefficient_2  0_FFT mean coefficient_3  \\\n",
      "0                  2.950775                   1.63411   \n",
      "\n",
      "   0_FFT mean coefficient_4  0_FFT mean coefficient_5  \\\n",
      "0                  1.073026                  0.506738   \n",
      "\n",
      "   0_FFT mean coefficient_6  0_FFT mean coefficient_7  \\\n",
      "0                  0.339719                  0.272104   \n",
      "\n",
      "   0_FFT mean coefficient_8  ...  0_Median diff  0_Negative turning points  \\\n",
      "0                  0.172514  ...            0.0                        4.0   \n",
      "\n",
      "   0_Neighbourhood peaks  0_Peak to peak distance  0_Positive turning points  \\\n",
      "0                    1.0                  11.1525                        3.0   \n",
      "\n",
      "   0_Signal distance   0_Slope  0_Sum absolute diff  0_Total energy  \\\n",
      "0       84046.556898  0.000002             441.1648       26.812806   \n",
      "\n",
      "   0_Zero crossing rate  \n",
      "0                1247.0  \n",
      "\n",
      "[1 rows x 2341 columns]\n",
      "*** Feature extraction started ***\n",
      "60\n"
     ]
    },
    {
     "name": "stderr",
     "output_type": "stream",
     "text": [
      "C:\\Users\\Jonathan\\AppData\\Local\\Temp\\ipykernel_8824\\591833966.py:10: UserWarning: Using default sampling frequency set in configuration file.\n",
      "  ax_extracted_features = tsfel.time_series_features_extractor(cfg, df['ax'], windows_size=100)\n"
     ]
    },
    {
     "data": {
      "text/html": [
       "\n",
       "              <p>\n",
       "                  Progress: 100% Complete\n",
       "              <p/>            \n",
       "              <progress\n",
       "                  value='60'\n",
       "                  max='60',\n",
       "                  style='width: 25%',\n",
       "              >\n",
       "                  60\n",
       "              </progress>\n",
       "\n",
       "    "
      ],
      "text/plain": [
       "<IPython.core.display.HTML object>"
      ]
     },
     "metadata": {},
     "output_type": "display_data"
    },
    {
     "name": "stdout",
     "output_type": "stream",
     "text": [
      "*** Feature extraction started ***\n",
      "60\n"
     ]
    },
    {
     "name": "stderr",
     "output_type": "stream",
     "text": [
      "C:\\Users\\Jonathan\\AppData\\Local\\Temp\\ipykernel_8824\\591833966.py:11: UserWarning: Using default sampling frequency set in configuration file.\n",
      "  ay_extracted_features = tsfel.time_series_features_extractor(cfg, df['ay'], windows_size=100)\n"
     ]
    },
    {
     "data": {
      "text/html": [
       "\n",
       "              <p>\n",
       "                  Progress: 100% Complete\n",
       "              <p/>            \n",
       "              <progress\n",
       "                  value='60'\n",
       "                  max='60',\n",
       "                  style='width: 25%',\n",
       "              >\n",
       "                  60\n",
       "              </progress>\n",
       "\n",
       "    "
      ],
      "text/plain": [
       "<IPython.core.display.HTML object>"
      ]
     },
     "metadata": {},
     "output_type": "display_data"
    },
    {
     "name": "stdout",
     "output_type": "stream",
     "text": [
      "*** Feature extraction started ***\n",
      "60\n"
     ]
    },
    {
     "name": "stderr",
     "output_type": "stream",
     "text": [
      "C:\\Users\\Jonathan\\AppData\\Local\\Temp\\ipykernel_8824\\591833966.py:12: UserWarning: Using default sampling frequency set in configuration file.\n",
      "  az_extracted_features = tsfel.time_series_features_extractor(cfg, df['az'], windows_size=100)\n"
     ]
    },
    {
     "data": {
      "text/html": [
       "\n",
       "              <p>\n",
       "                  Progress: 100% Complete\n",
       "              <p/>            \n",
       "              <progress\n",
       "                  value='60'\n",
       "                  max='60',\n",
       "                  style='width: 25%',\n",
       "              >\n",
       "                  60\n",
       "              </progress>\n",
       "\n",
       "    "
      ],
      "text/plain": [
       "<IPython.core.display.HTML object>"
      ]
     },
     "metadata": {},
     "output_type": "display_data"
    },
    {
     "name": "stdout",
     "output_type": "stream",
     "text": [
      "*** Feature extraction started ***\n",
      "60\n"
     ]
    },
    {
     "name": "stderr",
     "output_type": "stream",
     "text": [
      "C:\\Users\\Jonathan\\AppData\\Local\\Temp\\ipykernel_8824\\591833966.py:14: UserWarning: Using default sampling frequency set in configuration file.\n",
      "  wx_extracted_features = tsfel.time_series_features_extractor(cfg, df['wx'], windows_size=100)\n"
     ]
    },
    {
     "data": {
      "text/html": [
       "\n",
       "              <p>\n",
       "                  Progress: 100% Complete\n",
       "              <p/>            \n",
       "              <progress\n",
       "                  value='60'\n",
       "                  max='60',\n",
       "                  style='width: 25%',\n",
       "              >\n",
       "                  60\n",
       "              </progress>\n",
       "\n",
       "    "
      ],
      "text/plain": [
       "<IPython.core.display.HTML object>"
      ]
     },
     "metadata": {},
     "output_type": "display_data"
    },
    {
     "name": "stdout",
     "output_type": "stream",
     "text": [
      "*** Feature extraction started ***\n",
      "60\n"
     ]
    },
    {
     "name": "stderr",
     "output_type": "stream",
     "text": [
      "C:\\Users\\Jonathan\\AppData\\Local\\Temp\\ipykernel_8824\\591833966.py:15: UserWarning: Using default sampling frequency set in configuration file.\n",
      "  wy_extracted_features = tsfel.time_series_features_extractor(cfg, df['wy'], windows_size=100)\n"
     ]
    },
    {
     "data": {
      "text/html": [
       "\n",
       "              <p>\n",
       "                  Progress: 100% Complete\n",
       "              <p/>            \n",
       "              <progress\n",
       "                  value='60'\n",
       "                  max='60',\n",
       "                  style='width: 25%',\n",
       "              >\n",
       "                  60\n",
       "              </progress>\n",
       "\n",
       "    "
      ],
      "text/plain": [
       "<IPython.core.display.HTML object>"
      ]
     },
     "metadata": {},
     "output_type": "display_data"
    },
    {
     "name": "stdout",
     "output_type": "stream",
     "text": [
      "*** Feature extraction started ***\n",
      "60\n"
     ]
    },
    {
     "name": "stderr",
     "output_type": "stream",
     "text": [
      "C:\\Users\\Jonathan\\AppData\\Local\\Temp\\ipykernel_8824\\591833966.py:16: UserWarning: Using default sampling frequency set in configuration file.\n",
      "  wz_extracted_features = tsfel.time_series_features_extractor(cfg, df['wz'], windows_size=100)\n"
     ]
    },
    {
     "data": {
      "text/html": [
       "\n",
       "              <p>\n",
       "                  Progress: 100% Complete\n",
       "              <p/>            \n",
       "              <progress\n",
       "                  value='60'\n",
       "                  max='60',\n",
       "                  style='width: 25%',\n",
       "              >\n",
       "                  60\n",
       "              </progress>\n",
       "\n",
       "    "
      ],
      "text/plain": [
       "<IPython.core.display.HTML object>"
      ]
     },
     "metadata": {},
     "output_type": "display_data"
    },
    {
     "name": "stdout",
     "output_type": "stream",
     "text": [
      "*** Feature extraction started ***\n",
      "60\n"
     ]
    },
    {
     "name": "stderr",
     "output_type": "stream",
     "text": [
      "C:\\Users\\Jonathan\\AppData\\Local\\Temp\\ipykernel_8824\\591833966.py:10: UserWarning: Using default sampling frequency set in configuration file.\n",
      "  ax_extracted_features = tsfel.time_series_features_extractor(cfg, df['ax'], windows_size=100)\n"
     ]
    },
    {
     "data": {
      "text/html": [
       "\n",
       "              <p>\n",
       "                  Progress: 100% Complete\n",
       "              <p/>            \n",
       "              <progress\n",
       "                  value='60'\n",
       "                  max='60',\n",
       "                  style='width: 25%',\n",
       "              >\n",
       "                  60\n",
       "              </progress>\n",
       "\n",
       "    "
      ],
      "text/plain": [
       "<IPython.core.display.HTML object>"
      ]
     },
     "metadata": {},
     "output_type": "display_data"
    },
    {
     "name": "stdout",
     "output_type": "stream",
     "text": [
      "*** Feature extraction started ***\n",
      "60\n"
     ]
    },
    {
     "name": "stderr",
     "output_type": "stream",
     "text": [
      "C:\\Users\\Jonathan\\AppData\\Local\\Temp\\ipykernel_8824\\591833966.py:11: UserWarning: Using default sampling frequency set in configuration file.\n",
      "  ay_extracted_features = tsfel.time_series_features_extractor(cfg, df['ay'], windows_size=100)\n"
     ]
    },
    {
     "data": {
      "text/html": [
       "\n",
       "              <p>\n",
       "                  Progress: 100% Complete\n",
       "              <p/>            \n",
       "              <progress\n",
       "                  value='60'\n",
       "                  max='60',\n",
       "                  style='width: 25%',\n",
       "              >\n",
       "                  60\n",
       "              </progress>\n",
       "\n",
       "    "
      ],
      "text/plain": [
       "<IPython.core.display.HTML object>"
      ]
     },
     "metadata": {},
     "output_type": "display_data"
    },
    {
     "name": "stdout",
     "output_type": "stream",
     "text": [
      "*** Feature extraction started ***\n",
      "60\n"
     ]
    },
    {
     "name": "stderr",
     "output_type": "stream",
     "text": [
      "C:\\Users\\Jonathan\\AppData\\Local\\Temp\\ipykernel_8824\\591833966.py:12: UserWarning: Using default sampling frequency set in configuration file.\n",
      "  az_extracted_features = tsfel.time_series_features_extractor(cfg, df['az'], windows_size=100)\n"
     ]
    },
    {
     "data": {
      "text/html": [
       "\n",
       "              <p>\n",
       "                  Progress: 100% Complete\n",
       "              <p/>            \n",
       "              <progress\n",
       "                  value='60'\n",
       "                  max='60',\n",
       "                  style='width: 25%',\n",
       "              >\n",
       "                  60\n",
       "              </progress>\n",
       "\n",
       "    "
      ],
      "text/plain": [
       "<IPython.core.display.HTML object>"
      ]
     },
     "metadata": {},
     "output_type": "display_data"
    },
    {
     "name": "stdout",
     "output_type": "stream",
     "text": [
      "*** Feature extraction started ***\n",
      "60\n"
     ]
    },
    {
     "name": "stderr",
     "output_type": "stream",
     "text": [
      "C:\\Users\\Jonathan\\AppData\\Local\\Temp\\ipykernel_8824\\591833966.py:14: UserWarning: Using default sampling frequency set in configuration file.\n",
      "  wx_extracted_features = tsfel.time_series_features_extractor(cfg, df['wx'], windows_size=100)\n"
     ]
    },
    {
     "data": {
      "text/html": [
       "\n",
       "              <p>\n",
       "                  Progress: 100% Complete\n",
       "              <p/>            \n",
       "              <progress\n",
       "                  value='60'\n",
       "                  max='60',\n",
       "                  style='width: 25%',\n",
       "              >\n",
       "                  60\n",
       "              </progress>\n",
       "\n",
       "    "
      ],
      "text/plain": [
       "<IPython.core.display.HTML object>"
      ]
     },
     "metadata": {},
     "output_type": "display_data"
    },
    {
     "name": "stdout",
     "output_type": "stream",
     "text": [
      "*** Feature extraction started ***\n",
      "60\n"
     ]
    },
    {
     "name": "stderr",
     "output_type": "stream",
     "text": [
      "C:\\Users\\Jonathan\\AppData\\Local\\Temp\\ipykernel_8824\\591833966.py:15: UserWarning: Using default sampling frequency set in configuration file.\n",
      "  wy_extracted_features = tsfel.time_series_features_extractor(cfg, df['wy'], windows_size=100)\n"
     ]
    },
    {
     "data": {
      "text/html": [
       "\n",
       "              <p>\n",
       "                  Progress: 100% Complete\n",
       "              <p/>            \n",
       "              <progress\n",
       "                  value='60'\n",
       "                  max='60',\n",
       "                  style='width: 25%',\n",
       "              >\n",
       "                  60\n",
       "              </progress>\n",
       "\n",
       "    "
      ],
      "text/plain": [
       "<IPython.core.display.HTML object>"
      ]
     },
     "metadata": {},
     "output_type": "display_data"
    },
    {
     "name": "stdout",
     "output_type": "stream",
     "text": [
      "*** Feature extraction started ***\n",
      "60\n"
     ]
    },
    {
     "name": "stderr",
     "output_type": "stream",
     "text": [
      "C:\\Users\\Jonathan\\AppData\\Local\\Temp\\ipykernel_8824\\591833966.py:16: UserWarning: Using default sampling frequency set in configuration file.\n",
      "  wz_extracted_features = tsfel.time_series_features_extractor(cfg, df['wz'], windows_size=100)\n"
     ]
    },
    {
     "data": {
      "text/html": [
       "\n",
       "              <p>\n",
       "                  Progress: 100% Complete\n",
       "              <p/>            \n",
       "              <progress\n",
       "                  value='60'\n",
       "                  max='60',\n",
       "                  style='width: 25%',\n",
       "              >\n",
       "                  60\n",
       "              </progress>\n",
       "\n",
       "    "
      ],
      "text/plain": [
       "<IPython.core.display.HTML object>"
      ]
     },
     "metadata": {},
     "output_type": "display_data"
    },
    {
     "name": "stdout",
     "output_type": "stream",
     "text": [
      "   Caida  0_FFT mean coefficient_0  0_FFT mean coefficient_1  \\\n",
      "0      1                  0.132286                  5.455448   \n",
      "\n",
      "   0_FFT mean coefficient_2  0_FFT mean coefficient_3  \\\n",
      "0                  5.360226                  3.381122   \n",
      "\n",
      "   0_FFT mean coefficient_4  0_FFT mean coefficient_5  \\\n",
      "0                  1.831383                  1.326156   \n",
      "\n",
      "   0_FFT mean coefficient_6  0_FFT mean coefficient_7  \\\n",
      "0                  0.829915                  0.770553   \n",
      "\n",
      "   0_FFT mean coefficient_8  ...  0_Median diff  0_Negative turning points  \\\n",
      "0                   0.58756  ...            0.0                        2.0   \n",
      "\n",
      "   0_Neighbourhood peaks  0_Peak to peak distance  0_Positive turning points  \\\n",
      "0                    2.0                  10.6439                        3.0   \n",
      "\n",
      "   0_Signal distance   0_Slope  0_Sum absolute diff  0_Total energy  \\\n",
      "0       45632.109574  0.000013             298.7343        47.45328   \n",
      "\n",
      "   0_Zero crossing rate  \n",
      "0                 355.0  \n",
      "\n",
      "[1 rows x 2341 columns]\n",
      "*** Feature extraction started ***\n",
      "60\n"
     ]
    },
    {
     "name": "stderr",
     "output_type": "stream",
     "text": [
      "C:\\Users\\Jonathan\\AppData\\Local\\Temp\\ipykernel_8824\\591833966.py:10: UserWarning: Using default sampling frequency set in configuration file.\n",
      "  ax_extracted_features = tsfel.time_series_features_extractor(cfg, df['ax'], windows_size=100)\n"
     ]
    },
    {
     "data": {
      "text/html": [
       "\n",
       "              <p>\n",
       "                  Progress: 100% Complete\n",
       "              <p/>            \n",
       "              <progress\n",
       "                  value='60'\n",
       "                  max='60',\n",
       "                  style='width: 25%',\n",
       "              >\n",
       "                  60\n",
       "              </progress>\n",
       "\n",
       "    "
      ],
      "text/plain": [
       "<IPython.core.display.HTML object>"
      ]
     },
     "metadata": {},
     "output_type": "display_data"
    },
    {
     "name": "stdout",
     "output_type": "stream",
     "text": [
      "*** Feature extraction started ***\n",
      "60\n"
     ]
    },
    {
     "name": "stderr",
     "output_type": "stream",
     "text": [
      "C:\\Users\\Jonathan\\AppData\\Local\\Temp\\ipykernel_8824\\591833966.py:11: UserWarning: Using default sampling frequency set in configuration file.\n",
      "  ay_extracted_features = tsfel.time_series_features_extractor(cfg, df['ay'], windows_size=100)\n"
     ]
    },
    {
     "data": {
      "text/html": [
       "\n",
       "              <p>\n",
       "                  Progress: 100% Complete\n",
       "              <p/>            \n",
       "              <progress\n",
       "                  value='60'\n",
       "                  max='60',\n",
       "                  style='width: 25%',\n",
       "              >\n",
       "                  60\n",
       "              </progress>\n",
       "\n",
       "    "
      ],
      "text/plain": [
       "<IPython.core.display.HTML object>"
      ]
     },
     "metadata": {},
     "output_type": "display_data"
    },
    {
     "name": "stdout",
     "output_type": "stream",
     "text": [
      "*** Feature extraction started ***\n",
      "60\n"
     ]
    },
    {
     "name": "stderr",
     "output_type": "stream",
     "text": [
      "C:\\Users\\Jonathan\\AppData\\Local\\Temp\\ipykernel_8824\\591833966.py:12: UserWarning: Using default sampling frequency set in configuration file.\n",
      "  az_extracted_features = tsfel.time_series_features_extractor(cfg, df['az'], windows_size=100)\n"
     ]
    },
    {
     "data": {
      "text/html": [
       "\n",
       "              <p>\n",
       "                  Progress: 100% Complete\n",
       "              <p/>            \n",
       "              <progress\n",
       "                  value='60'\n",
       "                  max='60',\n",
       "                  style='width: 25%',\n",
       "              >\n",
       "                  60\n",
       "              </progress>\n",
       "\n",
       "    "
      ],
      "text/plain": [
       "<IPython.core.display.HTML object>"
      ]
     },
     "metadata": {},
     "output_type": "display_data"
    },
    {
     "name": "stdout",
     "output_type": "stream",
     "text": [
      "*** Feature extraction started ***\n",
      "60\n"
     ]
    },
    {
     "name": "stderr",
     "output_type": "stream",
     "text": [
      "C:\\Users\\Jonathan\\AppData\\Local\\Temp\\ipykernel_8824\\591833966.py:14: UserWarning: Using default sampling frequency set in configuration file.\n",
      "  wx_extracted_features = tsfel.time_series_features_extractor(cfg, df['wx'], windows_size=100)\n"
     ]
    },
    {
     "data": {
      "text/html": [
       "\n",
       "              <p>\n",
       "                  Progress: 100% Complete\n",
       "              <p/>            \n",
       "              <progress\n",
       "                  value='60'\n",
       "                  max='60',\n",
       "                  style='width: 25%',\n",
       "              >\n",
       "                  60\n",
       "              </progress>\n",
       "\n",
       "    "
      ],
      "text/plain": [
       "<IPython.core.display.HTML object>"
      ]
     },
     "metadata": {},
     "output_type": "display_data"
    },
    {
     "name": "stdout",
     "output_type": "stream",
     "text": [
      "*** Feature extraction started ***\n",
      "60\n"
     ]
    },
    {
     "name": "stderr",
     "output_type": "stream",
     "text": [
      "C:\\Users\\Jonathan\\AppData\\Local\\Temp\\ipykernel_8824\\591833966.py:15: UserWarning: Using default sampling frequency set in configuration file.\n",
      "  wy_extracted_features = tsfel.time_series_features_extractor(cfg, df['wy'], windows_size=100)\n"
     ]
    },
    {
     "data": {
      "text/html": [
       "\n",
       "              <p>\n",
       "                  Progress: 100% Complete\n",
       "              <p/>            \n",
       "              <progress\n",
       "                  value='60'\n",
       "                  max='60',\n",
       "                  style='width: 25%',\n",
       "              >\n",
       "                  60\n",
       "              </progress>\n",
       "\n",
       "    "
      ],
      "text/plain": [
       "<IPython.core.display.HTML object>"
      ]
     },
     "metadata": {},
     "output_type": "display_data"
    },
    {
     "name": "stdout",
     "output_type": "stream",
     "text": [
      "*** Feature extraction started ***\n",
      "60\n"
     ]
    },
    {
     "name": "stderr",
     "output_type": "stream",
     "text": [
      "C:\\Users\\Jonathan\\AppData\\Local\\Temp\\ipykernel_8824\\591833966.py:16: UserWarning: Using default sampling frequency set in configuration file.\n",
      "  wz_extracted_features = tsfel.time_series_features_extractor(cfg, df['wz'], windows_size=100)\n"
     ]
    },
    {
     "data": {
      "text/html": [
       "\n",
       "              <p>\n",
       "                  Progress: 100% Complete\n",
       "              <p/>            \n",
       "              <progress\n",
       "                  value='60'\n",
       "                  max='60',\n",
       "                  style='width: 25%',\n",
       "              >\n",
       "                  60\n",
       "              </progress>\n",
       "\n",
       "    "
      ],
      "text/plain": [
       "<IPython.core.display.HTML object>"
      ]
     },
     "metadata": {},
     "output_type": "display_data"
    },
    {
     "name": "stdout",
     "output_type": "stream",
     "text": [
      "*** Feature extraction started ***\n",
      "60\n"
     ]
    },
    {
     "name": "stderr",
     "output_type": "stream",
     "text": [
      "C:\\Users\\Jonathan\\AppData\\Local\\Temp\\ipykernel_8824\\591833966.py:10: UserWarning: Using default sampling frequency set in configuration file.\n",
      "  ax_extracted_features = tsfel.time_series_features_extractor(cfg, df['ax'], windows_size=100)\n"
     ]
    },
    {
     "data": {
      "text/html": [
       "\n",
       "              <p>\n",
       "                  Progress: 100% Complete\n",
       "              <p/>            \n",
       "              <progress\n",
       "                  value='60'\n",
       "                  max='60',\n",
       "                  style='width: 25%',\n",
       "              >\n",
       "                  60\n",
       "              </progress>\n",
       "\n",
       "    "
      ],
      "text/plain": [
       "<IPython.core.display.HTML object>"
      ]
     },
     "metadata": {},
     "output_type": "display_data"
    },
    {
     "name": "stdout",
     "output_type": "stream",
     "text": [
      "*** Feature extraction started ***\n",
      "60\n"
     ]
    },
    {
     "name": "stderr",
     "output_type": "stream",
     "text": [
      "C:\\Users\\Jonathan\\AppData\\Local\\Temp\\ipykernel_8824\\591833966.py:11: UserWarning: Using default sampling frequency set in configuration file.\n",
      "  ay_extracted_features = tsfel.time_series_features_extractor(cfg, df['ay'], windows_size=100)\n"
     ]
    },
    {
     "data": {
      "text/html": [
       "\n",
       "              <p>\n",
       "                  Progress: 100% Complete\n",
       "              <p/>            \n",
       "              <progress\n",
       "                  value='60'\n",
       "                  max='60',\n",
       "                  style='width: 25%',\n",
       "              >\n",
       "                  60\n",
       "              </progress>\n",
       "\n",
       "    "
      ],
      "text/plain": [
       "<IPython.core.display.HTML object>"
      ]
     },
     "metadata": {},
     "output_type": "display_data"
    },
    {
     "name": "stdout",
     "output_type": "stream",
     "text": [
      "*** Feature extraction started ***\n",
      "60\n"
     ]
    },
    {
     "name": "stderr",
     "output_type": "stream",
     "text": [
      "C:\\Users\\Jonathan\\AppData\\Local\\Temp\\ipykernel_8824\\591833966.py:12: UserWarning: Using default sampling frequency set in configuration file.\n",
      "  az_extracted_features = tsfel.time_series_features_extractor(cfg, df['az'], windows_size=100)\n"
     ]
    },
    {
     "data": {
      "text/html": [
       "\n",
       "              <p>\n",
       "                  Progress: 100% Complete\n",
       "              <p/>            \n",
       "              <progress\n",
       "                  value='60'\n",
       "                  max='60',\n",
       "                  style='width: 25%',\n",
       "              >\n",
       "                  60\n",
       "              </progress>\n",
       "\n",
       "    "
      ],
      "text/plain": [
       "<IPython.core.display.HTML object>"
      ]
     },
     "metadata": {},
     "output_type": "display_data"
    },
    {
     "name": "stdout",
     "output_type": "stream",
     "text": [
      "*** Feature extraction started ***\n",
      "60\n"
     ]
    },
    {
     "name": "stderr",
     "output_type": "stream",
     "text": [
      "C:\\Users\\Jonathan\\AppData\\Local\\Temp\\ipykernel_8824\\591833966.py:14: UserWarning: Using default sampling frequency set in configuration file.\n",
      "  wx_extracted_features = tsfel.time_series_features_extractor(cfg, df['wx'], windows_size=100)\n"
     ]
    },
    {
     "data": {
      "text/html": [
       "\n",
       "              <p>\n",
       "                  Progress: 100% Complete\n",
       "              <p/>            \n",
       "              <progress\n",
       "                  value='60'\n",
       "                  max='60',\n",
       "                  style='width: 25%',\n",
       "              >\n",
       "                  60\n",
       "              </progress>\n",
       "\n",
       "    "
      ],
      "text/plain": [
       "<IPython.core.display.HTML object>"
      ]
     },
     "metadata": {},
     "output_type": "display_data"
    },
    {
     "name": "stdout",
     "output_type": "stream",
     "text": [
      "*** Feature extraction started ***\n",
      "60\n"
     ]
    },
    {
     "name": "stderr",
     "output_type": "stream",
     "text": [
      "C:\\Users\\Jonathan\\AppData\\Local\\Temp\\ipykernel_8824\\591833966.py:15: UserWarning: Using default sampling frequency set in configuration file.\n",
      "  wy_extracted_features = tsfel.time_series_features_extractor(cfg, df['wy'], windows_size=100)\n"
     ]
    },
    {
     "data": {
      "text/html": [
       "\n",
       "              <p>\n",
       "                  Progress: 100% Complete\n",
       "              <p/>            \n",
       "              <progress\n",
       "                  value='60'\n",
       "                  max='60',\n",
       "                  style='width: 25%',\n",
       "              >\n",
       "                  60\n",
       "              </progress>\n",
       "\n",
       "    "
      ],
      "text/plain": [
       "<IPython.core.display.HTML object>"
      ]
     },
     "metadata": {},
     "output_type": "display_data"
    },
    {
     "name": "stdout",
     "output_type": "stream",
     "text": [
      "*** Feature extraction started ***\n",
      "60\n"
     ]
    },
    {
     "name": "stderr",
     "output_type": "stream",
     "text": [
      "C:\\Users\\Jonathan\\AppData\\Local\\Temp\\ipykernel_8824\\591833966.py:16: UserWarning: Using default sampling frequency set in configuration file.\n",
      "  wz_extracted_features = tsfel.time_series_features_extractor(cfg, df['wz'], windows_size=100)\n"
     ]
    },
    {
     "data": {
      "text/html": [
       "\n",
       "              <p>\n",
       "                  Progress: 100% Complete\n",
       "              <p/>            \n",
       "              <progress\n",
       "                  value='60'\n",
       "                  max='60',\n",
       "                  style='width: 25%',\n",
       "              >\n",
       "                  60\n",
       "              </progress>\n",
       "\n",
       "    "
      ],
      "text/plain": [
       "<IPython.core.display.HTML object>"
      ]
     },
     "metadata": {},
     "output_type": "display_data"
    },
    {
     "name": "stdout",
     "output_type": "stream",
     "text": [
      "   Caida  0_FFT mean coefficient_0  0_FFT mean coefficient_1  \\\n",
      "0      1                  0.246221                  8.267485   \n",
      "\n",
      "   0_FFT mean coefficient_2  0_FFT mean coefficient_3  \\\n",
      "0                  6.973996                  4.919505   \n",
      "\n",
      "   0_FFT mean coefficient_4  0_FFT mean coefficient_5  \\\n",
      "0                  3.118543                  1.122422   \n",
      "\n",
      "   0_FFT mean coefficient_6  0_FFT mean coefficient_7  \\\n",
      "0                  1.253275                  0.759075   \n",
      "\n",
      "   0_FFT mean coefficient_8  ...  0_Median diff  0_Negative turning points  \\\n",
      "0                  0.610748  ...            0.0                        2.0   \n",
      "\n",
      "   0_Neighbourhood peaks  0_Peak to peak distance  0_Positive turning points  \\\n",
      "0                    0.0                  10.9569                        1.0   \n",
      "\n",
      "   0_Signal distance   0_Slope  0_Sum absolute diff  0_Total energy  \\\n",
      "0       64242.593152  0.000006             483.1446       40.401717   \n",
      "\n",
      "   0_Zero crossing rate  \n",
      "0                 450.0  \n",
      "\n",
      "[1 rows x 2341 columns]\n",
      "   Caida  0_FFT mean coefficient_0  0_FFT mean coefficient_1  \\\n",
      "0      1                  0.132085                  3.042511   \n",
      "0      1                  0.027088                  0.499488   \n",
      "0      1                  0.395029                 14.259278   \n",
      "0      1                  0.044757                  1.292231   \n",
      "0      1                  0.056155                  0.481255   \n",
      "0      1                  0.268758                  9.193490   \n",
      "0      1                  0.132286                  5.455448   \n",
      "0      1                  0.246221                  8.267485   \n",
      "0      0                  0.036374                  1.345688   \n",
      "0      0                  0.040785                  1.465042   \n",
      "0      0                  0.003372                  0.084703   \n",
      "0      0                  0.277254                 11.576771   \n",
      "0      0                  0.128871                  6.271101   \n",
      "0      0                  0.079707                  3.776364   \n",
      "0      0                  0.132286                  5.455448   \n",
      "0      0                  0.246221                  8.267485   \n",
      "\n",
      "   0_FFT mean coefficient_2  0_FFT mean coefficient_3  \\\n",
      "0                  2.927502                  2.800327   \n",
      "0                  1.087891                  0.280965   \n",
      "0                  4.167078                  2.985040   \n",
      "0                  1.189343                  0.983739   \n",
      "0                  1.551824                  0.328492   \n",
      "0                  8.430774                  6.073243   \n",
      "0                  5.360226                  3.381122   \n",
      "0                  6.973996                  4.919505   \n",
      "0                  2.096778                  1.084538   \n",
      "0                  1.771576                  0.967041   \n",
      "0                  0.133097                  0.099345   \n",
      "0                  9.795423                  6.964320   \n",
      "0                  4.381905                  3.060295   \n",
      "0                  2.950775                  1.634110   \n",
      "0                  5.360226                  3.381122   \n",
      "0                  6.973996                  4.919505   \n",
      "\n",
      "   0_FFT mean coefficient_4  0_FFT mean coefficient_5  \\\n",
      "0                  2.091819                  1.102064   \n",
      "0                  0.437796                  0.355547   \n",
      "0                  3.010430                  1.862288   \n",
      "0                  0.739763                  0.459762   \n",
      "0                  0.871964                  0.482325   \n",
      "0                  2.515605                  1.928931   \n",
      "0                  1.831383                  1.326156   \n",
      "0                  3.118543                  1.122422   \n",
      "0                  0.523767                  0.418424   \n",
      "0                  0.434392                  0.252767   \n",
      "0                  0.093161                  0.092171   \n",
      "0                  3.988339                  1.745599   \n",
      "0                  2.425968                  1.168741   \n",
      "0                  1.073026                  0.506738   \n",
      "0                  1.831383                  1.326156   \n",
      "0                  3.118543                  1.122422   \n",
      "\n",
      "   0_FFT mean coefficient_6  0_FFT mean coefficient_7  \\\n",
      "0                  0.875626                  1.176028   \n",
      "0                  0.543260                  0.449776   \n",
      "0                  1.208616                  0.923239   \n",
      "0                  0.503173                  0.526052   \n",
      "0                  0.683241                  0.776766   \n",
      "0                  0.917391                  0.599522   \n",
      "0                  0.829915                  0.770553   \n",
      "0                  1.253275                  0.759075   \n",
      "0                  0.362394                  0.246103   \n",
      "0                  0.159093                  0.168926   \n",
      "0                  0.155388                  0.110688   \n",
      "0                  0.973364                  0.650867   \n",
      "0                  0.736871                  0.709498   \n",
      "0                  0.339719                  0.272104   \n",
      "0                  0.829915                  0.770553   \n",
      "0                  1.253275                  0.759075   \n",
      "\n",
      "   0_FFT mean coefficient_8  ...  0_Median diff  0_Negative turning points  \\\n",
      "0                  0.887498  ...            0.0                       30.0   \n",
      "0                  0.702400  ...            0.0                       11.0   \n",
      "0                  0.891855  ...            0.0                      145.0   \n",
      "0                  0.171102  ...            0.0                      174.0   \n",
      "0                  0.734411  ...            0.0                       19.0   \n",
      "0                  0.380318  ...            0.0                      161.0   \n",
      "0                  0.587560  ...            0.0                        2.0   \n",
      "0                  0.610748  ...            0.0                        2.0   \n",
      "0                  0.139397  ...            0.0                       76.0   \n",
      "0                  0.119041  ...            0.0                       96.0   \n",
      "0                  0.061674  ...            0.0                       12.0   \n",
      "0                  0.587193  ...            0.0                      146.0   \n",
      "0                  0.512140  ...            0.0                        0.0   \n",
      "0                  0.172514  ...            0.0                        4.0   \n",
      "0                  0.587560  ...            0.0                        2.0   \n",
      "0                  0.610748  ...            0.0                        2.0   \n",
      "\n",
      "   0_Neighbourhood peaks  0_Peak to peak distance  0_Positive turning points  \\\n",
      "0                   12.0                  16.5800                       26.0   \n",
      "0                   12.0                   2.4700                       18.0   \n",
      "0                   32.0                  10.0200                      133.0   \n",
      "0                   33.0                  12.1700                      170.0   \n",
      "0                   22.0                   2.1200                       27.0   \n",
      "0                   49.0                   7.9400                      183.0   \n",
      "0                    2.0                  10.6439                        3.0   \n",
      "0                    0.0                  10.9569                        1.0   \n",
      "0                   27.0                   8.1300                       95.0   \n",
      "0                   28.0                   5.3400                       79.0   \n",
      "0                   11.0                   1.8900                       15.0   \n",
      "0                   26.0                   7.7700                      138.0   \n",
      "0                    3.0                  10.9954                        3.0   \n",
      "0                    1.0                  11.1525                        3.0   \n",
      "0                    2.0                  10.6439                        3.0   \n",
      "0                    0.0                  10.9569                        1.0   \n",
      "\n",
      "   0_Signal distance       0_Slope  0_Sum absolute diff  0_Total energy  \\\n",
      "0       30772.740382  1.959646e-06             267.3200       36.060530   \n",
      "0       14564.629231 -8.298997e-07              95.3200        4.821618   \n",
      "0       30221.612917 -2.278738e-06             395.4400       81.343710   \n",
      "0       79885.731347  2.104734e-06             492.8400       29.625755   \n",
      "0       16932.717928 -4.184387e-07             141.9100        4.430320   \n",
      "0       44364.102298  4.207922e-06             456.5000       40.826123   \n",
      "0       45632.109574  1.304424e-05             298.7343       47.453280   \n",
      "0       64242.593152  6.439263e-06             483.1446       40.401717   \n",
      "0       78462.883387  1.012439e-06             333.3500       12.212537   \n",
      "0       74020.767163  1.302837e-06             364.3600        9.476861   \n",
      "0       17570.484142 -1.519825e-06             116.0500        6.205141   \n",
      "0       41351.373719  1.717026e-06             437.0200       43.091856   \n",
      "0       53139.250619  1.175687e-05             394.6433       45.685815   \n",
      "0       84046.556898  2.355085e-06             441.1648       26.812806   \n",
      "0       45632.109574  1.304424e-05             298.7343       47.453280   \n",
      "0       64242.593152  6.439263e-06             483.1446       40.401717   \n",
      "\n",
      "   0_Zero crossing rate  \n",
      "0                 422.0  \n",
      "0                 289.0  \n",
      "0                 839.0  \n",
      "0                1309.0  \n",
      "0                 483.0  \n",
      "0                1018.0  \n",
      "0                 355.0  \n",
      "0                 450.0  \n",
      "0                1663.0  \n",
      "0                1441.0  \n",
      "0                 247.0  \n",
      "0                1000.0  \n",
      "0                 644.0  \n",
      "0                1247.0  \n",
      "0                 355.0  \n",
      "0                 450.0  \n",
      "\n",
      "[16 rows x 2341 columns]\n"
     ]
    }
   ],
   "source": [
    "ds = pd.DataFrame()\n",
    "\n",
    "def readData(path, caida):\n",
    "    try:\n",
    "        df = pd.read_csv(path)\n",
    "        df = df.dropna()\n",
    "\n",
    "        cfg = tsfel.get_features_by_domain()\n",
    "\n",
    "        ax_extracted_features = tsfel.time_series_features_extractor(cfg, df['ax'], windows_size=100)\n",
    "        ay_extracted_features = tsfel.time_series_features_extractor(cfg, df['ay'], windows_size=100)\n",
    "        az_extracted_features = tsfel.time_series_features_extractor(cfg, df['az'], windows_size=100)\n",
    "\n",
    "        wx_extracted_features = tsfel.time_series_features_extractor(cfg, df['wx'], windows_size=100)\n",
    "        wy_extracted_features = tsfel.time_series_features_extractor(cfg, df['wy'], windows_size=100)\n",
    "        wz_extracted_features = tsfel.time_series_features_extractor(cfg, df['wz'], windows_size=100)\n",
    "\n",
    "        otroDataFrame = pd.DataFrame({'Caida': [caida]*ax_extracted_features.shape[0]})\n",
    "\n",
    "        return pd.concat([otroDataFrame, ax_extracted_features, ay_extracted_features, az_extracted_features, \n",
    "                wx_extracted_features, wy_extracted_features, wz_extracted_features], axis=1)\n",
    "    except:\n",
    "        pass\n",
    "\n",
    "pathCaida = []\n",
    "for (dirpath, dirnames, filenames) in walk('Caida/'):\n",
    "    pathCaida.extend(filenames)\n",
    "print(pathCaida)\n",
    "\n",
    "for x in pathCaida:\n",
    "    ds = pd.concat([ds, readData('Caida/' + x, 1)], axis=0)\n",
    "    print(readData('Caida/' + x, 1))\n",
    "print(ds)\n",
    "\n",
    "for x in pathCaida:\n",
    "    ds = pd.concat([ds, readData('No_Caida/' + x, 0)], axis=0)\n",
    "    print(readData('No_Caida/' + x, 1))\n",
    "print(ds)\n",
    "\n",
    "ds.to_csv(r'Caida.csv', index=False)"
   ]
  },
  {
   "cell_type": "markdown",
   "id": "ecb0a9ec",
   "metadata": {},
   "source": [
    "# Entrenamiento del modelo"
   ]
  },
  {
   "cell_type": "code",
   "execution_count": 319,
   "id": "8b07c510",
   "metadata": {},
   "outputs": [
    {
     "name": "stdout",
     "output_type": "stream",
     "text": [
      "(16, 2341)\n"
     ]
    },
    {
     "data": {
      "text/html": [
       "<div>\n",
       "<style scoped>\n",
       "    .dataframe tbody tr th:only-of-type {\n",
       "        vertical-align: middle;\n",
       "    }\n",
       "\n",
       "    .dataframe tbody tr th {\n",
       "        vertical-align: top;\n",
       "    }\n",
       "\n",
       "    .dataframe thead th {\n",
       "        text-align: right;\n",
       "    }\n",
       "</style>\n",
       "<table border=\"1\" class=\"dataframe\">\n",
       "  <thead>\n",
       "    <tr style=\"text-align: right;\">\n",
       "      <th></th>\n",
       "      <th>Caida</th>\n",
       "      <th>0_FFT mean coefficient_0</th>\n",
       "      <th>0_FFT mean coefficient_1</th>\n",
       "      <th>0_FFT mean coefficient_2</th>\n",
       "      <th>0_FFT mean coefficient_3</th>\n",
       "      <th>0_FFT mean coefficient_4</th>\n",
       "      <th>0_FFT mean coefficient_5</th>\n",
       "      <th>0_FFT mean coefficient_6</th>\n",
       "      <th>0_FFT mean coefficient_7</th>\n",
       "      <th>0_FFT mean coefficient_8</th>\n",
       "      <th>...</th>\n",
       "      <th>0_Median diff.5</th>\n",
       "      <th>0_Negative turning points.5</th>\n",
       "      <th>0_Neighbourhood peaks.5</th>\n",
       "      <th>0_Peak to peak distance.5</th>\n",
       "      <th>0_Positive turning points.5</th>\n",
       "      <th>0_Signal distance.5</th>\n",
       "      <th>0_Slope.5</th>\n",
       "      <th>0_Sum absolute diff.5</th>\n",
       "      <th>0_Total energy.5</th>\n",
       "      <th>0_Zero crossing rate.5</th>\n",
       "    </tr>\n",
       "  </thead>\n",
       "  <tbody>\n",
       "    <tr>\n",
       "      <th>0</th>\n",
       "      <td>1</td>\n",
       "      <td>0.132085</td>\n",
       "      <td>3.042511</td>\n",
       "      <td>2.927502</td>\n",
       "      <td>2.800327</td>\n",
       "      <td>2.091819</td>\n",
       "      <td>1.102064</td>\n",
       "      <td>0.875626</td>\n",
       "      <td>1.176028</td>\n",
       "      <td>0.887498</td>\n",
       "      <td>...</td>\n",
       "      <td>0.0</td>\n",
       "      <td>30.0</td>\n",
       "      <td>12.0</td>\n",
       "      <td>16.58</td>\n",
       "      <td>26.0</td>\n",
       "      <td>30772.740382</td>\n",
       "      <td>1.959646e-06</td>\n",
       "      <td>267.32</td>\n",
       "      <td>36.060530</td>\n",
       "      <td>422.0</td>\n",
       "    </tr>\n",
       "    <tr>\n",
       "      <th>1</th>\n",
       "      <td>1</td>\n",
       "      <td>0.027088</td>\n",
       "      <td>0.499488</td>\n",
       "      <td>1.087891</td>\n",
       "      <td>0.280965</td>\n",
       "      <td>0.437796</td>\n",
       "      <td>0.355547</td>\n",
       "      <td>0.543260</td>\n",
       "      <td>0.449776</td>\n",
       "      <td>0.702400</td>\n",
       "      <td>...</td>\n",
       "      <td>0.0</td>\n",
       "      <td>11.0</td>\n",
       "      <td>12.0</td>\n",
       "      <td>2.47</td>\n",
       "      <td>18.0</td>\n",
       "      <td>14564.629231</td>\n",
       "      <td>-8.298997e-07</td>\n",
       "      <td>95.32</td>\n",
       "      <td>4.821618</td>\n",
       "      <td>289.0</td>\n",
       "    </tr>\n",
       "    <tr>\n",
       "      <th>2</th>\n",
       "      <td>1</td>\n",
       "      <td>0.395029</td>\n",
       "      <td>14.259278</td>\n",
       "      <td>4.167078</td>\n",
       "      <td>2.985040</td>\n",
       "      <td>3.010430</td>\n",
       "      <td>1.862288</td>\n",
       "      <td>1.208616</td>\n",
       "      <td>0.923239</td>\n",
       "      <td>0.891855</td>\n",
       "      <td>...</td>\n",
       "      <td>0.0</td>\n",
       "      <td>145.0</td>\n",
       "      <td>32.0</td>\n",
       "      <td>10.02</td>\n",
       "      <td>133.0</td>\n",
       "      <td>30221.612917</td>\n",
       "      <td>-2.278738e-06</td>\n",
       "      <td>395.44</td>\n",
       "      <td>81.343710</td>\n",
       "      <td>839.0</td>\n",
       "    </tr>\n",
       "    <tr>\n",
       "      <th>3</th>\n",
       "      <td>1</td>\n",
       "      <td>0.044757</td>\n",
       "      <td>1.292231</td>\n",
       "      <td>1.189343</td>\n",
       "      <td>0.983739</td>\n",
       "      <td>0.739763</td>\n",
       "      <td>0.459762</td>\n",
       "      <td>0.503173</td>\n",
       "      <td>0.526052</td>\n",
       "      <td>0.171102</td>\n",
       "      <td>...</td>\n",
       "      <td>0.0</td>\n",
       "      <td>174.0</td>\n",
       "      <td>33.0</td>\n",
       "      <td>12.17</td>\n",
       "      <td>170.0</td>\n",
       "      <td>79885.731347</td>\n",
       "      <td>2.104734e-06</td>\n",
       "      <td>492.84</td>\n",
       "      <td>29.625755</td>\n",
       "      <td>1309.0</td>\n",
       "    </tr>\n",
       "    <tr>\n",
       "      <th>4</th>\n",
       "      <td>1</td>\n",
       "      <td>0.056155</td>\n",
       "      <td>0.481255</td>\n",
       "      <td>1.551824</td>\n",
       "      <td>0.328492</td>\n",
       "      <td>0.871964</td>\n",
       "      <td>0.482325</td>\n",
       "      <td>0.683241</td>\n",
       "      <td>0.776766</td>\n",
       "      <td>0.734411</td>\n",
       "      <td>...</td>\n",
       "      <td>0.0</td>\n",
       "      <td>19.0</td>\n",
       "      <td>22.0</td>\n",
       "      <td>2.12</td>\n",
       "      <td>27.0</td>\n",
       "      <td>16932.717928</td>\n",
       "      <td>-4.184387e-07</td>\n",
       "      <td>141.91</td>\n",
       "      <td>4.430320</td>\n",
       "      <td>483.0</td>\n",
       "    </tr>\n",
       "  </tbody>\n",
       "</table>\n",
       "<p>5 rows × 2341 columns</p>\n",
       "</div>"
      ],
      "text/plain": [
       "   Caida  0_FFT mean coefficient_0  0_FFT mean coefficient_1  \\\n",
       "0      1                  0.132085                  3.042511   \n",
       "1      1                  0.027088                  0.499488   \n",
       "2      1                  0.395029                 14.259278   \n",
       "3      1                  0.044757                  1.292231   \n",
       "4      1                  0.056155                  0.481255   \n",
       "\n",
       "   0_FFT mean coefficient_2  0_FFT mean coefficient_3  \\\n",
       "0                  2.927502                  2.800327   \n",
       "1                  1.087891                  0.280965   \n",
       "2                  4.167078                  2.985040   \n",
       "3                  1.189343                  0.983739   \n",
       "4                  1.551824                  0.328492   \n",
       "\n",
       "   0_FFT mean coefficient_4  0_FFT mean coefficient_5  \\\n",
       "0                  2.091819                  1.102064   \n",
       "1                  0.437796                  0.355547   \n",
       "2                  3.010430                  1.862288   \n",
       "3                  0.739763                  0.459762   \n",
       "4                  0.871964                  0.482325   \n",
       "\n",
       "   0_FFT mean coefficient_6  0_FFT mean coefficient_7  \\\n",
       "0                  0.875626                  1.176028   \n",
       "1                  0.543260                  0.449776   \n",
       "2                  1.208616                  0.923239   \n",
       "3                  0.503173                  0.526052   \n",
       "4                  0.683241                  0.776766   \n",
       "\n",
       "   0_FFT mean coefficient_8  ...  0_Median diff.5  \\\n",
       "0                  0.887498  ...              0.0   \n",
       "1                  0.702400  ...              0.0   \n",
       "2                  0.891855  ...              0.0   \n",
       "3                  0.171102  ...              0.0   \n",
       "4                  0.734411  ...              0.0   \n",
       "\n",
       "   0_Negative turning points.5  0_Neighbourhood peaks.5  \\\n",
       "0                         30.0                     12.0   \n",
       "1                         11.0                     12.0   \n",
       "2                        145.0                     32.0   \n",
       "3                        174.0                     33.0   \n",
       "4                         19.0                     22.0   \n",
       "\n",
       "   0_Peak to peak distance.5  0_Positive turning points.5  \\\n",
       "0                      16.58                         26.0   \n",
       "1                       2.47                         18.0   \n",
       "2                      10.02                        133.0   \n",
       "3                      12.17                        170.0   \n",
       "4                       2.12                         27.0   \n",
       "\n",
       "   0_Signal distance.5     0_Slope.5  0_Sum absolute diff.5  0_Total energy.5  \\\n",
       "0         30772.740382  1.959646e-06                 267.32         36.060530   \n",
       "1         14564.629231 -8.298997e-07                  95.32          4.821618   \n",
       "2         30221.612917 -2.278738e-06                 395.44         81.343710   \n",
       "3         79885.731347  2.104734e-06                 492.84         29.625755   \n",
       "4         16932.717928 -4.184387e-07                 141.91          4.430320   \n",
       "\n",
       "   0_Zero crossing rate.5  \n",
       "0                   422.0  \n",
       "1                   289.0  \n",
       "2                   839.0  \n",
       "3                  1309.0  \n",
       "4                   483.0  \n",
       "\n",
       "[5 rows x 2341 columns]"
      ]
     },
     "execution_count": 319,
     "metadata": {},
     "output_type": "execute_result"
    }
   ],
   "source": [
    "data = pd.read_csv('Caida.csv')\n",
    "print(data.shape)\n",
    "data.head()"
   ]
  },
  {
   "cell_type": "code",
   "execution_count": 320,
   "id": "02ca9ba6",
   "metadata": {},
   "outputs": [],
   "source": [
    "X = data[data.columns[1:]]\n",
    "y = data['Caida']"
   ]
  },
  {
   "cell_type": "code",
   "execution_count": 327,
   "id": "64cf26cb",
   "metadata": {},
   "outputs": [],
   "source": [
    "x_train, x_test, y_train, y_test = train_test_split(X, y, test_size=0.3)\n",
    "\n",
    "\n",
    "x_train = x_train.astype(float)\n",
    "x_test = x_test.astype(float)\n",
    "\n",
    "scaler = StandardScaler().fit(x_train)\n",
    "x_train = scaler.transform(x_train)\n",
    "x_test = scaler.transform(x_test)"
   ]
  },
  {
   "cell_type": "markdown",
   "id": "019ae55b",
   "metadata": {},
   "source": [
    "# SVM "
   ]
  },
  {
   "cell_type": "code",
   "execution_count": 338,
   "id": "7003f226",
   "metadata": {},
   "outputs": [
    {
     "name": "stdout",
     "output_type": "stream",
     "text": [
      "SVM accuracy score:  0.6\n"
     ]
    }
   ],
   "source": [
    "model = svm.SVC(kernel='rbf', gamma='auto')\n",
    "model.fit(x_train, y_train)\n",
    "model_predictions = model.predict(x_test)\n",
    "\n",
    "print(\"SVM accuracy score: \", accuracy_score(y_test, model_predictions))"
   ]
  },
  {
   "cell_type": "markdown",
   "id": "5da823d6",
   "metadata": {},
   "source": [
    "# K-Nearest Neighbors"
   ]
  },
  {
   "cell_type": "code",
   "execution_count": 328,
   "id": "59acd6ad",
   "metadata": {},
   "outputs": [
    {
     "name": "stdout",
     "output_type": "stream",
     "text": [
      "K neighbors precision:  0.6\n"
     ]
    }
   ],
   "source": [
    "knn = KNeighborsClassifier(n_neighbors=5)\n",
    "knn.fit(x_train, y_train)\n",
    "knn_predictions = knn.predict(x_test)\n",
    "\n",
    "print(\"K neighbors accuracy score: \", accuracy_score(y_test, knn_predictions))"
   ]
  },
  {
   "cell_type": "markdown",
   "id": "1618d67c",
   "metadata": {},
   "source": [
    "# Naive Bayes"
   ]
  },
  {
   "cell_type": "code",
   "execution_count": 329,
   "id": "0ab38304",
   "metadata": {},
   "outputs": [
    {
     "name": "stdout",
     "output_type": "stream",
     "text": [
      "native bayes perecision:  0.8\n"
     ]
    }
   ],
   "source": [
    "native_bayes = GaussianNB()\n",
    "native_bayes.fit(x_train, y_train)\n",
    "native_bayes_predictions = native_bayes.predict(x_test)\n",
    "\n",
    "print(\"Naive bayes accuracy score: \", accuracy_score(y_test, native_bayes_predictions))"
   ]
  },
  {
   "cell_type": "markdown",
   "id": "d0de2339",
   "metadata": {},
   "source": [
    "# Decision tree Classifier"
   ]
  },
  {
   "cell_type": "code",
   "execution_count": 330,
   "id": "67fe1444",
   "metadata": {},
   "outputs": [
    {
     "name": "stdout",
     "output_type": "stream",
     "text": [
      "DecisionTree precision:  0.4\n"
     ]
    }
   ],
   "source": [
    "decisionTree = DecisionTreeClassifier(max_depth=20, random_state=2)\n",
    "decisionTree.fit(x_train, y_train)\n",
    "decisionTree_prediction = decisionTree.predict(x_test)\n",
    "\n",
    "print(\"DecisionTree accuracy score: \", accuracy_score(y_test, decisionTree_prediction))"
   ]
  },
  {
   "cell_type": "markdown",
   "id": "245bc76e",
   "metadata": {},
   "source": [
    "# Random Forest Classifier"
   ]
  },
  {
   "cell_type": "code",
   "execution_count": 331,
   "id": "f296b7c4",
   "metadata": {},
   "outputs": [
    {
     "name": "stdout",
     "output_type": "stream",
     "text": [
      "RandomForest precision:  0.6\n"
     ]
    }
   ],
   "source": [
    "randomForest = RandomForestClassifier(n_estimators=80, max_depth=20, random_state=2)\n",
    "randomForest.fit(x_train, y_train)\n",
    "randomForest_prediction = randomForest.predict(x_test)\n",
    "\n",
    "print(\"RandomForest accuracy score: \", accuracy_score(y_test, randomForest_prediction))"
   ]
  }
 ],
 "metadata": {
  "kernelspec": {
   "display_name": "Python 3 (ipykernel)",
   "language": "python",
   "name": "python3"
  },
  "language_info": {
   "codemirror_mode": {
    "name": "ipython",
    "version": 3
   },
   "file_extension": ".py",
   "mimetype": "text/x-python",
   "name": "python",
   "nbconvert_exporter": "python",
   "pygments_lexer": "ipython3",
   "version": "3.10.2"
  }
 },
 "nbformat": 4,
 "nbformat_minor": 5
}
